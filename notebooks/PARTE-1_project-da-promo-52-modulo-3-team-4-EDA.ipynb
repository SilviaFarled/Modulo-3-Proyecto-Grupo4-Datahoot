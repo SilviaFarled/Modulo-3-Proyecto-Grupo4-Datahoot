{
 "cells": [
  {
   "cell_type": "markdown",
   "id": "d86f2e57",
   "metadata": {},
   "source": [
    "## **PROYECTO MÓDULO 3: Optimización de Talento**"
   ]
  },
  {
   "cell_type": "markdown",
   "id": "93d9abbf",
   "metadata": {},
   "source": [
    "A partir de un CSV con datos de la empresa debemos tratar los datos siguiendo los siguientes pasos:\n",
    "1. Averiguar por qué se han marchado las empleadas/os de la empresa.\n",
    "2. Si queremos más información o pistas podemos preguntar.\n",
    "3. FASES: \n",
    "    1. Hacer un EDA\n",
    "    2. Transformar los datos (limpieza de nulos, normalización, etc.)\n",
    "    3. Visualización de datos (hacer gráficas en Python). \n",
    "    4. BONUS: Diseño de base de datos e insertar los datos en SQL. \n",
    "    5. BONUS: Creación de ETL, hacer funciones para automatizar el proceso. \n",
    "    6. Hacer una presentación:\n",
    "        - **Introducción, objetivos, pasos y organización**\n",
    "        - Parte central: **análisis de las gráficas, tablas...**\n",
    "        - **¿Qué info podemos obtener de estos? ¿Consejos para la empresa? ¿Mejoras? ¿Encontramos correlación entre variables?**\n",
    "        - **Retos y soluciones**\n",
    "        - **Conclusiones**\n",
    "4. Aplicar metodología Agile y Scrum. Tener en cuenta a la clienta final: **Product Owner**\n"
   ]
  },
  {
   "cell_type": "markdown",
   "id": "410aa14e",
   "metadata": {},
   "source": [
    "### **FASE 1: EDA**"
   ]
  },
  {
   "cell_type": "code",
   "execution_count": 1,
   "id": "f213abbc",
   "metadata": {},
   "outputs": [],
   "source": [
    "#Importar librerías\n",
    "import pandas as pd\n",
    "import numpy as np "
   ]
  },
  {
   "cell_type": "code",
   "execution_count": 2,
   "id": "9b4ea340",
   "metadata": {},
   "outputs": [],
   "source": [
    "#Configuración de la visualización del DataFrame\n",
    "pd.set_option('display.max_rows', None)\n",
    "pd.set_option('display.max_columns', None)"
   ]
  },
  {
   "cell_type": "code",
   "execution_count": 3,
   "id": "07e1ff9a",
   "metadata": {},
   "outputs": [],
   "source": [
    "#Lectura del CSV y transformación a DataFrame (df)\n",
    "df=pd.read_csv(\"HR RAW DATA.csv\", index_col =0)"
   ]
  },
  {
   "cell_type": "code",
   "execution_count": 10,
   "id": "a40ba021",
   "metadata": {},
   "outputs": [],
   "source": [
    "#Exploratory Data Analysis (EDA):\n",
    "# Examinar y visualizar los datos de manera sistemática con el objetivo de descubrir patrones,\n",
    "# identificar tendencias, detectar valores atípicos y extraer información relevante.\n",
    "\n",
    "def eda_basico(df):\n",
    "    print(\"🔍 Primeras filas del DataFrame:\")\n",
    "    display(df.head())\n",
    "    print(\"📐 Dimensiones:\")\n",
    "    print(df.shape , \"\\n\")\n",
    "    print(\"🧠 Información general:\")\n",
    "    display(df.info())\n",
    "    print(\"📊 Valores distintos por columna\")\n",
    "    for column in df.columns:\n",
    "        display(df[column].value_counts())\n",
    "    print('🌑Nombre de las columnas:')\n",
    "    display(df.columns)\n",
    "    print(\"📊 Tipos de datos por columna:\")\n",
    "    print(df.dtypes, \"\\n\")\n",
    "    print(\"📉 Descripción de columnas numéricas:\")\n",
    "    display(df.describe())\n",
    "    print(\"🔤 Descripción de columnas categóricas:\")\n",
    "    display(df.describe(include=['O']))\n",
    "    print(\"🚫 Valores nulos por columna:\")\n",
    "    display(df.isnull().sum())\n",
    "    print(\"📎 Filas duplicadas:\")\n",
    "    dup_count = df.duplicated().sum()\n",
    "    print(f\"Duplicadas: {dup_count}\")\n",
    "    if dup_count > 0:\n",
    "        print(\"Ejemplo de duplicados:\")\n",
    "        print(df[df.duplicated()].head(), \"\\n\")\n",
    "    else:\n",
    "        print(\"No hay filas duplicadas.\\n\")"
   ]
  },
  {
   "cell_type": "code",
   "execution_count": 11,
   "id": "10123c8b",
   "metadata": {},
   "outputs": [
    {
     "name": "stdout",
     "output_type": "stream",
     "text": [
      "🔍 Primeras filas del DataFrame:\n"
     ]
    },
    {
     "data": {
      "application/vnd.microsoft.datawrangler.viewer.v0+json": {
       "columns": [
        {
         "name": "index",
         "rawType": "int64",
         "type": "integer"
        },
        {
         "name": "Age",
         "rawType": "object",
         "type": "string"
        },
        {
         "name": "Attrition",
         "rawType": "object",
         "type": "string"
        },
        {
         "name": "BusinessTravel",
         "rawType": "object",
         "type": "unknown"
        },
        {
         "name": "DailyRate",
         "rawType": "object",
         "type": "string"
        },
        {
         "name": "Department",
         "rawType": "object",
         "type": "unknown"
        },
        {
         "name": "DistanceFromHome",
         "rawType": "int64",
         "type": "integer"
        },
        {
         "name": "Education",
         "rawType": "int64",
         "type": "integer"
        },
        {
         "name": "EducationField",
         "rawType": "object",
         "type": "unknown"
        },
        {
         "name": "employeecount",
         "rawType": "int64",
         "type": "integer"
        },
        {
         "name": "employeenumber",
         "rawType": "object",
         "type": "unknown"
        },
        {
         "name": "EnvironmentSatisfaction",
         "rawType": "int64",
         "type": "integer"
        },
        {
         "name": "Gender",
         "rawType": "int64",
         "type": "integer"
        },
        {
         "name": "HourlyRate",
         "rawType": "object",
         "type": "string"
        },
        {
         "name": "JobInvolvement",
         "rawType": "int64",
         "type": "integer"
        },
        {
         "name": "JobLevel",
         "rawType": "int64",
         "type": "integer"
        },
        {
         "name": "JobRole",
         "rawType": "object",
         "type": "string"
        },
        {
         "name": "JobSatisfaction",
         "rawType": "int64",
         "type": "integer"
        },
        {
         "name": "MaritalStatus",
         "rawType": "object",
         "type": "unknown"
        },
        {
         "name": "MonthlyIncome",
         "rawType": "object",
         "type": "unknown"
        },
        {
         "name": "MonthlyRate",
         "rawType": "int64",
         "type": "integer"
        },
        {
         "name": "NUMCOMPANIESWORKED",
         "rawType": "int64",
         "type": "integer"
        },
        {
         "name": "Over18",
         "rawType": "object",
         "type": "unknown"
        },
        {
         "name": "OverTime",
         "rawType": "object",
         "type": "unknown"
        },
        {
         "name": "PercentSalaryHike",
         "rawType": "int64",
         "type": "integer"
        },
        {
         "name": "PerformanceRating",
         "rawType": "object",
         "type": "string"
        },
        {
         "name": "RelationshipSatisfaction",
         "rawType": "int64",
         "type": "integer"
        },
        {
         "name": "StandardHours",
         "rawType": "object",
         "type": "unknown"
        },
        {
         "name": "StockOptionLevel",
         "rawType": "int64",
         "type": "integer"
        },
        {
         "name": "TOTALWORKINGYEARS",
         "rawType": "object",
         "type": "unknown"
        },
        {
         "name": "TrainingTimesLastYear",
         "rawType": "int64",
         "type": "integer"
        },
        {
         "name": "WORKLIFEBALANCE",
         "rawType": "object",
         "type": "unknown"
        },
        {
         "name": "YearsAtCompany",
         "rawType": "int64",
         "type": "integer"
        },
        {
         "name": "YearsInCurrentRole",
         "rawType": "object",
         "type": "unknown"
        },
        {
         "name": "YearsSinceLastPromotion",
         "rawType": "int64",
         "type": "integer"
        },
        {
         "name": "YEARSWITHCURRMANAGER",
         "rawType": "int64",
         "type": "integer"
        },
        {
         "name": "SameAsMonthlyIncome",
         "rawType": "object",
         "type": "unknown"
        },
        {
         "name": "DateBirth",
         "rawType": "int64",
         "type": "integer"
        },
        {
         "name": "Salary",
         "rawType": "object",
         "type": "string"
        },
        {
         "name": "RoleDepartament",
         "rawType": "object",
         "type": "unknown"
        },
        {
         "name": "NUMBERCHILDREN",
         "rawType": "float64",
         "type": "float"
        },
        {
         "name": "RemoteWork",
         "rawType": "object",
         "type": "string"
        }
       ],
       "ref": "dd946de7-b07b-4b0a-a471-bfa23714062d",
       "rows": [
        [
         "0",
         "51",
         "No",
         null,
         "684,0$",
         null,
         "6",
         "3",
         null,
         "1",
         "162,0",
         "1",
         "0",
         "51",
         "3",
         "5",
         " resEArch DIREcToR ",
         "3",
         null,
         "19537,0",
         "6462",
         "7",
         "Y",
         "No",
         "13",
         "3,0",
         "3",
         null,
         "0",
         null,
         "5",
         "3,0",
         "20",
         null,
         "15",
         "15",
         "19537,0",
         "1972",
         "1000000000$",
         null,
         null,
         "Yes"
        ],
        [
         "1",
         "52",
         "No",
         null,
         "699,0$",
         null,
         "1",
         "4",
         "Life Sciences",
         "1",
         "259,0",
         "3",
         "0",
         "65",
         "2",
         "5",
         " ManAGeR ",
         "3",
         null,
         "19999,0",
         "5678",
         "0",
         null,
         null,
         "14",
         "3,0",
         "1",
         null,
         "1",
         "34,0",
         "5",
         "3,0",
         "33",
         null,
         "11",
         "9",
         "19999,0",
         "1971",
         "1000000000$",
         null,
         null,
         "1"
        ],
        [
         "2",
         "42",
         "No",
         "travel_rarely",
         "532,0$",
         " Research & Development ",
         "4",
         "2",
         "Technical Degree",
         "1",
         "319,0",
         "3",
         "0",
         "58",
         "3",
         "5",
         " ManaGER ",
         "4",
         "Married",
         "19232,0",
         "4933",
         "1",
         null,
         "No",
         "11",
         "3,0",
         "4",
         null,
         "0",
         "22,0",
         "3",
         null,
         "22",
         null,
         "11",
         "15",
         "19232,0",
         "1981",
         "1000000000$",
         " ManaGER  -  Research & Development ",
         null,
         "1"
        ],
        [
         "3",
         "47",
         "No",
         "travel_rarely",
         "359,0$",
         null,
         "2",
         "4",
         "Medical",
         "1",
         null,
         "1",
         "1",
         "82",
         "3",
         "4",
         " ReseArCH DIrECtOr ",
         "3",
         "Married",
         "17169,0",
         "26703",
         "3",
         "Y",
         null,
         "19",
         "3,0",
         "2",
         null,
         "2",
         null,
         "2",
         null,
         "20",
         null,
         "5",
         "6",
         "17169,0",
         "1976",
         "1000000000$",
         null,
         null,
         "False"
        ],
        [
         "4",
         "46",
         "No",
         null,
         "1319,0$",
         null,
         "3",
         "3",
         "Technical Degree",
         "1",
         null,
         "1",
         "1",
         "45",
         "4",
         "4",
         " sAleS EXECUtIve ",
         "1",
         "Divorced",
         null,
         "7739",
         "2",
         "Y",
         "No",
         "12",
         "3,0",
         "4",
         null,
         "1",
         null,
         "5",
         "3,0",
         "19",
         null,
         "2",
         "8",
         null,
         "1977",
         "1000000000$",
         null,
         null,
         "0"
        ]
       ],
       "shape": {
        "columns": 41,
        "rows": 5
       }
      },
      "text/html": [
       "<div>\n",
       "<style scoped>\n",
       "    .dataframe tbody tr th:only-of-type {\n",
       "        vertical-align: middle;\n",
       "    }\n",
       "\n",
       "    .dataframe tbody tr th {\n",
       "        vertical-align: top;\n",
       "    }\n",
       "\n",
       "    .dataframe thead th {\n",
       "        text-align: right;\n",
       "    }\n",
       "</style>\n",
       "<table border=\"1\" class=\"dataframe\">\n",
       "  <thead>\n",
       "    <tr style=\"text-align: right;\">\n",
       "      <th></th>\n",
       "      <th>Age</th>\n",
       "      <th>Attrition</th>\n",
       "      <th>BusinessTravel</th>\n",
       "      <th>DailyRate</th>\n",
       "      <th>Department</th>\n",
       "      <th>DistanceFromHome</th>\n",
       "      <th>Education</th>\n",
       "      <th>EducationField</th>\n",
       "      <th>employeecount</th>\n",
       "      <th>employeenumber</th>\n",
       "      <th>EnvironmentSatisfaction</th>\n",
       "      <th>Gender</th>\n",
       "      <th>HourlyRate</th>\n",
       "      <th>JobInvolvement</th>\n",
       "      <th>JobLevel</th>\n",
       "      <th>JobRole</th>\n",
       "      <th>JobSatisfaction</th>\n",
       "      <th>MaritalStatus</th>\n",
       "      <th>MonthlyIncome</th>\n",
       "      <th>MonthlyRate</th>\n",
       "      <th>NUMCOMPANIESWORKED</th>\n",
       "      <th>Over18</th>\n",
       "      <th>OverTime</th>\n",
       "      <th>PercentSalaryHike</th>\n",
       "      <th>PerformanceRating</th>\n",
       "      <th>RelationshipSatisfaction</th>\n",
       "      <th>StandardHours</th>\n",
       "      <th>StockOptionLevel</th>\n",
       "      <th>TOTALWORKINGYEARS</th>\n",
       "      <th>TrainingTimesLastYear</th>\n",
       "      <th>WORKLIFEBALANCE</th>\n",
       "      <th>YearsAtCompany</th>\n",
       "      <th>YearsInCurrentRole</th>\n",
       "      <th>YearsSinceLastPromotion</th>\n",
       "      <th>YEARSWITHCURRMANAGER</th>\n",
       "      <th>SameAsMonthlyIncome</th>\n",
       "      <th>DateBirth</th>\n",
       "      <th>Salary</th>\n",
       "      <th>RoleDepartament</th>\n",
       "      <th>NUMBERCHILDREN</th>\n",
       "      <th>RemoteWork</th>\n",
       "    </tr>\n",
       "  </thead>\n",
       "  <tbody>\n",
       "    <tr>\n",
       "      <th>0</th>\n",
       "      <td>51</td>\n",
       "      <td>No</td>\n",
       "      <td>NaN</td>\n",
       "      <td>684,0$</td>\n",
       "      <td>NaN</td>\n",
       "      <td>6</td>\n",
       "      <td>3</td>\n",
       "      <td>NaN</td>\n",
       "      <td>1</td>\n",
       "      <td>162,0</td>\n",
       "      <td>1</td>\n",
       "      <td>0</td>\n",
       "      <td>51</td>\n",
       "      <td>3</td>\n",
       "      <td>5</td>\n",
       "      <td>resEArch DIREcToR</td>\n",
       "      <td>3</td>\n",
       "      <td>NaN</td>\n",
       "      <td>19537,0</td>\n",
       "      <td>6462</td>\n",
       "      <td>7</td>\n",
       "      <td>Y</td>\n",
       "      <td>No</td>\n",
       "      <td>13</td>\n",
       "      <td>3,0</td>\n",
       "      <td>3</td>\n",
       "      <td>NaN</td>\n",
       "      <td>0</td>\n",
       "      <td>NaN</td>\n",
       "      <td>5</td>\n",
       "      <td>3,0</td>\n",
       "      <td>20</td>\n",
       "      <td>NaN</td>\n",
       "      <td>15</td>\n",
       "      <td>15</td>\n",
       "      <td>19537,0</td>\n",
       "      <td>1972</td>\n",
       "      <td>1000000000$</td>\n",
       "      <td>NaN</td>\n",
       "      <td>NaN</td>\n",
       "      <td>Yes</td>\n",
       "    </tr>\n",
       "    <tr>\n",
       "      <th>1</th>\n",
       "      <td>52</td>\n",
       "      <td>No</td>\n",
       "      <td>NaN</td>\n",
       "      <td>699,0$</td>\n",
       "      <td>NaN</td>\n",
       "      <td>1</td>\n",
       "      <td>4</td>\n",
       "      <td>Life Sciences</td>\n",
       "      <td>1</td>\n",
       "      <td>259,0</td>\n",
       "      <td>3</td>\n",
       "      <td>0</td>\n",
       "      <td>65</td>\n",
       "      <td>2</td>\n",
       "      <td>5</td>\n",
       "      <td>ManAGeR</td>\n",
       "      <td>3</td>\n",
       "      <td>NaN</td>\n",
       "      <td>19999,0</td>\n",
       "      <td>5678</td>\n",
       "      <td>0</td>\n",
       "      <td>NaN</td>\n",
       "      <td>NaN</td>\n",
       "      <td>14</td>\n",
       "      <td>3,0</td>\n",
       "      <td>1</td>\n",
       "      <td>NaN</td>\n",
       "      <td>1</td>\n",
       "      <td>34,0</td>\n",
       "      <td>5</td>\n",
       "      <td>3,0</td>\n",
       "      <td>33</td>\n",
       "      <td>NaN</td>\n",
       "      <td>11</td>\n",
       "      <td>9</td>\n",
       "      <td>19999,0</td>\n",
       "      <td>1971</td>\n",
       "      <td>1000000000$</td>\n",
       "      <td>NaN</td>\n",
       "      <td>NaN</td>\n",
       "      <td>1</td>\n",
       "    </tr>\n",
       "    <tr>\n",
       "      <th>2</th>\n",
       "      <td>42</td>\n",
       "      <td>No</td>\n",
       "      <td>travel_rarely</td>\n",
       "      <td>532,0$</td>\n",
       "      <td>Research &amp; Development</td>\n",
       "      <td>4</td>\n",
       "      <td>2</td>\n",
       "      <td>Technical Degree</td>\n",
       "      <td>1</td>\n",
       "      <td>319,0</td>\n",
       "      <td>3</td>\n",
       "      <td>0</td>\n",
       "      <td>58</td>\n",
       "      <td>3</td>\n",
       "      <td>5</td>\n",
       "      <td>ManaGER</td>\n",
       "      <td>4</td>\n",
       "      <td>Married</td>\n",
       "      <td>19232,0</td>\n",
       "      <td>4933</td>\n",
       "      <td>1</td>\n",
       "      <td>NaN</td>\n",
       "      <td>No</td>\n",
       "      <td>11</td>\n",
       "      <td>3,0</td>\n",
       "      <td>4</td>\n",
       "      <td>NaN</td>\n",
       "      <td>0</td>\n",
       "      <td>22,0</td>\n",
       "      <td>3</td>\n",
       "      <td>NaN</td>\n",
       "      <td>22</td>\n",
       "      <td>NaN</td>\n",
       "      <td>11</td>\n",
       "      <td>15</td>\n",
       "      <td>19232,0</td>\n",
       "      <td>1981</td>\n",
       "      <td>1000000000$</td>\n",
       "      <td>ManaGER  -  Research &amp; Development</td>\n",
       "      <td>NaN</td>\n",
       "      <td>1</td>\n",
       "    </tr>\n",
       "    <tr>\n",
       "      <th>3</th>\n",
       "      <td>47</td>\n",
       "      <td>No</td>\n",
       "      <td>travel_rarely</td>\n",
       "      <td>359,0$</td>\n",
       "      <td>NaN</td>\n",
       "      <td>2</td>\n",
       "      <td>4</td>\n",
       "      <td>Medical</td>\n",
       "      <td>1</td>\n",
       "      <td>NaN</td>\n",
       "      <td>1</td>\n",
       "      <td>1</td>\n",
       "      <td>82</td>\n",
       "      <td>3</td>\n",
       "      <td>4</td>\n",
       "      <td>ReseArCH DIrECtOr</td>\n",
       "      <td>3</td>\n",
       "      <td>Married</td>\n",
       "      <td>17169,0</td>\n",
       "      <td>26703</td>\n",
       "      <td>3</td>\n",
       "      <td>Y</td>\n",
       "      <td>NaN</td>\n",
       "      <td>19</td>\n",
       "      <td>3,0</td>\n",
       "      <td>2</td>\n",
       "      <td>NaN</td>\n",
       "      <td>2</td>\n",
       "      <td>NaN</td>\n",
       "      <td>2</td>\n",
       "      <td>NaN</td>\n",
       "      <td>20</td>\n",
       "      <td>NaN</td>\n",
       "      <td>5</td>\n",
       "      <td>6</td>\n",
       "      <td>17169,0</td>\n",
       "      <td>1976</td>\n",
       "      <td>1000000000$</td>\n",
       "      <td>NaN</td>\n",
       "      <td>NaN</td>\n",
       "      <td>False</td>\n",
       "    </tr>\n",
       "    <tr>\n",
       "      <th>4</th>\n",
       "      <td>46</td>\n",
       "      <td>No</td>\n",
       "      <td>NaN</td>\n",
       "      <td>1319,0$</td>\n",
       "      <td>NaN</td>\n",
       "      <td>3</td>\n",
       "      <td>3</td>\n",
       "      <td>Technical Degree</td>\n",
       "      <td>1</td>\n",
       "      <td>NaN</td>\n",
       "      <td>1</td>\n",
       "      <td>1</td>\n",
       "      <td>45</td>\n",
       "      <td>4</td>\n",
       "      <td>4</td>\n",
       "      <td>sAleS EXECUtIve</td>\n",
       "      <td>1</td>\n",
       "      <td>Divorced</td>\n",
       "      <td>NaN</td>\n",
       "      <td>7739</td>\n",
       "      <td>2</td>\n",
       "      <td>Y</td>\n",
       "      <td>No</td>\n",
       "      <td>12</td>\n",
       "      <td>3,0</td>\n",
       "      <td>4</td>\n",
       "      <td>NaN</td>\n",
       "      <td>1</td>\n",
       "      <td>NaN</td>\n",
       "      <td>5</td>\n",
       "      <td>3,0</td>\n",
       "      <td>19</td>\n",
       "      <td>NaN</td>\n",
       "      <td>2</td>\n",
       "      <td>8</td>\n",
       "      <td>NaN</td>\n",
       "      <td>1977</td>\n",
       "      <td>1000000000$</td>\n",
       "      <td>NaN</td>\n",
       "      <td>NaN</td>\n",
       "      <td>0</td>\n",
       "    </tr>\n",
       "  </tbody>\n",
       "</table>\n",
       "</div>"
      ],
      "text/plain": [
       "  Age Attrition BusinessTravel DailyRate                Department  \\\n",
       "0  51        No            NaN    684,0$                       NaN   \n",
       "1  52        No            NaN    699,0$                       NaN   \n",
       "2  42        No  travel_rarely    532,0$   Research & Development    \n",
       "3  47        No  travel_rarely    359,0$                       NaN   \n",
       "4  46        No            NaN   1319,0$                       NaN   \n",
       "\n",
       "   DistanceFromHome  Education    EducationField  employeecount  \\\n",
       "0                 6          3               NaN              1   \n",
       "1                 1          4     Life Sciences              1   \n",
       "2                 4          2  Technical Degree              1   \n",
       "3                 2          4           Medical              1   \n",
       "4                 3          3  Technical Degree              1   \n",
       "\n",
       "  employeenumber  EnvironmentSatisfaction  Gender HourlyRate  JobInvolvement  \\\n",
       "0          162,0                        1       0         51               3   \n",
       "1          259,0                        3       0         65               2   \n",
       "2          319,0                        3       0         58               3   \n",
       "3            NaN                        1       1         82               3   \n",
       "4            NaN                        1       1         45               4   \n",
       "\n",
       "   JobLevel              JobRole  JobSatisfaction MaritalStatus MonthlyIncome  \\\n",
       "0         5   resEArch DIREcToR                 3           NaN       19537,0   \n",
       "1         5             ManAGeR                 3           NaN       19999,0   \n",
       "2         5             ManaGER                 4       Married       19232,0   \n",
       "3         4   ReseArCH DIrECtOr                 3       Married       17169,0   \n",
       "4         4     sAleS EXECUtIve                 1      Divorced           NaN   \n",
       "\n",
       "   MonthlyRate  NUMCOMPANIESWORKED Over18 OverTime  PercentSalaryHike  \\\n",
       "0         6462                   7      Y       No                 13   \n",
       "1         5678                   0    NaN      NaN                 14   \n",
       "2         4933                   1    NaN       No                 11   \n",
       "3        26703                   3      Y      NaN                 19   \n",
       "4         7739                   2      Y       No                 12   \n",
       "\n",
       "  PerformanceRating  RelationshipSatisfaction StandardHours  StockOptionLevel  \\\n",
       "0               3,0                         3           NaN                 0   \n",
       "1               3,0                         1           NaN                 1   \n",
       "2               3,0                         4           NaN                 0   \n",
       "3               3,0                         2           NaN                 2   \n",
       "4               3,0                         4           NaN                 1   \n",
       "\n",
       "  TOTALWORKINGYEARS  TrainingTimesLastYear WORKLIFEBALANCE  YearsAtCompany  \\\n",
       "0               NaN                      5             3,0              20   \n",
       "1              34,0                      5             3,0              33   \n",
       "2              22,0                      3             NaN              22   \n",
       "3               NaN                      2             NaN              20   \n",
       "4               NaN                      5             3,0              19   \n",
       "\n",
       "  YearsInCurrentRole  YearsSinceLastPromotion  YEARSWITHCURRMANAGER  \\\n",
       "0                NaN                       15                    15   \n",
       "1                NaN                       11                     9   \n",
       "2                NaN                       11                    15   \n",
       "3                NaN                        5                     6   \n",
       "4                NaN                        2                     8   \n",
       "\n",
       "  SameAsMonthlyIncome  DateBirth       Salary  \\\n",
       "0             19537,0       1972  1000000000$   \n",
       "1             19999,0       1971  1000000000$   \n",
       "2             19232,0       1981  1000000000$   \n",
       "3             17169,0       1976  1000000000$   \n",
       "4                 NaN       1977  1000000000$   \n",
       "\n",
       "                        RoleDepartament  NUMBERCHILDREN RemoteWork  \n",
       "0                                   NaN             NaN        Yes  \n",
       "1                                   NaN             NaN          1  \n",
       "2   ManaGER  -  Research & Development              NaN          1  \n",
       "3                                   NaN             NaN      False  \n",
       "4                                   NaN             NaN          0  "
      ]
     },
     "metadata": {},
     "output_type": "display_data"
    },
    {
     "name": "stdout",
     "output_type": "stream",
     "text": [
      "📐 Dimensiones:\n",
      "(1614, 41) \n",
      "\n",
      "🧠 Información general:\n",
      "<class 'pandas.core.frame.DataFrame'>\n",
      "Index: 1614 entries, 0 to 1613\n",
      "Data columns (total 41 columns):\n",
      " #   Column                    Non-Null Count  Dtype  \n",
      "---  ------                    --------------  -----  \n",
      " 0   Age                       1614 non-null   object \n",
      " 1   Attrition                 1614 non-null   object \n",
      " 2   BusinessTravel            842 non-null    object \n",
      " 3   DailyRate                 1614 non-null   object \n",
      " 4   Department                302 non-null    object \n",
      " 5   DistanceFromHome          1614 non-null   int64  \n",
      " 6   Education                 1614 non-null   int64  \n",
      " 7   EducationField            869 non-null    object \n",
      " 8   employeecount             1614 non-null   int64  \n",
      " 9   employeenumber            1183 non-null   object \n",
      " 10  EnvironmentSatisfaction   1614 non-null   int64  \n",
      " 11  Gender                    1614 non-null   int64  \n",
      " 12  HourlyRate                1614 non-null   object \n",
      " 13  JobInvolvement            1614 non-null   int64  \n",
      " 14  JobLevel                  1614 non-null   int64  \n",
      " 15  JobRole                   1614 non-null   object \n",
      " 16  JobSatisfaction           1614 non-null   int64  \n",
      " 17  MaritalStatus             963 non-null    object \n",
      " 18  MonthlyIncome             771 non-null    object \n",
      " 19  MonthlyRate               1614 non-null   int64  \n",
      " 20  NUMCOMPANIESWORKED        1614 non-null   int64  \n",
      " 21  Over18                    713 non-null    object \n",
      " 22  OverTime                  938 non-null    object \n",
      " 23  PercentSalaryHike         1614 non-null   int64  \n",
      " 24  PerformanceRating         1419 non-null   object \n",
      " 25  RelationshipSatisfaction  1614 non-null   int64  \n",
      " 26  StandardHours             419 non-null    object \n",
      " 27  StockOptionLevel          1614 non-null   int64  \n",
      " 28  TOTALWORKINGYEARS         1088 non-null   object \n",
      " 29  TrainingTimesLastYear     1614 non-null   int64  \n",
      " 30  WORKLIFEBALANCE           1506 non-null   object \n",
      " 31  YearsAtCompany            1614 non-null   int64  \n",
      " 32  YearsInCurrentRole        34 non-null     object \n",
      " 33  YearsSinceLastPromotion   1614 non-null   int64  \n",
      " 34  YEARSWITHCURRMANAGER      1614 non-null   int64  \n",
      " 35  SameAsMonthlyIncome       771 non-null    object \n",
      " 36  DateBirth                 1614 non-null   int64  \n",
      " 37  Salary                    1614 non-null   object \n",
      " 38  RoleDepartament           302 non-null    object \n",
      " 39  NUMBERCHILDREN            0 non-null      float64\n",
      " 40  RemoteWork                1614 non-null   object \n",
      "dtypes: float64(1), int64(18), object(22)\n",
      "memory usage: 529.6+ KB\n"
     ]
    },
    {
     "data": {
      "text/plain": [
       "None"
      ]
     },
     "metadata": {},
     "output_type": "display_data"
    },
    {
     "name": "stdout",
     "output_type": "stream",
     "text": [
      "📊 Valores distintos por columna\n"
     ]
    },
    {
     "data": {
      "application/vnd.microsoft.datawrangler.viewer.v0+json": {
       "columns": [
        {
         "name": "Age",
         "rawType": "object",
         "type": "string"
        },
        {
         "name": "count",
         "rawType": "int64",
         "type": "integer"
        }
       ],
       "ref": "a7eff3a4-6ce3-4344-94b7-be01b69192b2",
       "rows": [
        [
         "35",
         "84"
        ],
        [
         "34",
         "83"
        ],
        [
         "31",
         "82"
        ],
        [
         "29",
         "78"
        ],
        [
         "36",
         "74"
        ],
        [
         "32",
         "64"
        ],
        [
         "38",
         "64"
        ],
        [
         "30",
         "63"
        ],
        [
         "33",
         "61"
        ],
        [
         "40",
         "60"
        ],
        [
         "27",
         "54"
        ],
        [
         "37",
         "53"
        ],
        [
         "28",
         "53"
        ],
        [
         "42",
         "50"
        ],
        [
         "45",
         "48"
        ],
        [
         "41",
         "46"
        ],
        [
         "26",
         "45"
        ],
        [
         "39",
         "45"
        ],
        [
         "43",
         "40"
        ],
        [
         "46",
         "38"
        ],
        [
         "44",
         "34"
        ],
        [
         "50",
         "31"
        ],
        [
         "25",
         "27"
        ],
        [
         "24",
         "26"
        ],
        [
         "47",
         "26"
        ],
        [
         "49",
         "25"
        ],
        [
         "55",
         "24"
        ],
        [
         "54",
         "20"
        ],
        [
         "51",
         "20"
        ],
        [
         "53",
         "20"
        ],
        [
         "48",
         "20"
        ],
        [
         "52",
         "18"
        ],
        [
         "56",
         "17"
        ],
        [
         "21",
         "16"
        ],
        [
         "22",
         "16"
        ],
        [
         "23",
         "15"
        ],
        [
         "58",
         "14"
        ],
        [
         "20",
         "11"
        ],
        [
         "59",
         "10"
        ],
        [
         "19",
         "9"
        ],
        [
         "18",
         "8"
        ],
        [
         "60",
         "5"
        ],
        [
         "57",
         "5"
        ],
        [
         "thirty-two",
         "2"
        ],
        [
         "fifty-eight",
         "1"
        ],
        [
         "twenty-six",
         "1"
        ],
        [
         "thirty-seven",
         "1"
        ],
        [
         "thirty-one",
         "1"
        ],
        [
         "thirty",
         "1"
        ],
        [
         "fifty-two",
         "1"
        ]
       ],
       "shape": {
        "columns": 1,
        "rows": 54
       }
      },
      "text/plain": [
       "Age\n",
       "35              84\n",
       "34              83\n",
       "31              82\n",
       "29              78\n",
       "36              74\n",
       "32              64\n",
       "38              64\n",
       "30              63\n",
       "33              61\n",
       "40              60\n",
       "27              54\n",
       "37              53\n",
       "28              53\n",
       "42              50\n",
       "45              48\n",
       "41              46\n",
       "26              45\n",
       "39              45\n",
       "43              40\n",
       "46              38\n",
       "44              34\n",
       "50              31\n",
       "25              27\n",
       "24              26\n",
       "47              26\n",
       "49              25\n",
       "55              24\n",
       "54              20\n",
       "51              20\n",
       "53              20\n",
       "48              20\n",
       "52              18\n",
       "56              17\n",
       "21              16\n",
       "22              16\n",
       "23              15\n",
       "58              14\n",
       "20              11\n",
       "59              10\n",
       "19               9\n",
       "18               8\n",
       "60               5\n",
       "57               5\n",
       "thirty-two       2\n",
       "fifty-eight      1\n",
       "twenty-six       1\n",
       "thirty-seven     1\n",
       "thirty-one       1\n",
       "thirty           1\n",
       "fifty-two        1\n",
       "fifty-five       1\n",
       "thirty-six       1\n",
       "forty-seven      1\n",
       "twenty-four      1\n",
       "Name: count, dtype: int64"
      ]
     },
     "metadata": {},
     "output_type": "display_data"
    },
    {
     "data": {
      "application/vnd.microsoft.datawrangler.viewer.v0+json": {
       "columns": [
        {
         "name": "Attrition",
         "rawType": "object",
         "type": "string"
        },
        {
         "name": "count",
         "rawType": "int64",
         "type": "integer"
        }
       ],
       "ref": "fdc87096-bbb3-4327-a181-ed42405020b9",
       "rows": [
        [
         "No",
         "1355"
        ],
        [
         "Yes",
         "259"
        ]
       ],
       "shape": {
        "columns": 1,
        "rows": 2
       }
      },
      "text/plain": [
       "Attrition\n",
       "No     1355\n",
       "Yes     259\n",
       "Name: count, dtype: int64"
      ]
     },
     "metadata": {},
     "output_type": "display_data"
    },
    {
     "data": {
      "application/vnd.microsoft.datawrangler.viewer.v0+json": {
       "columns": [
        {
         "name": "BusinessTravel",
         "rawType": "object",
         "type": "string"
        },
        {
         "name": "count",
         "rawType": "int64",
         "type": "integer"
        }
       ],
       "ref": "7861b7a8-b7f1-470c-8419-13571c1076b6",
       "rows": [
        [
         "travel_rarely",
         "586"
        ],
        [
         "travel_frequently",
         "165"
        ],
        [
         "non-travel",
         "91"
        ]
       ],
       "shape": {
        "columns": 1,
        "rows": 3
       }
      },
      "text/plain": [
       "BusinessTravel\n",
       "travel_rarely        586\n",
       "travel_frequently    165\n",
       "non-travel            91\n",
       "Name: count, dtype: int64"
      ]
     },
     "metadata": {},
     "output_type": "display_data"
    },
    {
     "data": {
      "application/vnd.microsoft.datawrangler.viewer.v0+json": {
       "columns": [
        {
         "name": "DailyRate",
         "rawType": "object",
         "type": "string"
        },
        {
         "name": "count",
         "rawType": "int64",
         "type": "integer"
        }
       ],
       "ref": "b60c5130-ba7e-4c2c-b171-c2ebefd92e81",
       "rows": [
        [
         "nan$",
         "124"
        ],
        [
         "691,0$",
         "7"
        ],
        [
         "329,0$",
         "7"
        ],
        [
         "147,0$",
         "6"
        ],
        [
         "530,0$",
         "6"
        ],
        [
         "408,0$",
         "6"
        ],
        [
         "827,0$",
         "5"
        ],
        [
         "1329,0$",
         "5"
        ],
        [
         "1082,0$",
         "5"
        ],
        [
         "427,0$",
         "5"
        ],
        [
         "688,0$",
         "5"
        ],
        [
         "1283,0$",
         "5"
        ],
        [
         "1157,0$",
         "5"
        ],
        [
         "950,0$",
         "5"
        ],
        [
         "334,0$",
         "5"
        ],
        [
         "906,0$",
         "5"
        ],
        [
         "1003,0$",
         "4"
        ],
        [
         "829,0$",
         "4"
        ],
        [
         "1018,0$",
         "4"
        ],
        [
         "430,0$",
         "4"
        ],
        [
         "1225,0$",
         "4"
        ],
        [
         "1229,0$",
         "4"
        ],
        [
         "933,0$",
         "4"
        ],
        [
         "1490,0$",
         "4"
        ],
        [
         "1099,0$",
         "4"
        ],
        [
         "977,0$",
         "4"
        ],
        [
         "465,0$",
         "4"
        ],
        [
         "715,0$",
         "4"
        ],
        [
         "921,0$",
         "4"
        ],
        [
         "303,0$",
         "4"
        ],
        [
         "1092,0$",
         "4"
        ],
        [
         "1469,0$",
         "4"
        ],
        [
         "217,0$",
         "4"
        ],
        [
         "482,0$",
         "4"
        ],
        [
         "793,0$",
         "4"
        ],
        [
         "661,0$",
         "4"
        ],
        [
         "240,0$",
         "4"
        ],
        [
         "501,0$",
         "4"
        ],
        [
         "654,0$",
         "4"
        ],
        [
         "1276,0$",
         "4"
        ],
        [
         "703,0$",
         "4"
        ],
        [
         "201,0$",
         "4"
        ],
        [
         "1107,0$",
         "4"
        ],
        [
         "805,0$",
         "4"
        ],
        [
         "895,0$",
         "4"
        ],
        [
         "1180,0$",
         "4"
        ],
        [
         "589,0$",
         "4"
        ],
        [
         "575,0$",
         "4"
        ],
        [
         "1485,0$",
         "4"
        ],
        [
         "603,0$",
         "3"
        ]
       ],
       "shape": {
        "columns": 1,
        "rows": 849
       }
      },
      "text/plain": [
       "DailyRate\n",
       "nan$       124\n",
       "691,0$       7\n",
       "329,0$       7\n",
       "147,0$       6\n",
       "530,0$       6\n",
       "408,0$       6\n",
       "827,0$       5\n",
       "1329,0$      5\n",
       "1082,0$      5\n",
       "427,0$       5\n",
       "688,0$       5\n",
       "1283,0$      5\n",
       "1157,0$      5\n",
       "950,0$       5\n",
       "334,0$       5\n",
       "906,0$       5\n",
       "1003,0$      4\n",
       "829,0$       4\n",
       "1018,0$      4\n",
       "430,0$       4\n",
       "1225,0$      4\n",
       "1229,0$      4\n",
       "933,0$       4\n",
       "1490,0$      4\n",
       "1099,0$      4\n",
       "977,0$       4\n",
       "465,0$       4\n",
       "715,0$       4\n",
       "921,0$       4\n",
       "303,0$       4\n",
       "1092,0$      4\n",
       "1469,0$      4\n",
       "217,0$       4\n",
       "482,0$       4\n",
       "793,0$       4\n",
       "661,0$       4\n",
       "240,0$       4\n",
       "501,0$       4\n",
       "654,0$       4\n",
       "1276,0$      4\n",
       "703,0$       4\n",
       "201,0$       4\n",
       "1107,0$      4\n",
       "805,0$       4\n",
       "895,0$       4\n",
       "1180,0$      4\n",
       "589,0$       4\n",
       "575,0$       4\n",
       "1485,0$      4\n",
       "603,0$       3\n",
       "890,0$       3\n",
       "218,0$       3\n",
       "1169,0$      3\n",
       "722,0$       3\n",
       "1219,0$      3\n",
       "1097,0$      3\n",
       "528,0$       3\n",
       "1396,0$      3\n",
       "419,0$       3\n",
       "1277,0$      3\n",
       "685,0$       3\n",
       "852,0$       3\n",
       "991,0$       3\n",
       "1184,0$      3\n",
       "1089,0$      3\n",
       "1199,0$      3\n",
       "136,0$       3\n",
       "853,0$       3\n",
       "1495,0$      3\n",
       "970,0$       3\n",
       "750,0$       3\n",
       "984,0$       3\n",
       "142,0$       3\n",
       "622,0$       3\n",
       "548,0$       3\n",
       "1179,0$      3\n",
       "791,0$       3\n",
       "511,0$       3\n",
       "561,0$       3\n",
       "1315,0$      3\n",
       "559,0$       3\n",
       "318,0$       3\n",
       "144,0$       3\n",
       "566,0$       3\n",
       "645,0$       3\n",
       "903,0$       3\n",
       "163,0$       3\n",
       "426,0$       3\n",
       "1137,0$      3\n",
       "509,0$       3\n",
       "258,0$       3\n",
       "238,0$       3\n",
       "397,0$       3\n",
       "806,0$       3\n",
       "616,0$       3\n",
       "954,0$       3\n",
       "1434,0$      3\n",
       "300,0$       3\n",
       "718,0$       3\n",
       "593,0$       3\n",
       "1146,0$      3\n",
       "1130,0$      3\n",
       "867,0$       3\n",
       "809,0$       3\n",
       "1302,0$      3\n",
       "1313,0$      3\n",
       "1125,0$      3\n",
       "444,0$       3\n",
       "342,0$       3\n",
       "746,0$       3\n",
       "337,0$       3\n",
       "930,0$       3\n",
       "1009,0$      3\n",
       "1395,0$      3\n",
       "313,0$       3\n",
       "920,0$       3\n",
       "1103,0$      3\n",
       "1404,0$      3\n",
       "1038,0$      3\n",
       "350,0$       3\n",
       "676,0$       3\n",
       "469,0$       3\n",
       "202,0$       3\n",
       "111,0$       3\n",
       "607,0$       3\n",
       "1240,0$      3\n",
       "638,0$       3\n",
       "1351,0$      3\n",
       "1309,0$      3\n",
       "544,0$       3\n",
       "735,0$       3\n",
       "1261,0$      3\n",
       "1362,0$      3\n",
       "583,0$       3\n",
       "884,0$       3\n",
       "1372,0$      3\n",
       "821,0$       3\n",
       "896,0$       3\n",
       "982,0$       3\n",
       "1413,0$      3\n",
       "1017,0$      3\n",
       "119,0$       3\n",
       "192,0$       3\n",
       "1448,0$      3\n",
       "471,0$       3\n",
       "813,0$       3\n",
       "723,0$       3\n",
       "1141,0$      3\n",
       "117,0$       3\n",
       "635,0$       3\n",
       "571,0$       3\n",
       "570,0$       3\n",
       "1319,0$      3\n",
       "319,0$       3\n",
       "1206,0$      3\n",
       "541,0$       3\n",
       "1117,0$      3\n",
       "1398,0$      3\n",
       "265,0$       3\n",
       "1142,0$      3\n",
       "1475,0$      2\n",
       "1079,0$      2\n",
       "817,0$       2\n",
       "1349,0$      2\n",
       "621,0$       2\n",
       "592,0$       2\n",
       "986,0$       2\n",
       "1473,0$      2\n",
       "836,0$       2\n",
       "322,0$       2\n",
       "106,0$       2\n",
       "1167,0$      2\n",
       "1147,0$      2\n",
       "1216,0$      2\n",
       "1085,0$      2\n",
       "1474,0$      2\n",
       "1136,0$      2\n",
       "326,0$       2\n",
       "1112,0$      2\n",
       "1246,0$      2\n",
       "441,0$       2\n",
       "1323,0$      2\n",
       "810,0$       2\n",
       "693,0$       2\n",
       "992,0$       2\n",
       "1316,0$      2\n",
       "1371,0$      2\n",
       "1381,0$      2\n",
       "155,0$       2\n",
       "591,0$       2\n",
       "287,0$       2\n",
       "489,0$       2\n",
       "374,0$       2\n",
       "1482,0$      2\n",
       "738,0$       2\n",
       "807,0$       2\n",
       "498,0$       2\n",
       "976,0$       2\n",
       "1192,0$      2\n",
       "216,0$       2\n",
       "1441,0$      2\n",
       "1431,0$      2\n",
       "641,0$       2\n",
       "1256,0$      2\n",
       "756,0$       2\n",
       "160,0$       2\n",
       "1194,0$      2\n",
       "364,0$       2\n",
       "153,0$       2\n",
       "154,0$       2\n",
       "124,0$       2\n",
       "371,0$       2\n",
       "857,0$       2\n",
       "581,0$       2\n",
       "529,0$       2\n",
       "234,0$       2\n",
       "1443,0$      2\n",
       "602,0$       2\n",
       "168,0$       2\n",
       "381,0$       2\n",
       "120,0$       2\n",
       "760,0$       2\n",
       "1450,0$      2\n",
       "210,0$       2\n",
       "1377,0$      2\n",
       "555,0$       2\n",
       "1320,0$      2\n",
       "193,0$       2\n",
       "1153,0$      2\n",
       "1368,0$      2\n",
       "1200,0$      2\n",
       "1332,0$      2\n",
       "699,0$       2\n",
       "458,0$       2\n",
       "1343,0$      2\n",
       "121,0$       2\n",
       "383,0$       2\n",
       "1040,0$      2\n",
       "188,0$       2\n",
       "1311,0$      2\n",
       "990,0$       2\n",
       "942,0$       2\n",
       "1111,0$      2\n",
       "1176,0$      2\n",
       "461,0$       2\n",
       "1091,0$      2\n",
       "618,0$       2\n",
       "335,0$       2\n",
       "1278,0$      2\n",
       "1182,0$      2\n",
       "874,0$       2\n",
       "995,0$       2\n",
       "367,0$       2\n",
       "118,0$       2\n",
       "199,0$       2\n",
       "1457,0$      2\n",
       "653,0$       2\n",
       "304,0$       2\n",
       "141,0$       2\n",
       "443,0$       2\n",
       "697,0$       2\n",
       "1303,0$      2\n",
       "727,0$       2\n",
       "1239,0$      2\n",
       "1124,0$      2\n",
       "1096,0$      2\n",
       "267,0$       2\n",
       "1422,0$      2\n",
       "1479,0$      2\n",
       "1186,0$      2\n",
       "1420,0$      2\n",
       "804,0$       2\n",
       "775,0$       2\n",
       "196,0$       2\n",
       "244,0$       2\n",
       "506,0$       2\n",
       "116,0$       2\n",
       "557,0$       2\n",
       "390,0$       2\n",
       "477,0$       2\n",
       "1115,0$      2\n",
       "1217,0$      2\n",
       "1462,0$      2\n",
       "625,0$       2\n",
       "1427,0$      2\n",
       "702,0$       2\n",
       "878,0$       2\n",
       "410,0$       2\n",
       "945,0$       2\n",
       "1318,0$      2\n",
       "634,0$       2\n",
       "546,0$       2\n",
       "711,0$       2\n",
       "448,0$       2\n",
       "182,0$       2\n",
       "261,0$       2\n",
       "1400,0$      2\n",
       "436,0$       2\n",
       "200,0$       2\n",
       "301,0$       2\n",
       "1296,0$      2\n",
       "252,0$       2\n",
       "833,0$       2\n",
       "1210,0$      2\n",
       "1355,0$      2\n",
       "1218,0$      2\n",
       "989,0$       2\n",
       "849,0$       2\n",
       "1144,0$      2\n",
       "1300,0$      2\n",
       "1189,0$      2\n",
       "1001,0$      2\n",
       "663,0$       2\n",
       "823,0$       2\n",
       "135,0$       2\n",
       "1333,0$      2\n",
       "543,0$       2\n",
       "1476,0$      2\n",
       "587,0$       2\n",
       "495,0$       2\n",
       "523,0$       2\n",
       "885,0$       2\n",
       "507,0$       2\n",
       "1055,0$      2\n",
       "1376,0$      2\n",
       "391,0$       2\n",
       "538,0$       2\n",
       "1373,0$      2\n",
       "1234,0$      2\n",
       "170,0$       2\n",
       "1195,0$      2\n",
       "967,0$       2\n",
       "1034,0$      2\n",
       "527,0$       2\n",
       "1291,0$      2\n",
       "177,0$       2\n",
       "1062,0$      2\n",
       "669,0$       2\n",
       "1224,0$      2\n",
       "882,0$       2\n",
       "1245,0$      2\n",
       "1093,0$      2\n",
       "1339,0$      2\n",
       "289,0$       2\n",
       "309,0$       2\n",
       "660,0$       2\n",
       "549,0$       2\n",
       "798,0$       2\n",
       "167,0$       2\n",
       "770,0$       2\n",
       "1440,0$      2\n",
       "855,0$       2\n",
       "1050,0$      2\n",
       "971,0$       2\n",
       "1370,0$      2\n",
       "672,0$       2\n",
       "574,0$       2\n",
       "480,0$       2\n",
       "310,0$       2\n",
       "1132,0$      2\n",
       "452,0$       2\n",
       "994,0$       2\n",
       "1354,0$      2\n",
       "682,0$       2\n",
       "1334,0$      2\n",
       "580,0$       2\n",
       "228,0$       2\n",
       "1480,0$      2\n",
       "658,0$       2\n",
       "1312,0$      2\n",
       "249,0$       2\n",
       "802,0$       2\n",
       "819,0$       2\n",
       "1496,0$      2\n",
       "894,0$       2\n",
       "692,0$       2\n",
       "1084,0$      2\n",
       "1242,0$      2\n",
       "247,0$       2\n",
       "771,0$       2\n",
       "1327,0$      2\n",
       "922,0$       2\n",
       "1385,0$      2\n",
       "666,0$       2\n",
       "359,0$       2\n",
       "532,0$       2\n",
       "442,0$       2\n",
       "1171,0$      2\n",
       "143,0$       2\n",
       "1178,0$      2\n",
       "1116,0$      2\n",
       "525,0$       2\n",
       "243,0$       2\n",
       "1442,0$      2\n",
       "929,0$       2\n",
       "294,0$       2\n",
       "314,0$       2\n",
       "657,0$       2\n",
       "1467,0$      2\n",
       "1232,0$      2\n",
       "429,0$       2\n",
       "728,0$       2\n",
       "928,0$       2\n",
       "556,0$       2\n",
       "1223,0$      2\n",
       "1358,0$      2\n",
       "515,0$       2\n",
       "311,0$       2\n",
       "585,0$       2\n",
       "1383,0$      2\n",
       "665,0$       2\n",
       "1005,0$      2\n",
       "504,0$       2\n",
       "266,0$       2\n",
       "599,0$       1\n",
       "1041,0$      1\n",
       "373,0$       1\n",
       "644,0$       1\n",
       "969,0$       1\n",
       "1337,0$      1\n",
       "818,0$       1\n",
       "369,0$       1\n",
       "605,0$       1\n",
       "1098,0$      1\n",
       "636,0$       1\n",
       "1418,0$      1\n",
       "964,0$       1\n",
       "1122,0$      1\n",
       "590,0$       1\n",
       "305,0$       1\n",
       "478,0$       1\n",
       "176,0$       1\n",
       "617,0$       1\n",
       "130,0$       1\n",
       "1325,0$      1\n",
       "1454,0$      1\n",
       "500,0$       1\n",
       "341,0$       1\n",
       "862,0$       1\n",
       "395,0$       1\n",
       "1269,0$      1\n",
       "1258,0$      1\n",
       "384,0$       1\n",
       "1449,0$      1\n",
       "264,0$       1\n",
       "1128,0$      1\n",
       "889,0$       1\n",
       "316,0$       1\n",
       "598,0$       1\n",
       "996,0$       1\n",
       "104,0$       1\n",
       "1059,0$      1\n",
       "913,0$       1\n",
       "1158,0$      1\n",
       "204,0$       1\n",
       "413,0$       1\n",
       "1236,0$      1\n",
       "232,0$       1\n",
       "988,0$       1\n",
       "479,0$       1\n",
       "474,0$       1\n",
       "516,0$       1\n",
       "128,0$       1\n",
       "1172,0$      1\n",
       "1090,0$      1\n",
       "352,0$       1\n",
       "725,0$       1\n",
       "832,0$       1\n",
       "1198,0$      1\n",
       "346,0$       1\n",
       "1259,0$      1\n",
       "916,0$       1\n",
       "1294,0$      1\n",
       "563,0$       1\n",
       "968,0$       1\n",
       "830,0$       1\n",
       "296,0$       1\n",
       "726,0$       1\n",
       "181,0$       1\n",
       "1247,0$      1\n",
       "1423,0$      1\n",
       "211,0$       1\n",
       "534,0$       1\n",
       "415,0$       1\n",
       "437,0$       1\n",
       "600,0$       1\n",
       "897,0$       1\n",
       "594,0$       1\n",
       "1456,0$      1\n",
       "734,0$       1\n",
       "552,0$       1\n",
       "741,0$       1\n",
       "766,0$       1\n",
       "431,0$       1\n",
       "1213,0$      1\n",
       "1324,0$      1\n",
       "1123,0$      1\n",
       "125,0$       1\n",
       "392,0$       1\n",
       "486,0$       1\n",
       "763,0$       1\n",
       "365,0$       1\n",
       "1357,0$      1\n",
       "626,0$       1\n",
       "132,0$       1\n",
       "871,0$       1\n",
       "1031,0$      1\n",
       "1145,0$      1\n",
       "824,0$       1\n",
       "1054,0$      1\n",
       "428,0$       1\n",
       "1168,0$      1\n",
       "253,0$       1\n",
       "755,0$       1\n",
       "134,0$       1\n",
       "924,0$       1\n",
       "1322,0$      1\n",
       "1365,0$      1\n",
       "306,0$       1\n",
       "1271,0$      1\n",
       "1154,0$      1\n",
       "1444,0$      1\n",
       "1391,0$      1\n",
       "343,0$       1\n",
       "1251,0$      1\n",
       "219,0$       1\n",
       "1464,0$      1\n",
       "1330,0$      1\n",
       "414,0$       1\n",
       "280,0$       1\n",
       "207,0$       1\n",
       "773,0$       1\n",
       "902,0$       1\n",
       "107,0$       1\n",
       "457,0$       1\n",
       "854,0$       1\n",
       "955,0$       1\n",
       "1108,0$      1\n",
       "983,0$       1\n",
       "905,0$       1\n",
       "1306,0$      1\n",
       "1421,0$      1\n",
       "1094,0$      1\n",
       "558,0$       1\n",
       "959,0$       1\n",
       "782,0$       1\n",
       "362,0$       1\n",
       "268,0$       1\n",
       "1243,0$      1\n",
       "720,0$       1\n",
       "868,0$       1\n",
       "769,0$       1\n",
       "1252,0$      1\n",
       "781,0$       1\n",
       "1272,0$      1\n",
       "129,0$       1\n",
       "277,0$       1\n",
       "109,0$       1\n",
       "1069,0$      1\n",
       "138,0$       1\n",
       "1134,0$      1\n",
       "1305,0$      1\n",
       "1212,0$      1\n",
       "1010,0$      1\n",
       "1221,0$      1\n",
       "1288,0$      1\n",
       "1411,0$      1\n",
       "271,0$       1\n",
       "467,0$       1\n",
       "1463,0$      1\n",
       "1193,0$      1\n",
       "812,0$       1\n",
       "981,0$       1\n",
       "1162,0$      1\n",
       "845,0$       1\n",
       "1255,0$      1\n",
       "131,0$       1\n",
       "949,0$       1\n",
       "499,0$       1\n",
       "662,0$       1\n",
       "156,0$       1\n",
       "935,0$       1\n",
       "256,0$       1\n",
       "1138,0$      1\n",
       "464,0$       1\n",
       "848,0$       1\n",
       "640,0$       1\n",
       "1151,0$      1\n",
       "684,0$       1\n",
       "472,0$       1\n",
       "1002,0$      1\n",
       "1436,0$      1\n",
       "689,0$       1\n",
       "632,0$       1\n",
       "655,0$       1\n",
       "1299,0$      1\n",
       "1392,0$      1\n",
       "911,0$       1\n",
       "937,0$       1\n",
       "706,0$       1\n",
       "611,0$       1\n",
       "792,0$       1\n",
       "918,0$       1\n",
       "584,0$       1\n",
       "740,0$       1\n",
       "674,0$       1\n",
       "1029,0$      1\n",
       "447,0$       1\n",
       "1445,0$      1\n",
       "536,0$       1\n",
       "174,0$       1\n",
       "796,0$       1\n",
       "248,0$       1\n",
       "1053,0$      1\n",
       "938,0$       1\n",
       "1188,0$      1\n",
       "1425,0$      1\n",
       "379,0$       1\n",
       "586,0$       1\n",
       "1207,0$      1\n",
       "290,0$       1\n",
       "1052,0$      1\n",
       "328,0$       1\n",
       "944,0$       1\n",
       "717,0$       1\n",
       "786,0$       1\n",
       "772,0$       1\n",
       "1387,0$      1\n",
       "1015,0$      1\n",
       "898,0$       1\n",
       "224,0$       1\n",
       "377,0$       1\n",
       "652,0$       1\n",
       "943,0$       1\n",
       "524,0$       1\n",
       "1030,0$      1\n",
       "325,0$       1\n",
       "604,0$       1\n",
       "531,0$       1\n",
       "1429,0$      1\n",
       "694,0$       1\n",
       "363,0$       1\n",
       "1361,0$      1\n",
       "1384,0$      1\n",
       "1308,0$      1\n",
       "203,0$       1\n",
       "1204,0$      1\n",
       "1366,0$      1\n",
       "1109,0$      1\n",
       "145,0$       1\n",
       "1066,0$      1\n",
       "488,0$       1\n",
       "1416,0$      1\n",
       "1076,0$      1\n",
       "1274,0$      1\n",
       "422,0$       1\n",
       "1275,0$      1\n",
       "1379,0$      1\n",
       "288,0$       1\n",
       "161,0$       1\n",
       "1394,0$      1\n",
       "208,0$       1\n",
       "404,0$       1\n",
       "1202,0$      1\n",
       "939,0$       1\n",
       "1063,0$      1\n",
       "630,0$       1\n",
       "573,0$       1\n",
       "667,0$       1\n",
       "737,0$       1\n",
       "394,0$       1\n",
       "1321,0$      1\n",
       "263,0$       1\n",
       "859,0$       1\n",
       "1499,0$      1\n",
       "1403,0$      1\n",
       "526,0$       1\n",
       "776,0$       1\n",
       "1282,0$      1\n",
       "1238,0$      1\n",
       "1402,0$      1\n",
       "286,0$       1\n",
       "1360,0$      1\n",
       "1369,0$      1\n",
       "840,0$       1\n",
       "1435,0$      1\n",
       "1492,0$      1\n",
       "237,0$       1\n",
       "1336,0$      1\n",
       "282,0$       1\n",
       "1105,0$      1\n",
       "1045,0$      1\n",
       "721,0$       1\n",
       "189,0$       1\n",
       "1266,0$      1\n",
       "678,0$       1\n",
       "880,0$       1\n",
       "790,0$       1\n",
       "405,0$       1\n",
       "748,0$       1\n",
       "1326,0$      1\n",
       "332,0$       1\n",
       "601,0$       1\n",
       "412,0$       1\n",
       "1389,0$      1\n",
       "648,0$       1\n",
       "1465,0$      1\n",
       "481,0$       1\n",
       "406,0$       1\n",
       "330,0$       1\n",
       "213,0$       1\n",
       "1397,0$      1\n",
       "956,0$       1\n",
       "619,0$       1\n",
       "164,0$       1\n",
       "1249,0$      1\n",
       "470,0$       1\n",
       "194,0$       1\n",
       "979,0$       1\n",
       "953,0$       1\n",
       "157,0$       1\n",
       "1297,0$      1\n",
       "115,0$       1\n",
       "560,0$       1\n",
       "683,0$       1\n",
       "736,0$       1\n",
       "206,0$       1\n",
       "150,0$       1\n",
       "788,0$       1\n",
       "974,0$       1\n",
       "152,0$       1\n",
       "1086,0$      1\n",
       "1075,0$      1\n",
       "1265,0$      1\n",
       "180,0$       1\n",
       "932,0$       1\n",
       "376,0$       1\n",
       "650,0$       1\n",
       "562,0$       1\n",
       "1287,0$      1\n",
       "1046,0$      1\n",
       "1220,0$      1\n",
       "496,0$       1\n",
       "1070,0$      1\n",
       "675,0$       1\n",
       "1401,0$      1\n",
       "926,0$       1\n",
       "1127,0$      1\n",
       "1488,0$      1\n",
       "1273,0$      1\n",
       "468,0$       1\n",
       "888,0$       1\n",
       "671,0$       1\n",
       "567,0$       1\n",
       "673,0$       1\n",
       "629,0$       1\n",
       "140,0$       1\n",
       "713,0$       1\n",
       "440,0$       1\n",
       "1150,0$      1\n",
       "542,0$       1\n",
       "957,0$       1\n",
       "1280,0$      1\n",
       "1353,0$      1\n",
       "432,0$       1\n",
       "664,0$       1\n",
       "1459,0$      1\n",
       "705,0$       1\n",
       "103,0$       1\n",
       "148,0$       1\n",
       "1346,0$      1\n",
       "670,0$       1\n",
       "1120,0$      1\n",
       "1037,0$      1\n",
       "1382,0$      1\n",
       "642,0$       1\n",
       "508,0$       1\n",
       "783,0$       1\n",
       "355,0$       1\n",
       "572,0$       1\n",
       "370,0$       1\n",
       "1253,0$      1\n",
       "1181,0$      1\n",
       "1064,0$      1\n",
       "185,0$       1\n",
       "754,0$       1\n",
       "146,0$       1\n",
       "1033,0$      1\n",
       "841,0$       1\n",
       "1214,0$      1\n",
       "1328,0$      1\n",
       "1102,0$      1\n",
       "490,0$       1\n",
       "883,0$       1\n",
       "1410,0$      1\n",
       "254,0$       1\n",
       "446,0$       1\n",
       "799,0$       1\n",
       "828,0$       1\n",
       "1065,0$      1\n",
       "1023,0$      1\n",
       "1131,0$      1\n",
       "333,0$       1\n",
       "1083,0$      1\n",
       "433,0$       1\n",
       "466,0$       1\n",
       "881,0$       1\n",
       "975,0$       1\n",
       "302,0$       1\n",
       "553,0$       1\n",
       "269,0$       1\n",
       "505,0$       1\n",
       "1211,0$      1\n",
       "613,0$       1\n",
       "704,0$       1\n",
       "582,0$       1\n",
       "1452,0$      1\n",
       "1268,0$      1\n",
       "307,0$       1\n",
       "647,0$       1\n",
       "492,0$       1\n",
       "1470,0$      1\n",
       "241,0$       1\n",
       "1342,0$      1\n",
       "866,0$       1\n",
       "401,0$       1\n",
       "172,0$       1\n",
       "1174,0$      1\n",
       "1439,0$      1\n",
       "1498,0$      1\n",
       "999,0$       1\n",
       "299,0$       1\n",
       "966,0$       1\n",
       "439,0$       1\n",
       "797,0$       1\n",
       "1262,0$      1\n",
       "231,0$       1\n",
       "462,0$       1\n",
       "1231,0$      1\n",
       "1222,0$      1\n",
       "1012,0$      1\n",
       "719,0$       1\n",
       "646,0$       1\n",
       "195,0$       1\n",
       "317,0$       1\n",
       "891,0$       1\n",
       "759,0$       1\n",
       "483,0$       1\n",
       "105,0$       1\n",
       "Name: count, dtype: int64"
      ]
     },
     "metadata": {},
     "output_type": "display_data"
    },
    {
     "data": {
      "application/vnd.microsoft.datawrangler.viewer.v0+json": {
       "columns": [
        {
         "name": "Department",
         "rawType": "object",
         "type": "string"
        },
        {
         "name": "count",
         "rawType": "int64",
         "type": "integer"
        }
       ],
       "ref": "3d9f33c4-530a-4b59-b693-9c2c44157279",
       "rows": [
        [
         " Research & Development ",
         "196"
        ],
        [
         " Sales ",
         "91"
        ],
        [
         " Human Resources ",
         "15"
        ]
       ],
       "shape": {
        "columns": 1,
        "rows": 3
       }
      },
      "text/plain": [
       "Department\n",
       "Research & Development     196\n",
       "Sales                       91\n",
       "Human Resources             15\n",
       "Name: count, dtype: int64"
      ]
     },
     "metadata": {},
     "output_type": "display_data"
    },
    {
     "data": {
      "application/vnd.microsoft.datawrangler.viewer.v0+json": {
       "columns": [
        {
         "name": "DistanceFromHome",
         "rawType": "int64",
         "type": "integer"
        },
        {
         "name": "count",
         "rawType": "int64",
         "type": "integer"
        }
       ],
       "ref": "d9bbe078-cab5-42da-ad57-6546566df46e",
       "rows": [
        [
         "2",
         "217"
        ],
        [
         "1",
         "203"
        ],
        [
         "10",
         "86"
        ],
        [
         "9",
         "85"
        ],
        [
         "8",
         "81"
        ],
        [
         "7",
         "80"
        ],
        [
         "3",
         "79"
        ],
        [
         "5",
         "62"
        ],
        [
         "6",
         "61"
        ],
        [
         "4",
         "61"
        ],
        [
         "16",
         "30"
        ],
        [
         "11",
         "28"
        ],
        [
         "15",
         "27"
        ],
        [
         "23",
         "26"
        ],
        [
         "29",
         "25"
        ],
        [
         "25",
         "24"
        ],
        [
         "24",
         "24"
        ],
        [
         "18",
         "22"
        ],
        [
         "26",
         "22"
        ],
        [
         "14",
         "21"
        ],
        [
         "12",
         "21"
        ],
        [
         "21",
         "19"
        ],
        [
         "17",
         "19"
        ],
        [
         "13",
         "19"
        ],
        [
         "20",
         "18"
        ],
        [
         "28",
         "17"
        ],
        [
         "22",
         "16"
        ],
        [
         "19",
         "16"
        ],
        [
         "27",
         "13"
        ],
        [
         "-13",
         "11"
        ],
        [
         "-12",
         "11"
        ],
        [
         "-24",
         "11"
        ],
        [
         "-18",
         "8"
        ],
        [
         "-47",
         "7"
        ],
        [
         "-35",
         "7"
        ],
        [
         "-38",
         "7"
        ],
        [
         "-19",
         "6"
        ],
        [
         "-36",
         "6"
        ],
        [
         "-14",
         "6"
        ],
        [
         "-31",
         "6"
        ],
        [
         "-26",
         "6"
        ],
        [
         "-25",
         "6"
        ],
        [
         "-42",
         "6"
        ],
        [
         "-22",
         "5"
        ],
        [
         "-45",
         "5"
        ],
        [
         "-48",
         "5"
        ],
        [
         "-10",
         "5"
        ],
        [
         "-46",
         "5"
        ],
        [
         "-16",
         "5"
        ],
        [
         "-27",
         "4"
        ]
       ],
       "shape": {
        "columns": 1,
        "rows": 69
       }
      },
      "text/plain": [
       "DistanceFromHome\n",
       " 2     217\n",
       " 1     203\n",
       " 10     86\n",
       " 9      85\n",
       " 8      81\n",
       " 7      80\n",
       " 3      79\n",
       " 5      62\n",
       " 6      61\n",
       " 4      61\n",
       " 16     30\n",
       " 11     28\n",
       " 15     27\n",
       " 23     26\n",
       " 29     25\n",
       " 25     24\n",
       " 24     24\n",
       " 18     22\n",
       " 26     22\n",
       " 14     21\n",
       " 12     21\n",
       " 21     19\n",
       " 17     19\n",
       " 13     19\n",
       " 20     18\n",
       " 28     17\n",
       " 22     16\n",
       " 19     16\n",
       " 27     13\n",
       "-13     11\n",
       "-12     11\n",
       "-24     11\n",
       "-18      8\n",
       "-47      7\n",
       "-35      7\n",
       "-38      7\n",
       "-19      6\n",
       "-36      6\n",
       "-14      6\n",
       "-31      6\n",
       "-26      6\n",
       "-25      6\n",
       "-42      6\n",
       "-22      5\n",
       "-45      5\n",
       "-48      5\n",
       "-10      5\n",
       "-46      5\n",
       "-16      5\n",
       "-27      4\n",
       "-30      4\n",
       "-20      4\n",
       "-29      4\n",
       "-41      4\n",
       "-32      4\n",
       "-37      4\n",
       "-17      3\n",
       "-11      3\n",
       "-15      3\n",
       "-23      3\n",
       "-33      3\n",
       "-44      3\n",
       "-21      2\n",
       "-49      2\n",
       "-28      2\n",
       "-34      2\n",
       "-43      2\n",
       "-39      1\n",
       "-40      1\n",
       "Name: count, dtype: int64"
      ]
     },
     "metadata": {},
     "output_type": "display_data"
    },
    {
     "data": {
      "application/vnd.microsoft.datawrangler.viewer.v0+json": {
       "columns": [
        {
         "name": "Education",
         "rawType": "int64",
         "type": "integer"
        },
        {
         "name": "count",
         "rawType": "int64",
         "type": "integer"
        }
       ],
       "ref": "9ca80f6c-1247-4325-af27-1929f0d88001",
       "rows": [
        [
         "3",
         "621"
        ],
        [
         "4",
         "445"
        ],
        [
         "2",
         "314"
        ],
        [
         "1",
         "180"
        ],
        [
         "5",
         "54"
        ]
       ],
       "shape": {
        "columns": 1,
        "rows": 5
       }
      },
      "text/plain": [
       "Education\n",
       "3    621\n",
       "4    445\n",
       "2    314\n",
       "1    180\n",
       "5     54\n",
       "Name: count, dtype: int64"
      ]
     },
     "metadata": {},
     "output_type": "display_data"
    },
    {
     "data": {
      "application/vnd.microsoft.datawrangler.viewer.v0+json": {
       "columns": [
        {
         "name": "EducationField",
         "rawType": "object",
         "type": "string"
        },
        {
         "name": "count",
         "rawType": "int64",
         "type": "integer"
        }
       ],
       "ref": "3a3e0d3f-ddbc-41b0-8f5d-a25b4d4c80cc",
       "rows": [
        [
         "Life Sciences",
         "349"
        ],
        [
         "Medical",
         "276"
        ],
        [
         "Marketing",
         "104"
        ],
        [
         "Technical Degree",
         "69"
        ],
        [
         "Other",
         "59"
        ],
        [
         "Human Resources",
         "12"
        ]
       ],
       "shape": {
        "columns": 1,
        "rows": 6
       }
      },
      "text/plain": [
       "EducationField\n",
       "Life Sciences       349\n",
       "Medical             276\n",
       "Marketing           104\n",
       "Technical Degree     69\n",
       "Other                59\n",
       "Human Resources      12\n",
       "Name: count, dtype: int64"
      ]
     },
     "metadata": {},
     "output_type": "display_data"
    },
    {
     "data": {
      "application/vnd.microsoft.datawrangler.viewer.v0+json": {
       "columns": [
        {
         "name": "employeecount",
         "rawType": "int64",
         "type": "integer"
        },
        {
         "name": "count",
         "rawType": "int64",
         "type": "integer"
        }
       ],
       "ref": "0641429d-5b20-44a7-a9e4-e3e31b4f1db4",
       "rows": [
        [
         "1",
         "1614"
        ]
       ],
       "shape": {
        "columns": 1,
        "rows": 1
       }
      },
      "text/plain": [
       "employeecount\n",
       "1    1614\n",
       "Name: count, dtype: int64"
      ]
     },
     "metadata": {},
     "output_type": "display_data"
    },
    {
     "data": {
      "application/vnd.microsoft.datawrangler.viewer.v0+json": {
       "columns": [
        {
         "name": "employeenumber",
         "rawType": "object",
         "type": "string"
        },
        {
         "name": "count",
         "rawType": "int64",
         "type": "integer"
        }
       ],
       "ref": "7999a146-0797-443c-879d-e6f7fe2426f2",
       "rows": [
        [
         "482,0",
         "2"
        ],
        [
         "530,0",
         "2"
        ],
        [
         "507,0",
         "2"
        ],
        [
         "517,0",
         "2"
        ],
        [
         "522,0",
         "2"
        ],
        [
         "523,0",
         "2"
        ],
        [
         "525,0",
         "2"
        ],
        [
         "526,0",
         "2"
        ],
        [
         "544,0",
         "2"
        ],
        [
         "501,0",
         "2"
        ],
        [
         "725,0",
         "2"
        ],
        [
         "724,0",
         "2"
        ],
        [
         "722,0",
         "2"
        ],
        [
         "721,0",
         "2"
        ],
        [
         "717,0",
         "2"
        ],
        [
         "710,0",
         "2"
        ],
        [
         "502,0",
         "2"
        ],
        [
         "495,0",
         "2"
        ],
        [
         "747,0",
         "2"
        ],
        [
         "440,0",
         "2"
        ],
        [
         "734,0",
         "2"
        ],
        [
         "733,0",
         "2"
        ],
        [
         "728,0",
         "2"
        ],
        [
         "423,0",
         "2"
        ],
        [
         "424,0",
         "2"
        ],
        [
         "433,0",
         "2"
        ],
        [
         "447,0",
         "2"
        ],
        [
         "1140,0",
         "2"
        ],
        [
         "455,0",
         "2"
        ],
        [
         "460,0",
         "2"
        ],
        [
         "465,0",
         "2"
        ],
        [
         "470,0",
         "2"
        ],
        [
         "475,0",
         "2"
        ],
        [
         "478,0",
         "2"
        ],
        [
         "682,0",
         "2"
        ],
        [
         "663,0",
         "2"
        ],
        [
         "653,0",
         "2"
        ],
        [
         "1069,0",
         "2"
        ],
        [
         "389,0",
         "2"
        ],
        [
         "388,0",
         "2"
        ],
        [
         "381,0",
         "2"
        ],
        [
         "376,0",
         "2"
        ],
        [
         "1044,0",
         "2"
        ],
        [
         "1053,0",
         "2"
        ],
        [
         "1195,0",
         "2"
        ],
        [
         "621,0",
         "2"
        ],
        [
         "1185,0",
         "2"
        ],
        [
         "1162,0",
         "2"
        ],
        [
         "1161,0",
         "2"
        ],
        [
         "1160,0",
         "2"
        ]
       ],
       "shape": {
        "columns": 1,
        "rows": 1079
       }
      },
      "text/plain": [
       "employeenumber\n",
       "482,0     2\n",
       "530,0     2\n",
       "507,0     2\n",
       "517,0     2\n",
       "522,0     2\n",
       "523,0     2\n",
       "525,0     2\n",
       "526,0     2\n",
       "544,0     2\n",
       "501,0     2\n",
       "725,0     2\n",
       "724,0     2\n",
       "722,0     2\n",
       "721,0     2\n",
       "717,0     2\n",
       "710,0     2\n",
       "502,0     2\n",
       "495,0     2\n",
       "747,0     2\n",
       "440,0     2\n",
       "734,0     2\n",
       "733,0     2\n",
       "728,0     2\n",
       "423,0     2\n",
       "424,0     2\n",
       "433,0     2\n",
       "447,0     2\n",
       "1140,0    2\n",
       "455,0     2\n",
       "460,0     2\n",
       "465,0     2\n",
       "470,0     2\n",
       "475,0     2\n",
       "478,0     2\n",
       "682,0     2\n",
       "663,0     2\n",
       "653,0     2\n",
       "1069,0    2\n",
       "389,0     2\n",
       "388,0     2\n",
       "381,0     2\n",
       "376,0     2\n",
       "1044,0    2\n",
       "1053,0    2\n",
       "1195,0    2\n",
       "621,0     2\n",
       "1185,0    2\n",
       "1162,0    2\n",
       "1161,0    2\n",
       "1160,0    2\n",
       "1157,0    2\n",
       "1131,0    2\n",
       "401,0     2\n",
       "416,0     2\n",
       "430,0     2\n",
       "438,0     2\n",
       "446,0     2\n",
       "448,0     2\n",
       "454,0     2\n",
       "458,0     2\n",
       "476,0     2\n",
       "483,0     2\n",
       "488,0     2\n",
       "500,0     2\n",
       "534,0     2\n",
       "586,0     2\n",
       "595,0     2\n",
       "608,0     2\n",
       "616,0     2\n",
       "742,0     2\n",
       "1135,0    2\n",
       "762,0     2\n",
       "1849,0    2\n",
       "972,0     2\n",
       "990,0     2\n",
       "1927,0    2\n",
       "1911,0    2\n",
       "1898,0    2\n",
       "1869,0    2\n",
       "1821,0    2\n",
       "966,0     2\n",
       "1816,0    2\n",
       "1804,0    2\n",
       "1797,0    2\n",
       "783,0     2\n",
       "1947,0    2\n",
       "1954,0    2\n",
       "967,0     2\n",
       "1778,0    2\n",
       "956,0     2\n",
       "569,0     2\n",
       "374,0     2\n",
       "927,0     2\n",
       "913,0     2\n",
       "842,0     2\n",
       "823,0     2\n",
       "809,0     2\n",
       "1541,0    2\n",
       "803,0     2\n",
       "524,0     2\n",
       "941,0     2\n",
       "793,0     2\n",
       "789,0     2\n",
       "307,0     2\n",
       "1396,0    1\n",
       "1392,0    1\n",
       "1403,0    1\n",
       "1380,0    1\n",
       "1371,0    1\n",
       "1361,0    1\n",
       "1358,0    1\n",
       "1405,0    1\n",
       "1411,0    1\n",
       "1412,0    1\n",
       "1415,0    1\n",
       "1389,0    1\n",
       "1333,0    1\n",
       "1436,0    1\n",
       "1674,0    1\n",
       "1721,0    1\n",
       "1702,0    1\n",
       "1694,0    1\n",
       "1683,0    1\n",
       "1682,0    1\n",
       "1217,0    1\n",
       "1234,0    1\n",
       "1286,0    1\n",
       "1670,0    1\n",
       "1331,0    1\n",
       "1662,0    1\n",
       "1291,0    1\n",
       "1301,0    1\n",
       "1303,0    1\n",
       "1308,0    1\n",
       "1311,0    1\n",
       "1317,0    1\n",
       "1329,0    1\n",
       "1428,0    1\n",
       "1467,0    1\n",
       "1439,0    1\n",
       "1441,0    1\n",
       "1587,0    1\n",
       "1583,0    1\n",
       "1580,0    1\n",
       "1576,0    1\n",
       "1573,0    1\n",
       "1568,0    1\n",
       "1560,0    1\n",
       "1552,0    1\n",
       "1537,0    1\n",
       "1516,0    1\n",
       "1513,0    1\n",
       "1509,0    1\n",
       "1507,0    1\n",
       "1486,0    1\n",
       "1475,0    1\n",
       "1592,0    1\n",
       "1594,0    1\n",
       "1597,0    1\n",
       "1655,0    1\n",
       "1448,0    1\n",
       "1464,0    1\n",
       "1466,0    1\n",
       "1471,0    1\n",
       "1473,0    1\n",
       "1657,0    1\n",
       "1651,0    1\n",
       "1607,0    1\n",
       "1648,0    1\n",
       "1647,0    1\n",
       "1645,0    1\n",
       "1644,0    1\n",
       "1641,0    1\n",
       "1623,0    1\n",
       "162,0     1\n",
       "1022,0    1\n",
       "1114,0    1\n",
       "246,0     1\n",
       "288,0     1\n",
       "287,0     1\n",
       "269,0     1\n",
       "250,0     1\n",
       "249,0     1\n",
       "247,0     1\n",
       "245,0     1\n",
       "178,0     1\n",
       "241,0     1\n",
       "233,0     1\n",
       "221,0     1\n",
       "218,0     1\n",
       "197,0     1\n",
       "193,0     1\n",
       "297,0     1\n",
       "303,0     1\n",
       "305,0     1\n",
       "316,0     1\n",
       "332,0     1\n",
       "337,0     1\n",
       "338,0     1\n",
       "341,0     1\n",
       "347,0     1\n",
       "349,0     1\n",
       "350,0     1\n",
       "362,0     1\n",
       "379,0     1\n",
       "380,0     1\n",
       "393,0     1\n",
       "394,0     1\n",
       "396,0     1\n",
       "179,0     1\n",
       "175,0     1\n",
       "555,0     1\n",
       "7,0       1\n",
       "26,0      1\n",
       "24,0      1\n",
       "21,0      1\n",
       "19,0      1\n",
       "18,0      1\n",
       "16,0      1\n",
       "2068,0    1\n",
       "171,0     1\n",
       "2053,0    1\n",
       "2052,0    1\n",
       "2046,0    1\n",
       "2044,0    1\n",
       "2018,0    1\n",
       "1999,0    1\n",
       "31,0      1\n",
       "33,0      1\n",
       "38,0      1\n",
       "40,0      1\n",
       "47,0      1\n",
       "49,0      1\n",
       "65,0      1\n",
       "72,0      1\n",
       "88,0      1\n",
       "102,0     1\n",
       "103,0     1\n",
       "110,0     1\n",
       "116,0     1\n",
       "128,0     1\n",
       "132,0     1\n",
       "133,0     1\n",
       "143,0     1\n",
       "403,0     1\n",
       "564,0     1\n",
       "1108,0    1\n",
       "896,0     1\n",
       "939,0     1\n",
       "930,0     1\n",
       "925,0     1\n",
       "922,0     1\n",
       "916,0     1\n",
       "902,0     1\n",
       "893,0     1\n",
       "847,0     1\n",
       "888,0     1\n",
       "885,0     1\n",
       "881,0     1\n",
       "874,0     1\n",
       "872,0     1\n",
       "859,0     1\n",
       "975,0     1\n",
       "991,0     1\n",
       "995,0     1\n",
       "1001,0    1\n",
       "1010,0    1\n",
       "1017,0    1\n",
       "1733,0    1\n",
       "1027,0    1\n",
       "1028,0    1\n",
       "1037,0    1\n",
       "1077,0    1\n",
       "1084,0    1\n",
       "1094,0    1\n",
       "1096,0    1\n",
       "1099,0    1\n",
       "1102,0    1\n",
       "1103,0    1\n",
       "852,0     1\n",
       "838,0     1\n",
       "580,0     1\n",
       "652,0     1\n",
       "675,0     1\n",
       "671,0     1\n",
       "666,0     1\n",
       "665,0     1\n",
       "664,0     1\n",
       "659,0     1\n",
       "632,0     1\n",
       "819,0     1\n",
       "631,0     1\n",
       "624,0     1\n",
       "611,0     1\n",
       "593,0     1\n",
       "591,0     1\n",
       "585,0     1\n",
       "686,0     1\n",
       "699,0     1\n",
       "705,0     1\n",
       "707,0     1\n",
       "712,0     1\n",
       "732,0     1\n",
       "738,0     1\n",
       "744,0     1\n",
       "746,0     1\n",
       "752,0     1\n",
       "754,0     1\n",
       "769,0     1\n",
       "792,0     1\n",
       "797,0     1\n",
       "800,0     1\n",
       "806,0     1\n",
       "813,0     1\n",
       "1722,0    1\n",
       "1996,0    1\n",
       "1735,0    1\n",
       "1260,0    1\n",
       "945,0     1\n",
       "951,0     1\n",
       "952,0     1\n",
       "954,0     1\n",
       "959,0     1\n",
       "986,0     1\n",
       "994,0     1\n",
       "1003,0    1\n",
       "1012,0    1\n",
       "1029,0    1\n",
       "1033,0    1\n",
       "1052,0    1\n",
       "1056,0    1\n",
       "1076,0    1\n",
       "1079,0    1\n",
       "1081,0    1\n",
       "1105,0    1\n",
       "1111,0    1\n",
       "1113,0    1\n",
       "1115,0    1\n",
       "1125,0    1\n",
       "1156,0    1\n",
       "1158,0    1\n",
       "1172,0    1\n",
       "1190,0    1\n",
       "1206,0    1\n",
       "1210,0    1\n",
       "1242,0    1\n",
       "1256,0    1\n",
       "940,0     1\n",
       "934,0     1\n",
       "923,0     1\n",
       "704,0     1\n",
       "566,0     1\n",
       "568,0     1\n",
       "614,0     1\n",
       "615,0     1\n",
       "622,0     1\n",
       "643,0     1\n",
       "648,0     1\n",
       "656,0     1\n",
       "657,0     1\n",
       "661,0     1\n",
       "662,0     1\n",
       "690,0     1\n",
       "701,0     1\n",
       "715,0     1\n",
       "918,0     1\n",
       "743,0     1\n",
       "749,0     1\n",
       "773,0     1\n",
       "775,0     1\n",
       "811,0     1\n",
       "812,0     1\n",
       "816,0     1\n",
       "832,0     1\n",
       "833,0     1\n",
       "834,0     1\n",
       "897,0     1\n",
       "904,0     1\n",
       "911,0     1\n",
       "1258,0    1\n",
       "1263,0    1\n",
       "1746,0    1\n",
       "1269,0    1\n",
       "1744,0    1\n",
       "1755,0    1\n",
       "1758,0    1\n",
       "1761,0    1\n",
       "1763,0    1\n",
       "1766,0    1\n",
       "1783,0    1\n",
       "1839,0    1\n",
       "1842,0    1\n",
       "1847,0    1\n",
       "1853,0    1\n",
       "1860,0    1\n",
       "1865,0    1\n",
       "1875,0    1\n",
       "1876,0    1\n",
       "1893,0    1\n",
       "1903,0    1\n",
       "1928,0    1\n",
       "1933,0    1\n",
       "1935,0    1\n",
       "1936,0    1\n",
       "1938,0    1\n",
       "1943,0    1\n",
       "1944,0    1\n",
       "1961,0    1\n",
       "1966,0    1\n",
       "1974,0    1\n",
       "2012,0    1\n",
       "2023,0    1\n",
       "1731,0    1\n",
       "1724,0    1\n",
       "1714,0    1\n",
       "1504,0    1\n",
       "1270,0    1\n",
       "1273,0    1\n",
       "1306,0    1\n",
       "1364,0    1\n",
       "1368,0    1\n",
       "1379,0    1\n",
       "1427,0    1\n",
       "1433,0    1\n",
       "1434,0    1\n",
       "1458,0    1\n",
       "1481,0    1\n",
       "1482,0    1\n",
       "1494,0    1\n",
       "1515,0    1\n",
       "1697,0    1\n",
       "1525,0    1\n",
       "1542,0    1\n",
       "1558,0    1\n",
       "1564,0    1\n",
       "1577,0    1\n",
       "1581,0    1\n",
       "1591,0    1\n",
       "1601,0    1\n",
       "1602,0    1\n",
       "1624,0    1\n",
       "1669,0    1\n",
       "1673,0    1\n",
       "1678,0    1\n",
       "556,0     1\n",
       "518,0     1\n",
       "514,0     1\n",
       "508,0     1\n",
       "2048,0    1\n",
       "2055,0    1\n",
       "2060,0    1\n",
       "2061,0    1\n",
       "2064,0    1\n",
       "39,0      1\n",
       "51,0      1\n",
       "95,0      1\n",
       "169,0     1\n",
       "224,0     1\n",
       "242,0     1\n",
       "286,0     1\n",
       "340,0     1\n",
       "431,0     1\n",
       "496,0     1\n",
       "511,0     1\n",
       "612,0     1\n",
       "650,0     1\n",
       "684,0     1\n",
       "730,0     1\n",
       "757,0     1\n",
       "869,0     1\n",
       "875,0     1\n",
       "964,0     1\n",
       "970,0     1\n",
       "1006,0    1\n",
       "1055,0    1\n",
       "1061,0    1\n",
       "1107,0    1\n",
       "2038,0    1\n",
       "2027,0    1\n",
       "2010,0    1\n",
       "1873,0    1\n",
       "1751,0    1\n",
       "1753,0    1\n",
       "1787,0    1\n",
       "1801,0    1\n",
       "1813,0    1\n",
       "1814,0    1\n",
       "1833,0    1\n",
       "1834,0    1\n",
       "1835,0    1\n",
       "1837,0    1\n",
       "1844,0    1\n",
       "1856,0    1\n",
       "1858,0    1\n",
       "1883,0    1\n",
       "2007,0    1\n",
       "1886,0    1\n",
       "1905,0    1\n",
       "1907,0    1\n",
       "1908,0    1\n",
       "1922,0    1\n",
       "1929,0    1\n",
       "1948,0    1\n",
       "1972,0    1\n",
       "1980,0    1\n",
       "1982,0    1\n",
       "1992,0    1\n",
       "1997,0    1\n",
       "2003,0    1\n",
       "1180,0    1\n",
       "1193,0    1\n",
       "1226,0    1\n",
       "342,0     1\n",
       "144,0     1\n",
       "155,0     1\n",
       "167,0     1\n",
       "200,0     1\n",
       "201,0     1\n",
       "211,0     1\n",
       "214,0     1\n",
       "243,0     1\n",
       "271,0     1\n",
       "282,0     1\n",
       "309,0     1\n",
       "323,0     1\n",
       "334,0     1\n",
       "364,0     1\n",
       "137,0     1\n",
       "367,0     1\n",
       "392,0     1\n",
       "397,0     1\n",
       "407,0     1\n",
       "445,0     1\n",
       "468,0     1\n",
       "471,0     1\n",
       "473,0     1\n",
       "477,0     1\n",
       "479,0     1\n",
       "485,0     1\n",
       "487,0     1\n",
       "494,0     1\n",
       "139,0     1\n",
       "113,0     1\n",
       "1254,0    1\n",
       "1890,0    1\n",
       "1321,0    1\n",
       "1465,0    1\n",
       "1479,0    1\n",
       "1551,0    1\n",
       "1555,0    1\n",
       "1604,0    1\n",
       "1757,0    1\n",
       "1760,0    1\n",
       "1789,0    1\n",
       "1807,0    1\n",
       "1812,0    1\n",
       "1818,0    1\n",
       "1830,0    1\n",
       "1939,0    1\n",
       "106,0     1\n",
       "1994,0    1\n",
       "4,0       1\n",
       "10,0      1\n",
       "30,0      1\n",
       "41,0      1\n",
       "42,0      1\n",
       "53,0      1\n",
       "54,0      1\n",
       "55,0      1\n",
       "64,0      1\n",
       "70,0      1\n",
       "84,0      1\n",
       "97,0      1\n",
       "1998,0    1\n",
       "1349,0    1\n",
       "1981,0    1\n",
       "1790,0    1\n",
       "1423,0    1\n",
       "1459,0    1\n",
       "1472,0    1\n",
       "1485,0    1\n",
       "1543,0    1\n",
       "1547,0    1\n",
       "1553,0    1\n",
       "1562,0    1\n",
       "1582,0    1\n",
       "1606,0    1\n",
       "1658,0    1\n",
       "1665,0    1\n",
       "1737,0    1\n",
       "1823,0    1\n",
       "1346,0    1\n",
       "1857,0    1\n",
       "1864,0    1\n",
       "1881,0    1\n",
       "1888,0    1\n",
       "1950,0    1\n",
       "1962,0    1\n",
       "1975,0    1\n",
       "1986,0    1\n",
       "2000,0    1\n",
       "2,0       1\n",
       "5,0       1\n",
       "35,0      1\n",
       "76,0      1\n",
       "1356,0    1\n",
       "1334,0    1\n",
       "1969,0    1\n",
       "772,0     1\n",
       "291,0     1\n",
       "292,0     1\n",
       "306,0     1\n",
       "335,0     1\n",
       "420,0     1\n",
       "421,0     1\n",
       "441,0     1\n",
       "531,0     1\n",
       "549,0     1\n",
       "567,0     1\n",
       "581,0     1\n",
       "702,0     1\n",
       "716,0     1\n",
       "836,0     1\n",
       "1324,0    1\n",
       "840,0     1\n",
       "844,0     1\n",
       "867,0     1\n",
       "889,0     1\n",
       "924,0     1\n",
       "976,0     1\n",
       "992,0     1\n",
       "1002,0    1\n",
       "1073,0    1\n",
       "1138,0    1\n",
       "1192,0    1\n",
       "1196,0    1\n",
       "1315,0    1\n",
       "98,0      1\n",
       "120,0     1\n",
       "147,0     1\n",
       "1283,0    1\n",
       "1119,0    1\n",
       "1126,0    1\n",
       "1128,0    1\n",
       "1177,0    1\n",
       "1182,0    1\n",
       "1201,0    1\n",
       "1218,0    1\n",
       "1220,0    1\n",
       "1224,0    1\n",
       "1235,0    1\n",
       "1237,0    1\n",
       "1255,0    1\n",
       "1264,0    1\n",
       "1293,0    1\n",
       "154,0     1\n",
       "1295,0    1\n",
       "1322,0    1\n",
       "1344,0    1\n",
       "1355,0    1\n",
       "1362,0    1\n",
       "1369,0    1\n",
       "1377,0    1\n",
       "1402,0    1\n",
       "1408,0    1\n",
       "1417,0    1\n",
       "1421,0    1\n",
       "1422,0    1\n",
       "1424,0    1\n",
       "1106,0    1\n",
       "1101,0    1\n",
       "1100,0    1\n",
       "1097,0    1\n",
       "159,0     1\n",
       "160,0     1\n",
       "163,0     1\n",
       "176,0     1\n",
       "177,0     1\n",
       "195,0     1\n",
       "202,0     1\n",
       "205,0     1\n",
       "252,0     1\n",
       "258,0     1\n",
       "260,0     1\n",
       "267,0     1\n",
       "275,0     1\n",
       "293,0     1\n",
       "302,0     1\n",
       "314,0     1\n",
       "329,0     1\n",
       "361,0     1\n",
       "363,0     1\n",
       "1013,0    1\n",
       "1015,0    1\n",
       "1018,0    1\n",
       "1034,0    1\n",
       "1046,0    1\n",
       "1050,0    1\n",
       "1074,0    1\n",
       "1082,0    1\n",
       "264,0     1\n",
       "253,0     1\n",
       "227,0     1\n",
       "1225,0    1\n",
       "1527,0    1\n",
       "1866,0    1\n",
       "2026,0    1\n",
       "107,0     1\n",
       "170,0     1\n",
       "215,0     1\n",
       "304,0     1\n",
       "529,0     1\n",
       "691,0     1\n",
       "692,0     1\n",
       "1005,0    1\n",
       "1024,0    1\n",
       "1039,0    1\n",
       "1375,0    1\n",
       "1696,0    1\n",
       "1661,0    1\n",
       "1668,0    1\n",
       "1698,0    1\n",
       "1937,0    1\n",
       "2017,0    1\n",
       "117,0     1\n",
       "131,0     1\n",
       "153,0     1\n",
       "899,0     1\n",
       "1014,0    1\n",
       "1117,0    1\n",
       "1238,0    1\n",
       "1277,0    1\n",
       "436,0     1\n",
       "391,0     1\n",
       "158,0     1\n",
       "145,0     1\n",
       "319,0     1\n",
       "1900,0    1\n",
       "81,0      1\n",
       "387,0     1\n",
       "999,0     1\n",
       "1035,0    1\n",
       "58,0      1\n",
       "558,0     1\n",
       "825,0     1\n",
       "1712,0    1\n",
       "73,0      1\n",
       "820,0     1\n",
       "1294,0    1\n",
       "1774,0    1\n",
       "1815,0    1\n",
       "1993,0    1\n",
       "32,0      1\n",
       "100,0     1\n",
       "244,0     1\n",
       "327,0     1\n",
       "373,0     1\n",
       "729,0     1\n",
       "830,0     1\n",
       "981,0     1\n",
       "1042,0    1\n",
       "1080,0    1\n",
       "1995,0    1\n",
       "1666,0    1\n",
       "1805,0    1\n",
       "207,0     1\n",
       "1596,0    1\n",
       "1278,0    1\n",
       "1288,0    1\n",
       "1307,0    1\n",
       "1336,0    1\n",
       "1352,0    1\n",
       "1360,0    1\n",
       "1419,0    1\n",
       "1478,0    1\n",
       "1480,0    1\n",
       "1489,0    1\n",
       "1520,0    1\n",
       "1535,0    1\n",
       "1586,0    1\n",
       "1667,0    1\n",
       "1932,0    1\n",
       "1701,0    1\n",
       "1706,0    1\n",
       "1971,0    1\n",
       "1976,0    1\n",
       "1985,0    1\n",
       "2032,0    1\n",
       "2056,0    1\n",
       "57,0      1\n",
       "78,0      1\n",
       "104,0     1\n",
       "118,0     1\n",
       "121,0     1\n",
       "125,0     1\n",
       "1267,0    1\n",
       "1252,0    1\n",
       "1184,0    1\n",
       "1167,0    1\n",
       "2016,0    1\n",
       "20,0      1\n",
       "184,0     1\n",
       "206,0     1\n",
       "228,0     1\n",
       "239,0     1\n",
       "256,0     1\n",
       "339,0     1\n",
       "406,0     1\n",
       "429,0     1\n",
       "444,0     1\n",
       "452,0     1\n",
       "456,0     1\n",
       "481,0     1\n",
       "513,0     1\n",
       "597,0     1\n",
       "600,0     1\n",
       "630,0     1\n",
       "638,0     1\n",
       "683,0     1\n",
       "780,0     1\n",
       "817,0     1\n",
       "901,0     1\n",
       "944,0     1\n",
       "984,0     1\n",
       "1088,0    1\n",
       "1124,0    1\n",
       "1457,0    1\n",
       "1460,0    1\n",
       "1484,0    1\n",
       "230,0     1\n",
       "27,0      1\n",
       "46,0      1\n",
       "52,0      1\n",
       "68,0      1\n",
       "79,0      1\n",
       "80,0      1\n",
       "91,0      1\n",
       "119,0     1\n",
       "126,0     1\n",
       "148,0     1\n",
       "150,0     1\n",
       "198,0     1\n",
       "216,0     1\n",
       "270,0     1\n",
       "579,0     1\n",
       "277,0     1\n",
       "299,0     1\n",
       "315,0     1\n",
       "330,0     1\n",
       "369,0     1\n",
       "386,0     1\n",
       "390,0     1\n",
       "412,0     1\n",
       "422,0     1\n",
       "434,0     1\n",
       "450,0     1\n",
       "469,0     1\n",
       "491,0     1\n",
       "1949,0    1\n",
       "1941,0    1\n",
       "1924,0    1\n",
       "1909,0    1\n",
       "1280,0    1\n",
       "1309,0    1\n",
       "1374,0    1\n",
       "1390,0    1\n",
       "1395,0    1\n",
       "1397,0    1\n",
       "1409,0    1\n",
       "1425,0    1\n",
       "1435,0    1\n",
       "1445,0    1\n",
       "1469,0    1\n",
       "1503,0    1\n",
       "1534,0    1\n",
       "1546,0    1\n",
       "1548,0    1\n",
       "1598,0    1\n",
       "1599,0    1\n",
       "1609,0    1\n",
       "1638,0    1\n",
       "1640,0    1\n",
       "1664,0    1\n",
       "1684,0    1\n",
       "1704,0    1\n",
       "1736,0    1\n",
       "1782,0    1\n",
       "1826,0    1\n",
       "1850,0    1\n",
       "554,0     1\n",
       "592,0     1\n",
       "1202,0    1\n",
       "1646,0    1\n",
       "1407,0    1\n",
       "1420,0    1\n",
       "1431,0    1\n",
       "1446,0    1\n",
       "1477,0    1\n",
       "1487,0    1\n",
       "1499,0    1\n",
       "1533,0    1\n",
       "1545,0    1\n",
       "1554,0    1\n",
       "1563,0    1\n",
       "1622,0    1\n",
       "1631,0    1\n",
       "1659,0    1\n",
       "599,0     1\n",
       "1689,0    1\n",
       "1700,0    1\n",
       "1739,0    1\n",
       "1768,0    1\n",
       "1772,0    1\n",
       "1792,0    1\n",
       "1800,0    1\n",
       "1822,0    1\n",
       "1854,0    1\n",
       "1882,0    1\n",
       "1885,0    1\n",
       "1931,0    1\n",
       "1945,0    1\n",
       "1401,0    1\n",
       "1387,0    1\n",
       "259,0     1\n",
       "1338,0    1\n",
       "641,0     1\n",
       "655,0     1\n",
       "667,0     1\n",
       "758,0     1\n",
       "760,0     1\n",
       "791,0     1\n",
       "796,0     1\n",
       "799,0     1\n",
       "815,0     1\n",
       "827,0     1\n",
       "865,0     1\n",
       "894,0     1\n",
       "983,0     1\n",
       "996,0     1\n",
       "1011,0    1\n",
       "1019,0    1\n",
       "1032,0    1\n",
       "1045,0    1\n",
       "1049,0    1\n",
       "1068,0    1\n",
       "1136,0    1\n",
       "1179,0    1\n",
       "1188,0    1\n",
       "1211,0    1\n",
       "1228,0    1\n",
       "1231,0    1\n",
       "1259,0    1\n",
       "1245,0    1\n",
       "1200,0    1\n",
       "1497,0    1\n",
       "942,0     1\n",
       "2062,0    1\n",
       "28,0      1\n",
       "62,0      1\n",
       "199,0     1\n",
       "343,0     1\n",
       "351,0     1\n",
       "428,0     1\n",
       "464,0     1\n",
       "731,0     1\n",
       "764,0     1\n",
       "851,0     1\n",
       "903,0     1\n",
       "905,0     1\n",
       "1026,0    1\n",
       "15,0      1\n",
       "1085,0    1\n",
       "1109,0    1\n",
       "1118,0    1\n",
       "1152,0    1\n",
       "1350,0    1\n",
       "1514,0    1\n",
       "1523,0    1\n",
       "1539,0    1\n",
       "1588,0    1\n",
       "1617,0    1\n",
       "1719,0    1\n",
       "1870,0    1\n",
       "2031,0    1\n",
       "2035,0    1\n",
       "2034,0    1\n",
       "2014,0    1\n",
       "2009,0    1\n",
       "1522,0    1\n",
       "1544,0    1\n",
       "1572,0    1\n",
       "1608,0    1\n",
       "1611,0    1\n",
       "1612,0    1\n",
       "1615,0    1\n",
       "1619,0    1\n",
       "1635,0    1\n",
       "1642,0    1\n",
       "1653,0    1\n",
       "1691,0    1\n",
       "1693,0    1\n",
       "1703,0    1\n",
       "1727,0    1\n",
       "1728,0    1\n",
       "1745,0    1\n",
       "1754,0    1\n",
       "1756,0    1\n",
       "1764,0    1\n",
       "1934,0    1\n",
       "1951,0    1\n",
       "1952,0    1\n",
       "1965,0    1\n",
       "1967,0    1\n",
       "1979,0    1\n",
       "2008,0    1\n",
       "2065,0    1\n",
       "60,0      1\n",
       "1171,0    1\n",
       "548,0     1\n",
       "283,0     1\n",
       "308,0     1\n",
       "325,0     1\n",
       "355,0     1\n",
       "378,0     1\n",
       "449,0     1\n",
       "466,0     1\n",
       "486,0     1\n",
       "492,0     1\n",
       "505,0     1\n",
       "510,0     1\n",
       "527,0     1\n",
       "547,0     1\n",
       "577,0     1\n",
       "85,0      1\n",
       "679,0     1\n",
       "785,0     1\n",
       "861,0     1\n",
       "864,0     1\n",
       "878,0     1\n",
       "895,0     1\n",
       "900,0     1\n",
       "936,0     1\n",
       "997,0     1\n",
       "1048,0    1\n",
       "1071,0    1\n",
       "1116,0    1\n",
       "1132,0    1\n",
       "262,0     1\n",
       "240,0     1\n",
       "231,0     1\n",
       "226,0     1\n",
       "346,0     1\n",
       "384,0     1\n",
       "498,0     1\n",
       "551,0     1\n",
       "604,0     1\n",
       "626,0     1\n",
       "644,0     1\n",
       "649,0     1\n",
       "714,0     1\n",
       "781,0     1\n",
       "804,0     1\n",
       "856,0     1\n",
       "998,0     1\n",
       "1120,0    1\n",
       "1143,0    1\n",
       "1251,0    1\n",
       "1438,0    1\n",
       "1574,0    1\n",
       "1671,0    1\n",
       "94,0      1\n",
       "112,0     1\n",
       "129,0     1\n",
       "142,0     1\n",
       "161,0     1\n",
       "164,0     1\n",
       "190,0     1\n",
       "194,0     1\n",
       "2040,0    1\n",
       "Name: count, dtype: int64"
      ]
     },
     "metadata": {},
     "output_type": "display_data"
    },
    {
     "data": {
      "application/vnd.microsoft.datawrangler.viewer.v0+json": {
       "columns": [
        {
         "name": "EnvironmentSatisfaction",
         "rawType": "int64",
         "type": "integer"
        },
        {
         "name": "count",
         "rawType": "int64",
         "type": "integer"
        }
       ],
       "ref": "3b7c7533-3737-4f81-baf4-067285bcc3b5",
       "rows": [
        [
         "4",
         "460"
        ],
        [
         "3",
         "459"
        ],
        [
         "1",
         "298"
        ],
        [
         "2",
         "297"
        ],
        [
         "12",
         "7"
        ],
        [
         "35",
         "6"
        ],
        [
         "13",
         "6"
        ],
        [
         "14",
         "5"
        ],
        [
         "24",
         "5"
        ],
        [
         "47",
         "5"
        ],
        [
         "36",
         "4"
        ],
        [
         "48",
         "4"
        ],
        [
         "41",
         "4"
        ],
        [
         "46",
         "4"
        ],
        [
         "42",
         "4"
        ],
        [
         "45",
         "3"
        ],
        [
         "11",
         "3"
        ],
        [
         "22",
         "3"
        ],
        [
         "17",
         "3"
        ],
        [
         "18",
         "3"
        ],
        [
         "20",
         "3"
        ],
        [
         "25",
         "3"
        ],
        [
         "27",
         "3"
        ],
        [
         "37",
         "2"
        ],
        [
         "29",
         "2"
        ],
        [
         "19",
         "2"
        ],
        [
         "38",
         "2"
        ],
        [
         "31",
         "2"
        ],
        [
         "15",
         "2"
        ],
        [
         "16",
         "2"
        ],
        [
         "26",
         "1"
        ],
        [
         "39",
         "1"
        ],
        [
         "10",
         "1"
        ],
        [
         "49",
         "1"
        ],
        [
         "21",
         "1"
        ],
        [
         "28",
         "1"
        ],
        [
         "33",
         "1"
        ],
        [
         "43",
         "1"
        ]
       ],
       "shape": {
        "columns": 1,
        "rows": 38
       }
      },
      "text/plain": [
       "EnvironmentSatisfaction\n",
       "4     460\n",
       "3     459\n",
       "1     298\n",
       "2     297\n",
       "12      7\n",
       "35      6\n",
       "13      6\n",
       "14      5\n",
       "24      5\n",
       "47      5\n",
       "36      4\n",
       "48      4\n",
       "41      4\n",
       "46      4\n",
       "42      4\n",
       "45      3\n",
       "11      3\n",
       "22      3\n",
       "17      3\n",
       "18      3\n",
       "20      3\n",
       "25      3\n",
       "27      3\n",
       "37      2\n",
       "29      2\n",
       "19      2\n",
       "38      2\n",
       "31      2\n",
       "15      2\n",
       "16      2\n",
       "26      1\n",
       "39      1\n",
       "10      1\n",
       "49      1\n",
       "21      1\n",
       "28      1\n",
       "33      1\n",
       "43      1\n",
       "Name: count, dtype: int64"
      ]
     },
     "metadata": {},
     "output_type": "display_data"
    },
    {
     "data": {
      "application/vnd.microsoft.datawrangler.viewer.v0+json": {
       "columns": [
        {
         "name": "Gender",
         "rawType": "int64",
         "type": "integer"
        },
        {
         "name": "count",
         "rawType": "int64",
         "type": "integer"
        }
       ],
       "ref": "e2074c4b-c6c0-4956-b455-efe6e036a782",
       "rows": [
        [
         "0",
         "971"
        ],
        [
         "1",
         "643"
        ]
       ],
       "shape": {
        "columns": 1,
        "rows": 2
       }
      },
      "text/plain": [
       "Gender\n",
       "0    971\n",
       "1    643\n",
       "Name: count, dtype: int64"
      ]
     },
     "metadata": {},
     "output_type": "display_data"
    },
    {
     "data": {
      "application/vnd.microsoft.datawrangler.viewer.v0+json": {
       "columns": [
        {
         "name": "HourlyRate",
         "rawType": "object",
         "type": "string"
        },
        {
         "name": "count",
         "rawType": "int64",
         "type": "integer"
        }
       ],
       "ref": "d430cc76-cfce-413e-b54c-de2e59745b62",
       "rows": [
        [
         "Not Available",
         "84"
        ],
        [
         "42",
         "33"
        ],
        [
         "66",
         "32"
        ],
        [
         "48",
         "30"
        ],
        [
         "57",
         "29"
        ],
        [
         "84",
         "29"
        ],
        [
         "54",
         "28"
        ],
        [
         "46",
         "28"
        ],
        [
         "98",
         "28"
        ],
        [
         "87",
         "27"
        ],
        [
         "72",
         "27"
        ],
        [
         "96",
         "27"
        ],
        [
         "92",
         "27"
        ],
        [
         "32",
         "26"
        ],
        [
         "56",
         "26"
        ],
        [
         "79",
         "26"
        ],
        [
         "86",
         "25"
        ],
        [
         "81",
         "25"
        ],
        [
         "52",
         "25"
        ],
        [
         "61",
         "25"
        ],
        [
         "62",
         "24"
        ],
        [
         "83",
         "24"
        ],
        [
         "51",
         "24"
        ],
        [
         "82",
         "24"
        ],
        [
         "43",
         "23"
        ],
        [
         "74",
         "23"
        ],
        [
         "88",
         "23"
        ],
        [
         "45",
         "23"
        ],
        [
         "41",
         "23"
        ],
        [
         "77",
         "23"
        ],
        [
         "73",
         "23"
        ],
        [
         "94",
         "23"
        ],
        [
         "60",
         "22"
        ],
        [
         "78",
         "22"
        ],
        [
         "95",
         "22"
        ],
        [
         "99",
         "21"
        ],
        [
         "76",
         "21"
        ],
        [
         "80",
         "21"
        ],
        [
         "59",
         "21"
        ],
        [
         "67",
         "21"
        ],
        [
         "91",
         "20"
        ],
        [
         "97",
         "20"
        ],
        [
         "75",
         "20"
        ],
        [
         "90",
         "20"
        ],
        [
         "85",
         "20"
        ],
        [
         "44",
         "20"
        ],
        [
         "49",
         "20"
        ],
        [
         "64",
         "19"
        ],
        [
         "55",
         "19"
        ],
        [
         "65",
         "19"
        ]
       ],
       "shape": {
        "columns": 1,
        "rows": 72
       }
      },
      "text/plain": [
       "HourlyRate\n",
       "Not Available    84\n",
       "42               33\n",
       "66               32\n",
       "48               30\n",
       "57               29\n",
       "84               29\n",
       "54               28\n",
       "46               28\n",
       "98               28\n",
       "87               27\n",
       "72               27\n",
       "96               27\n",
       "92               27\n",
       "32               26\n",
       "56               26\n",
       "79               26\n",
       "86               25\n",
       "81               25\n",
       "52               25\n",
       "61               25\n",
       "62               24\n",
       "83               24\n",
       "51               24\n",
       "82               24\n",
       "43               23\n",
       "74               23\n",
       "88               23\n",
       "45               23\n",
       "41               23\n",
       "77               23\n",
       "73               23\n",
       "94               23\n",
       "60               22\n",
       "78               22\n",
       "95               22\n",
       "99               21\n",
       "76               21\n",
       "80               21\n",
       "59               21\n",
       "67               21\n",
       "91               20\n",
       "97               20\n",
       "75               20\n",
       "90               20\n",
       "85               20\n",
       "44               20\n",
       "49               20\n",
       "64               19\n",
       "55               19\n",
       "65               19\n",
       "71               19\n",
       "100              19\n",
       "39               19\n",
       "37               19\n",
       "36               18\n",
       "40               18\n",
       "58               18\n",
       "35               17\n",
       "93               17\n",
       "70               17\n",
       "33               17\n",
       "89               17\n",
       "30               17\n",
       "63               16\n",
       "31               16\n",
       "69               16\n",
       "50               15\n",
       "47               15\n",
       "53               13\n",
       "68               13\n",
       "38               12\n",
       "34               11\n",
       "Name: count, dtype: int64"
      ]
     },
     "metadata": {},
     "output_type": "display_data"
    },
    {
     "data": {
      "application/vnd.microsoft.datawrangler.viewer.v0+json": {
       "columns": [
        {
         "name": "JobInvolvement",
         "rawType": "int64",
         "type": "integer"
        },
        {
         "name": "count",
         "rawType": "int64",
         "type": "integer"
        }
       ],
       "ref": "f60503f1-2446-4cb2-8a1b-2c3da325c1ef",
       "rows": [
        [
         "3",
         "955"
        ],
        [
         "2",
         "406"
        ],
        [
         "4",
         "164"
        ],
        [
         "1",
         "89"
        ]
       ],
       "shape": {
        "columns": 1,
        "rows": 4
       }
      },
      "text/plain": [
       "JobInvolvement\n",
       "3    955\n",
       "2    406\n",
       "4    164\n",
       "1     89\n",
       "Name: count, dtype: int64"
      ]
     },
     "metadata": {},
     "output_type": "display_data"
    },
    {
     "data": {
      "application/vnd.microsoft.datawrangler.viewer.v0+json": {
       "columns": [
        {
         "name": "JobLevel",
         "rawType": "int64",
         "type": "integer"
        },
        {
         "name": "count",
         "rawType": "int64",
         "type": "integer"
        }
       ],
       "ref": "ae80978d-e380-42d8-b6aa-df96432c6cfb",
       "rows": [
        [
         "2",
         "597"
        ],
        [
         "1",
         "586"
        ],
        [
         "3",
         "242"
        ],
        [
         "4",
         "113"
        ],
        [
         "5",
         "76"
        ]
       ],
       "shape": {
        "columns": 1,
        "rows": 5
       }
      },
      "text/plain": [
       "JobLevel\n",
       "2    597\n",
       "1    586\n",
       "3    242\n",
       "4    113\n",
       "5     76\n",
       "Name: count, dtype: int64"
      ]
     },
     "metadata": {},
     "output_type": "display_data"
    },
    {
     "data": {
      "application/vnd.microsoft.datawrangler.viewer.v0+json": {
       "columns": [
        {
         "name": "JobRole",
         "rawType": "object",
         "type": "string"
        },
        {
         "name": "count",
         "rawType": "int64",
         "type": "integer"
        }
       ],
       "ref": "10d71023-b5c0-4970-802b-6e604ed53b7d",
       "rows": [
        [
         " mANager ",
         "4"
        ],
        [
         " ManageR ",
         "3"
        ],
        [
         " ManagEr ",
         "3"
        ],
        [
         " mAnaGeR ",
         "3"
        ],
        [
         " MANAgER ",
         "3"
        ],
        [
         " mAnageR ",
         "3"
        ],
        [
         " MAnagEr ",
         "2"
        ],
        [
         " maNaGeR ",
         "2"
        ],
        [
         " mAnAGer ",
         "2"
        ],
        [
         " MAnagER ",
         "2"
        ],
        [
         " mANAgER ",
         "2"
        ],
        [
         " MaNAgeR ",
         "2"
        ],
        [
         " RESeArCh SCIEntiSt ",
         "2"
        ],
        [
         " ManAgEr ",
         "2"
        ],
        [
         " MAnAGeR ",
         "2"
        ],
        [
         " MaNaGer ",
         "2"
        ],
        [
         " manAger ",
         "2"
        ],
        [
         " MaNagEr ",
         "2"
        ],
        [
         " MAnager ",
         "2"
        ],
        [
         " MANagER ",
         "2"
        ],
        [
         " ManAGEr ",
         "2"
        ],
        [
         " MAnAgeR ",
         "2"
        ],
        [
         " MAnAgER ",
         "2"
        ],
        [
         " MaNagER ",
         "2"
        ],
        [
         " MANAGER ",
         "2"
        ],
        [
         " sALeS EXecuTIVe ",
         "2"
        ],
        [
         " manAGER ",
         "2"
        ],
        [
         " SaLES eXeCUtIVE ",
         "2"
        ],
        [
         " MaNuFaCTuring dIRECTOr ",
         "1"
        ],
        [
         " ManUFaCTuRiNg dIRECTOR ",
         "1"
        ],
        [
         " reSEArcH sCiENTisT ",
         "1"
        ],
        [
         " reseARCh SCieNTisT ",
         "1"
        ],
        [
         " laBORaTOrY tEChNiCiAn ",
         "1"
        ],
        [
         " HeAlthCaRE REPResenTaTIVE ",
         "1"
        ],
        [
         " Sales exeCuTive ",
         "1"
        ],
        [
         " SAlES execUtiVe ",
         "1"
        ],
        [
         " healthCAre rePReseNTatIVe ",
         "1"
        ],
        [
         " rESEarcH SCIEnTist ",
         "1"
        ],
        [
         " REsEarch SCIenTiST ",
         "1"
        ],
        [
         " rEsearch ScIeNTisT ",
         "1"
        ],
        [
         " reSEarcH scIENtISt ",
         "1"
        ],
        [
         " resEArch DIREcToR ",
         "1"
        ],
        [
         " MaNuFaCtUriNG DIrectoR ",
         "1"
        ],
        [
         " MANufActURing DIreCtor ",
         "1"
        ],
        [
         " sAlEs rEpreSEnTATiVe ",
         "1"
        ],
        [
         " ResEARch sCIENTIST ",
         "1"
        ],
        [
         " HuMan resoUrCes ",
         "1"
        ],
        [
         " heALthCARE RepResentAtIvE ",
         "1"
        ],
        [
         " sAlEs REPRESENTATIVe ",
         "1"
        ],
        [
         " maNAGeR ",
         "1"
        ]
       ],
       "shape": {
        "columns": 1,
        "rows": 1579
       }
      },
      "text/plain": [
       "JobRole\n",
       "mANager                       4\n",
       "ManageR                       3\n",
       "ManagEr                       3\n",
       "mAnaGeR                       3\n",
       "MANAgER                       3\n",
       "mAnageR                       3\n",
       "MAnagEr                       2\n",
       "maNaGeR                       2\n",
       "mAnAGer                       2\n",
       "MAnagER                       2\n",
       "mANAgER                       2\n",
       "MaNAgeR                       2\n",
       "RESeArCh SCIEntiSt            2\n",
       "ManAgEr                       2\n",
       "MAnAGeR                       2\n",
       "MaNaGer                       2\n",
       "manAger                       2\n",
       "MaNagEr                       2\n",
       "MAnager                       2\n",
       "MANagER                       2\n",
       "ManAGEr                       2\n",
       "MAnAgeR                       2\n",
       "MAnAgER                       2\n",
       "MaNagER                       2\n",
       "MANAGER                       2\n",
       "sALeS EXecuTIVe               2\n",
       "manAGER                       2\n",
       "SaLES eXeCUtIVE               2\n",
       "MaNuFaCTuring dIRECTOr        1\n",
       "ManUFaCTuRiNg dIRECTOR        1\n",
       "reSEArcH sCiENTisT            1\n",
       "reseARCh SCieNTisT            1\n",
       "laBORaTOrY tEChNiCiAn         1\n",
       "HeAlthCaRE REPResenTaTIVE     1\n",
       "Sales exeCuTive               1\n",
       "SAlES execUtiVe               1\n",
       "healthCAre rePReseNTatIVe     1\n",
       "rESEarcH SCIEnTist            1\n",
       "REsEarch SCIenTiST            1\n",
       "rEsearch ScIeNTisT            1\n",
       "reSEarcH scIENtISt            1\n",
       "resEArch DIREcToR             1\n",
       "MaNuFaCtUriNG DIrectoR        1\n",
       "MANufActURing DIreCtor        1\n",
       "sAlEs rEpreSEnTATiVe          1\n",
       "ResEARch sCIENTIST            1\n",
       "HuMan resoUrCes               1\n",
       "heALthCARE RepResentAtIvE     1\n",
       "sAlEs REPRESENTATIVe          1\n",
       "maNAGeR                       1\n",
       "LaBoRAToRY TeCHnIciAN         1\n",
       "SAleS eXECUTivE               1\n",
       "MANuFaCturiNG dIRECTOR        1\n",
       "SAles repRESEnTaTivE          1\n",
       "reseArCh DIrEcToR             1\n",
       "heAlTHCARe REpRESentAtiVE     1\n",
       "saLeS eXecutIve               1\n",
       "LABoraTorY TeChNiciaN         1\n",
       "ReSeARcH SCIentISt            1\n",
       "reseArCH scIentISt            1\n",
       "sales eXecUTIvE               1\n",
       "SAleS eXEcUtiVe               1\n",
       "MAnageR                       1\n",
       "sAles exEcUtIve               1\n",
       "sales exEcutiVe               1\n",
       "salES RepREsenTAtIvE          1\n",
       "labORATory teCHNiCian         1\n",
       "SaleS ExECUTIvE               1\n",
       "salES ExEcuTIVE               1\n",
       "saLeS EXeCuTiVe               1\n",
       "rESEArch ScIEnTIst            1\n",
       "SalEs EXeCUtIVe               1\n",
       "ManUFacTUriNG dirEctOR        1\n",
       "ReseARCh ScIEntIsT            1\n",
       "Sales EXEcuTive               1\n",
       "sales executiVE               1\n",
       "MAnUfaCTurinG DirectOR        1\n",
       "LaBOratoRy TECHNICiAn         1\n",
       "lAboRaToRY teChNICIan         1\n",
       "ReseaRch scIENTisT            1\n",
       "laBorATorY TeChniCiAN         1\n",
       "SaLES REPrEsENTAtivE          1\n",
       "REseaRch dIrECtor             1\n",
       "laborAtOry tEChnICiAn         1\n",
       "rEseArCh scIENtiST            1\n",
       "reseARcH sCiEntiST            1\n",
       "researCh SCientIsT            1\n",
       "ResEARCH scIENTISt            1\n",
       "rEseARch ScIEnTIst            1\n",
       "MAnufAcTUrinG dIrEcTOr        1\n",
       "healTHcARE rEPrEseNtatIve     1\n",
       "LaBORatOrY TeChNICiaN         1\n",
       "reSeaRCh scIEntist            1\n",
       "maNAgEr                       1\n",
       "lABoRAToRY tECHNICIaN         1\n",
       "LAbORatORy TEcHniCIaN         1\n",
       "reSEArCH SCiENTIst            1\n",
       "HealThcare REpresenTATIve     1\n",
       "ManufacTURInG DIRECtOR        1\n",
       "sAleS represENtATIVE          1\n",
       "rEsEarCH SCIeNtist            1\n",
       "hEalthCaRe reprEseNTaTiVe     1\n",
       "LaBoRatORy TECHNICian         1\n",
       "HUMaN RESourcEs               1\n",
       "SAlES exeCutive               1\n",
       "labORAtoRy tEcHNICIAN         1\n",
       "hUMaN rESoUrCES               1\n",
       "rEseaRCh SCIeNtIST            1\n",
       "rEsEarcH sCieNTIsT            1\n",
       "SALEs RePREsentAtIVe          1\n",
       "SaLEs eXEcUtiVe               1\n",
       "rEsEaRCh diReCtOR             1\n",
       "sALES exEcuTIVe               1\n",
       "LAboRATORY TECHNICIaN         1\n",
       "SalEs EXecUTIVE               1\n",
       "LABoraTOry TECHniCiaN         1\n",
       "sALes ExEcUTIVe               1\n",
       "rESeARCh scIentiST            1\n",
       "heAlthCAre REPResenTaTive     1\n",
       "HEALThCARe REPReSENTatIvE     1\n",
       "MANuFacturIng DIrectOr        1\n",
       "lABOraTory tEchniCiAN         1\n",
       "research sCiEntiSt            1\n",
       "lABoraTOry TEchniciAN         1\n",
       "reseaRCH ScIenTisT            1\n",
       "rEseaRch sCieNTIsT            1\n",
       "labOrATOry TEchnIcIaN         1\n",
       "RESEArch SCIEnTISt            1\n",
       "ReSeaRCH ScIEnTISt            1\n",
       "lAboRAtoRy TEcHNiCiaN         1\n",
       "MAnUfACTurING dirEcTor        1\n",
       "lABoratOrY tEcHnICiAN         1\n",
       "Sales rePrEsenTaTivE          1\n",
       "SAles execUTIve               1\n",
       "HEAlTHCarE REPResEnTaTIve     1\n",
       "reSearCH sCIentIst            1\n",
       "ResEArCH Scientist            1\n",
       "rESEARcH scIentIST            1\n",
       "ReSeARcH dIreCTor             1\n",
       "SALEs EXECuTiVE               1\n",
       "SAlES RepreSENtATiVe          1\n",
       "rESEarCh dIRECToR             1\n",
       "SaleS EXeCutiVe               1\n",
       "RESEArCH SciENtIST            1\n",
       "sALeS EXEcutive               1\n",
       "saLeS RePRESEntatIvE          1\n",
       "reseaRCh sCiEnTISt            1\n",
       "reSearCh SCIeNtisT            1\n",
       "lAboratOrY TeChnICiAn         1\n",
       "rEseARCH ScIeNtIST            1\n",
       "LAboRATory tEChnicIAN         1\n",
       "REsEarcH DIReCTOR             1\n",
       "saleS RePreSeNtatIve          1\n",
       "SaLEs eXeCUtivE               1\n",
       "RESeARch ScIeNtisT            1\n",
       "sALES REprEsEntATive          1\n",
       "SALeS execUtivE               1\n",
       "ResEarch ScIenTIst            1\n",
       "resEARCh SCiENTiST            1\n",
       "REsEARch sCIenTIsT            1\n",
       "hUmaN reSOuRCeS               1\n",
       "REseArCH DIrecTOr             1\n",
       "HEaLTHcaRE rePrESEntaTivE     1\n",
       "ManuFacTURInG DiReCtOr        1\n",
       "sAles RePRESEntatIve          1\n",
       "huMAn Resources               1\n",
       "huMan RESOuRCEs               1\n",
       "hUmAN reSOURCEs               1\n",
       "reseaRch DIrecTOr             1\n",
       "sales rEpRESEnTatIve          1\n",
       "rESEARCh scIEntiSt            1\n",
       "saLES eXeCutive               1\n",
       "hEaLThCAre rEPrEsEntAtIve     1\n",
       "reSEaRCH scIenTisT            1\n",
       "SaLES ExECUTIVe               1\n",
       "Sales EXEcUTiVe               1\n",
       "MANager                       1\n",
       "sAlES exECuTivE               1\n",
       "MAnuFaCtUrINg diRECtor        1\n",
       "HEaLThcarE RePRESeNtativE     1\n",
       "salES rePResEntatIve          1\n",
       "researcH ScienTist            1\n",
       "RESEARcH sCIENTIsT            1\n",
       "HuMan ResOUrces               1\n",
       "humaN ReSOurCeS               1\n",
       "laboraTory tEcHniciaN         1\n",
       "SAlES EXEcUTivE               1\n",
       "lAbOrAtoRY tecHniCian         1\n",
       "LAbORatory teChnIcIan         1\n",
       "sALeS eXECutivE               1\n",
       "LAboRAtorY TEcHnician         1\n",
       "resEaRcH SCiEnTIst            1\n",
       "rESeArcH sCientIST            1\n",
       "laBOrATorY tEcHNIciAN         1\n",
       "sAleS RePReSEntATIVe          1\n",
       "LAborAtory TeCHNICIAN         1\n",
       "LaboRAtOry tecHniciAn         1\n",
       "manuFacTurING DIrector        1\n",
       "Human REsouRCeS               1\n",
       "salES ExecUtIve               1\n",
       "ResEArch sCIEntIst            1\n",
       "rESeArcH sCiEntIsT            1\n",
       "SalEs eXEcuTiVE               1\n",
       "heAlthCare rePResENtaTIve     1\n",
       "LabOratory tecHnICian         1\n",
       "saLEs ExEcutIve               1\n",
       "SAles exeCUTIvE               1\n",
       "sAleS eXeCuTIVE               1\n",
       "laBoRaTORY TecHnician         1\n",
       "ResEaRch scientIst            1\n",
       "mANUFACtURiNg diREctor        1\n",
       "LAboratORY TechNIcIaN         1\n",
       "RESEArCH ScientIsT            1\n",
       "lAbOrATORy tEChNiciAn         1\n",
       "lABOrAtOry tEChNician         1\n",
       "LaBoRaToRy tEChniciAN         1\n",
       "lABOrAToRY TECHnIciAN         1\n",
       "sAleS EXeCUtiVe               1\n",
       "rESeaRCh ScIentISt            1\n",
       "hEalTHcare ReprEseNtAtIve     1\n",
       "LaBoRatORY TECHNiCian         1\n",
       "ReseArCh SciENTIsT            1\n",
       "resEaRCH SCieNtiSt            1\n",
       "sALes rePrESenTaTiVe          1\n",
       "heaLtHcare REpRESEntAtIvE     1\n",
       "sALEs rEPrESENtaTIVE          1\n",
       "hUmAn REsOurCES               1\n",
       "REsEaRch scIeNtIsT            1\n",
       "ManUFaCTURing dIRectOR        1\n",
       "lAborATorY TecHNIciAN         1\n",
       "rEsEArcH dirECtoR             1\n",
       "rESEARCH scieNTiST            1\n",
       "reSeARcH SCienTist            1\n",
       "ReSEaRCh SCIEnTist            1\n",
       "hUmAN rESOuRCEs               1\n",
       "ResEArch SciEntiST            1\n",
       "REseARch sCIENtIst            1\n",
       "SaLeS REPRESENtATIvE          1\n",
       "SALES exeCuTIve               1\n",
       "REsEarCh DirECtOr             1\n",
       "saLEs ExecUtive               1\n",
       "SaLes exEcUtiVE               1\n",
       "healTHCaRe rePreSenTAtiVE     1\n",
       "LabOrAtOrY TechNIcIaN         1\n",
       "SALes REpResENTaTIVE          1\n",
       "sALeS eXecuTIvE               1\n",
       "HeAlthcaRE rEPrEseNTaTIVE     1\n",
       "MAnUfACturINg DIrecTOR        1\n",
       "lAboRatOrY TechNiCiAn         1\n",
       "lAbOratOrY teCHnICiaN         1\n",
       "humaN reSOUrcEs               1\n",
       "sALes rEprESentAtIvE          1\n",
       "Sales EXeCutIvE               1\n",
       "RESEaRCh dIreCtOr             1\n",
       "rEseARcH sCIENTIST            1\n",
       "rEseArch DiRECTOr             1\n",
       "REseARcH sCiENTist            1\n",
       "saLES REPrEsentATivE          1\n",
       "reseARch scIEnTIst            1\n",
       "LaBoRATorY tEChniCIAN         1\n",
       "LABOrAtORY teChNicIaN         1\n",
       "hEAlTHCaRe ReprESEnTaTive     1\n",
       "LABORATOry TecHNIciAN         1\n",
       "ReSEaRCh DIrECTOr             1\n",
       "lABOratOry teCHNiCIan         1\n",
       "HEaltHcARe REprEsEnTaTIVE     1\n",
       "RESEarCh DireCTor             1\n",
       "mAnufACTuRInG dIReCtoR        1\n",
       "laBORATORY tECHNiciAN         1\n",
       "RESEarcH sciEnTIsT            1\n",
       "ReseArcH ScIEnTIst            1\n",
       "lABORatOry teCHNICiAN         1\n",
       "REseaRcH scientist            1\n",
       "ReSeaRCH SciEntIst            1\n",
       "ReSEarcH SCiEnTISt            1\n",
       "ReseArch sCienTiST            1\n",
       "rESeaRCh SCienTISt            1\n",
       "ReseArCH scIenTIst            1\n",
       "rESearCH SCientIsT            1\n",
       "SaLes exEcUtIvE               1\n",
       "ManufACTuRING dIrEcTOr        1\n",
       "mAnUfaCTuRing DiRecTor        1\n",
       "sALEs exEcUtIve               1\n",
       "SALES eXeCUtive               1\n",
       "rESEaRcH SciEnTiST            1\n",
       "ReSEarch SCIeNTISt            1\n",
       "MAnAGER                       1\n",
       "hUMan REsOurCEs               1\n",
       "laborAToRy teCHnIcIAn         1\n",
       "manuFactuRinG DIrECtor        1\n",
       "lAborAToRY tEChnIciAN         1\n",
       "sALEs execUTiVE               1\n",
       "reseArcH sciENTIst            1\n",
       "rEsEarch ScIENTiSt            1\n",
       "lABoratorY TEChniciAN         1\n",
       "mAnUFacTuriNg dIRECTOR        1\n",
       "sAleS ExeCUtIVe               1\n",
       "REseARCh scieNTIsT            1\n",
       "mANuFActUrIng DireCTor        1\n",
       "ResEaRch sciEnTIsT            1\n",
       "REsearCH DirECtOR             1\n",
       "LaBoRaTOrY teChNICiaN         1\n",
       "researCH SCientist            1\n",
       "lABorATORy tEChnIcian         1\n",
       "humAN resoURCEs               1\n",
       "LabOraTory teChnICiAN         1\n",
       "rESeArCH sCIeNtISt            1\n",
       "SALEs eXecuTivE               1\n",
       "ResEARCh SCIENtIsT            1\n",
       "ReSeArcH ScIenTIsT            1\n",
       "HealThcARe repReSeNTAtivE     1\n",
       "hEaltHcare rEpREseNTatiVE     1\n",
       "hUMaN rESOuRCeS               1\n",
       "SALeS RepREsEnTatiVe          1\n",
       "SalES RePrESenTAtiVe          1\n",
       "ResEARch SCIENtIST            1\n",
       "mAnUfACtURInG DiRECTor        1\n",
       "SALES RePrEsenTatIVE          1\n",
       "RESeArCH dIrEcTOR             1\n",
       "ReseaRCH SciEntISt            1\n",
       "rEsEaRCH SCIenTiSt            1\n",
       "sALES ReprEsentatiVE          1\n",
       "SAleS ExeCutiVE               1\n",
       "laBOraTOrY TecHNIcIan         1\n",
       "mANufActuRIng DirECTOR        1\n",
       "MAnUFaCturinG DiReCtOR        1\n",
       "hEaLThcARE rEpresEntATiVE     1\n",
       "LaBORATORY TechNiCIAn         1\n",
       "LaBoRaTory techNICIAN         1\n",
       "MANuFActurING dIRectOr        1\n",
       "rESeaRCH sCIenTisT            1\n",
       "LABorATORY tecHNICiaN         1\n",
       "rEseaRcH scIEnTiST            1\n",
       "resEarcH ScIENTIsT            1\n",
       "SalES eXEcuTIvE               1\n",
       "ReSEArcH sCIeNtist            1\n",
       "ResEArch sCIEnTiST            1\n",
       "LAboRaToRY tEchNiciAN         1\n",
       "MANufacTuRING DIrECtOr        1\n",
       "healtHCare RePrEseNtAtIvE     1\n",
       "ResEARCH sCIEnTisT            1\n",
       "LaboratoRy teCHNIcian         1\n",
       "RESeARcH sCIeNTist            1\n",
       "SalES eXEcUtive               1\n",
       "LAboRaTory TEChNiCiaN         1\n",
       "rESEArcH diReCTOr             1\n",
       "REsEArch ScieNtISt            1\n",
       "ReSEarch scIeNTIsT            1\n",
       "MAnAGEr                       1\n",
       "lABORaTOry TEcHnICIaN         1\n",
       "HEaltHcARE rEPReSeNtativE     1\n",
       "LAbORATORy technIciAn         1\n",
       "laBoRatoRy TEChNICiAN         1\n",
       "salEs ExeCUTIvE               1\n",
       "mAnUfACTURing dIreCToR        1\n",
       "salES eXECuTive               1\n",
       "SALEs REPREsEntatIve          1\n",
       "ResEarCH scIeNtiST            1\n",
       "SaleS eXeCuTIvE               1\n",
       "REseARCh SCIenTist            1\n",
       "heaLtHcARe rePRESEntatIVe     1\n",
       "LABORAToRy tEchNICiAn         1\n",
       "mAnuFACTuRinG diReCToR        1\n",
       "MaNaGeR                       1\n",
       "SALeS RePreSenTATiVe          1\n",
       "saLes eXECutIve               1\n",
       "REseARCh SCiEntiST            1\n",
       "lABoRatory teCHNiCiaN         1\n",
       "rESEaRch sCientISt            1\n",
       "laboraToRy tECHniCIaN         1\n",
       "SaLes rePrESENTaTivE          1\n",
       "resEarcH sCiENTiST            1\n",
       "sAleS ExeCUTIVE               1\n",
       "resEarcH SCienTiSt            1\n",
       "salES execUTiVe               1\n",
       "lAboRATOrY tEChNiCiaN         1\n",
       "SALES rEPrESENtaTIVE          1\n",
       "SaLES EXecutIvE               1\n",
       "SALes EXECUTivE               1\n",
       "sAles EXEcuTIVE               1\n",
       "SaLeS eXeCuTIve               1\n",
       "reSearCH sCIEnTIst            1\n",
       "researCh ScIeNtIsT            1\n",
       "mAnuFACturiNG dIreCtoR        1\n",
       "LABOraTOry TECHNiCIAn         1\n",
       "rEsEArcH scIeNTiSt            1\n",
       "SaLEs repreSentative          1\n",
       "LAbOratory TeChNicIAn         1\n",
       "SAles ExECuTIve               1\n",
       "LAbORaToRY TecHNICiAn         1\n",
       "SaLEs repReSEnTATiVE          1\n",
       "SAlES exEcuTiVE               1\n",
       "hEaLtHCaRE rEPReSeNTAtIvE     1\n",
       "sAlES REPreSentAtiVe          1\n",
       "sALeS RePresenTAtivE          1\n",
       "labORatOry TEcHniCIAn         1\n",
       "ResEArch scIEntIsT            1\n",
       "sAleS execUTIVE               1\n",
       "rEseArcH SCiEntist            1\n",
       "MANUfactUrING DIRECtOr        1\n",
       "laBORatoRy TEcHnician         1\n",
       "sALes ExEcUtiVE               1\n",
       "sAlES eXecUtivE               1\n",
       "HeALTHcARE RePrESEnTativE     1\n",
       "humAn resourCeS               1\n",
       "RESEarch ScieNtIst            1\n",
       "humaN ReSOuRCes               1\n",
       "ReSEaRcH SCIeNtIsT            1\n",
       "ReSeaRch SCIentiST            1\n",
       "SALeS eXEcuTive               1\n",
       "mANUFACtuRIng DIRECtor        1\n",
       "rESearcH sCientist            1\n",
       "sALEs EXEcUtiVE               1\n",
       "laBORatORY TeChnICIAN         1\n",
       "rESEArCh DIrecTOR             1\n",
       "ReseArCH scIenTiSt            1\n",
       "reSEArcH SCiEnTIst            1\n",
       "sales repResENTaTiVE          1\n",
       "mANagER                       1\n",
       "maNUFActUrInG dIreCTOr        1\n",
       "ReseArCH dirECTOR             1\n",
       "reSeaRch DireCtOR             1\n",
       "hEalthCarE REPResEnTaTive     1\n",
       "MAnaGeR                       1\n",
       "MaNAger                       1\n",
       "sales execUTIVe               1\n",
       "SAleS EXeCuTive               1\n",
       "hEALTHcArE rePReSEnTATive     1\n",
       "HeALTHcare repREsEnTAtivE     1\n",
       "ReSearCH ScIEntISt            1\n",
       "saLeS RePreseNTAtIve          1\n",
       "HUmAN REsOURcES               1\n",
       "SAles REprESeNTAtiVe          1\n",
       "MANaGeR                       1\n",
       "LABOrATORy tEChNiCIaN         1\n",
       "REsEaRch scIenTIsT            1\n",
       "saLES RePRESenTAtIve          1\n",
       "saLeS eXecUtivE               1\n",
       "maNuFAcTurING diREctOr        1\n",
       "laboraTORY TechNiciaN         1\n",
       "reSearCh DIRectOR             1\n",
       "SALes eXEcUtiVe               1\n",
       "mAnAger                       1\n",
       "SAleS ExEcUTiVE               1\n",
       "SalES exECUTive               1\n",
       "SAlES EXECUtIvE               1\n",
       "heALTHCAre rEpreSenTaTIvE     1\n",
       "maNufAcTuring directOr        1\n",
       "saleS EXeCUtIvE               1\n",
       "MaNUFACturIng DiRECTor        1\n",
       "saLeS eXEcUTivE               1\n",
       "huMAn resOURces               1\n",
       "resEaRcH sCIeNTisT            1\n",
       "MANAGer                       1\n",
       "laboRatORY teCHnICIaN         1\n",
       "reseArCH ScIeNTiSt            1\n",
       "HEALTHcarE rePResENTATIVe     1\n",
       "laboRAToRY tEChniCIAN         1\n",
       "SAlEs eXecUTive               1\n",
       "hUMaN reSoURces               1\n",
       "MANuFacTUrinG DIrEctoR        1\n",
       "reSearCh SCiEnTist            1\n",
       "SaLes RePreSentAtIvE          1\n",
       "rESEArch sciENTIST            1\n",
       "HEALtHcAre rEPrESENtative     1\n",
       "HeALtHCare RepREseNTAtivE     1\n",
       "ResEaRcH SCIentist            1\n",
       "SAlEs exeCUTIVe               1\n",
       "SaLEs ExEcutive               1\n",
       "ReSeaRch sCienTiSt            1\n",
       "huMAn ReSOurCES               1\n",
       "SalES eXecUTiVE               1\n",
       "sAles eXecutIVE               1\n",
       "rEseArCh SCieNTISt            1\n",
       "maNuFaCturInG dirECTOR        1\n",
       "humAN rESOURCes               1\n",
       "heaLtHCAre rEprEsEntAtiVe     1\n",
       "LAbOrATORY tEChNiciAn         1\n",
       "LaboRAtory TeChnICian         1\n",
       "SaLES exECutIVE               1\n",
       "Sales exECutive               1\n",
       "sAles exeCUTIvE               1\n",
       "SALEs REpRESentatIve          1\n",
       "LAboRatORy TecHNicIaN         1\n",
       "rEseARch DIrEctOR             1\n",
       "sAleS REPrEsEnTATiVe          1\n",
       "lABORaTOrY teChniCIan         1\n",
       "Sales REpresenTATiVE          1\n",
       "HuMAn RESOUrceS               1\n",
       "sAles execUtIve               1\n",
       "MANuFACtUrinG DIreCtOr        1\n",
       "SALEs eXEcutivE               1\n",
       "Sales exECUTIvE               1\n",
       "sales REPReSeNtAtIVe          1\n",
       "heAlthcare rEPResENTatIvE     1\n",
       "rEsEArCh sCIENtIsT            1\n",
       "ReSeArch sCIEnTiSt            1\n",
       "SaLes REPREseNtATive          1\n",
       "HuMAn rEsOUrceS               1\n",
       "reSEarCh sciENTiSt            1\n",
       "HUmAN rEsOURCEs               1\n",
       "LabORatoRY TEchNIcIan         1\n",
       "HeaLthCaRe ReprESeNtAtIVE     1\n",
       "SALES EXECuTIVE               1\n",
       "ReseaRch SCIenTIsT            1\n",
       "huMAn ReSouRcEs               1\n",
       "reSEARcH sciEntIST            1\n",
       "hEALtHcaRE RePResEnTATivE     1\n",
       "SALES EXEcutIve               1\n",
       "hUMan rEsOuRCES               1\n",
       "LaBoratory TECHnICIAn         1\n",
       "laBorATORY tEchNICiAn         1\n",
       "reSEArCh sCieNtiST            1\n",
       "mAnUfacTUrING DireCtOr        1\n",
       "saLeS EXeCUTIve               1\n",
       "researCh dIrEctor             1\n",
       "MAnufACtUriNG dIrecTOR        1\n",
       "hEalThCaRe rEPReSeNtaTiVe     1\n",
       "sAlES EXECUtivE               1\n",
       "HeaLTHcARE reprESenTAtIve     1\n",
       "HEaLTHCArE rEpreSeNtatiVE     1\n",
       "ReSEArch scieNTiST            1\n",
       "SaLeS exEcUTiVE               1\n",
       "human RESOurceS               1\n",
       "mAnuFACTURIng DIrECToR        1\n",
       "SAleS ExEcuTiVE               1\n",
       "LAboRAtoRy tEcHnICiaN         1\n",
       "SAlEs exEcUtIve               1\n",
       "sALeS execUTIve               1\n",
       "heaLThCARE reprESeNtATIVE     1\n",
       "HUMaN resoURCES               1\n",
       "sAles executiVe               1\n",
       "sALES EXEcuTIVe               1\n",
       "ReseaRCh dIRecTor             1\n",
       "saLes ExECutIvE               1\n",
       "heaLTHCaRe rEPReSeNtatIve     1\n",
       "RESearch SCieNtISt            1\n",
       "SaLes ExecUtIVe               1\n",
       "sAlES ExECUTivE               1\n",
       "LAboRaTOry tECHNiCIAn         1\n",
       "saLEs ExeCUTiVe               1\n",
       "MANUfaCtuRiNG DiReCtor        1\n",
       "HEaltHCarE REPreSENtAtIve     1\n",
       "sAleS EXECUtIvE               1\n",
       "SAlES rEpreSENtaTiVe          1\n",
       "LAbORAToRy tEcHNICian         1\n",
       "reSearCH scientiST            1\n",
       "sALES RePrESENtaTiVE          1\n",
       "SaLEs ExECUtiVE               1\n",
       "SAleS ExEcutiVe               1\n",
       "resEArCH SCIEnTISt            1\n",
       "maNUFacturing DiRector        1\n",
       "maNaGER                       1\n",
       "heALtHCArE RepRESENTATIVE     1\n",
       "mANUFacTURInG DIREctoR        1\n",
       "hEAltHCarE REpreSentaTiVe     1\n",
       "SaleS eXeCuTIVE               1\n",
       "HEalTHCArE rEpresEnTaTIvE     1\n",
       "manUFactuRING DIreCTor        1\n",
       "rESEARch SciENtiSt            1\n",
       "salEs eXEcuTIvE               1\n",
       "lABOraTory teCHnIcIAn         1\n",
       "Sales exECUTIve               1\n",
       "REsEaRch direCTor             1\n",
       "LABoRAToRY tECHnician         1\n",
       "SAles ExeCUtiVE               1\n",
       "SalES exEcutIve               1\n",
       "HeAlTHcARE rEpReSENTAtIvE     1\n",
       "LABOratORY TEcHNIciAN         1\n",
       "ReseaRcH sCientiSt            1\n",
       "resEArCh sCIeNTiSt            1\n",
       "sAleS reprESEnTaTIve          1\n",
       "heaLThcare rePreseNtAtive     1\n",
       "saLes represEnTAtIVE          1\n",
       "SALES exeCUtIve               1\n",
       "hUman ResourCeS               1\n",
       "rEseaRCH sCIENtIst            1\n",
       "mANuFacTURiNg DIReCtOr        1\n",
       "LABOrAtOrY TecHnICIAN         1\n",
       "resEaRCH DIrEctOR             1\n",
       "ResEARCH ScIeNTiST            1\n",
       "reSeaRCh SCieNtISt            1\n",
       "hEaLthcArE rEpReSENtatIve     1\n",
       "labOrAToRY TeCHnIciaN         1\n",
       "LABorAtORy TEcHNIcIAn         1\n",
       "laBORaToRy TeChniCian         1\n",
       "SaLeS exECUtIvE               1\n",
       "lAborAtOrY teCHniCiAn         1\n",
       "sALES ExecUTIve               1\n",
       "SaleS exeCUtIvE               1\n",
       "LaBorAToRy TEcHNiCIaN         1\n",
       "saleS exEcuTivE               1\n",
       "reSEaRcH SCiENtIST            1\n",
       "SAles EXecuTiVe               1\n",
       "sALeS exEcUtiVe               1\n",
       "lABOraTOrY tecHniciaN         1\n",
       "ResearCH scIeNTiSt            1\n",
       "SAlEs ExeCuTiVe               1\n",
       "REseARcH scIeNTist            1\n",
       "SaLEs EXECutIvE               1\n",
       "LabOrAtOrY TEcHNiciaN         1\n",
       "SalEs EXECutivE               1\n",
       "saLes EXECUtIve               1\n",
       "LAbORaTory tEcHnIciAN         1\n",
       "sAlEs eXeCUTive               1\n",
       "hEalThCARE rEpRESeNTATIVe     1\n",
       "MaNAgEr                       1\n",
       "saLEs EXECUTive               1\n",
       "rESEArcH scienTIST            1\n",
       "LABOrAtorY tecHniCiaN         1\n",
       "lAboRaTORY TECHNIcIAN         1\n",
       "rEsEARcH DiRecTOR             1\n",
       "sales rEpResENtAtIVe          1\n",
       "hEAlthCarE rEpresenTATiVe     1\n",
       "Sales exECutivE               1\n",
       "sALes rEPrESenTativE          1\n",
       "lAborAtoRY TEchNIciAn         1\n",
       "LABoratOry TeCHnIcIan         1\n",
       "resEArch ScientiST            1\n",
       "LABoraToRY TEChnicIan         1\n",
       "SALes EXEcutIvE               1\n",
       "heAlThcaRe REprESeNTATive     1\n",
       "SaleS exeCUtiVE               1\n",
       "LABoraToRY TEcHNiciAN         1\n",
       "rESEARCH SCIENtIsT            1\n",
       "ManufActuriNG DireCtor        1\n",
       "manAGer                       1\n",
       "rESEArcH SCiEntIst            1\n",
       "ResEaRCh sciENtIST            1\n",
       "heAlTHcARe rEpResENtatiVE     1\n",
       "ManUfactuRIng diREcTOR        1\n",
       "HealTHcaRE rEPreSEntATive     1\n",
       "sALES ExecuTIve               1\n",
       "SaLes rEpreSeNTATive          1\n",
       "HEaLTHCARe REPresEnTaTiVE     1\n",
       "rEsEARcH ScieNTisT            1\n",
       "salEs eXeCuTIve               1\n",
       "sALeS RePREsEntaTIVe          1\n",
       "lAbOrAtORy tECHNICIAN         1\n",
       "HEALthCaRe reprEsEnTaTivE     1\n",
       "LABorAtORy TEchnIciAn         1\n",
       "saLeS eXecUTIVE               1\n",
       "sALeS ExecuTiVE               1\n",
       "saLeS REprESENTaTIvE          1\n",
       "lAbORATorY TEchniciAN         1\n",
       "MaNUfActuRInG diREctOr        1\n",
       "MAnufactURInG DiREctoR        1\n",
       "humAN ResoUrceS               1\n",
       "lABoRatory teCHniciAN         1\n",
       "lABORatorY TECHNIciAN         1\n",
       "LAboraTORY TEchNIciAN         1\n",
       "maNuFACtURINg DirEcToR        1\n",
       "rEsearCh sciEnTISt            1\n",
       "sAlES rEpResENTaTivE          1\n",
       "saLes REPrEsentAtiVE          1\n",
       "MAnufACTuRiNG DIReCTOR        1\n",
       "SALES RepRESENTatIvE          1\n",
       "ReSEArcH SCIEntisT            1\n",
       "rEsearCH SCIeNtIst            1\n",
       "SaLes REprESENTAtIVE          1\n",
       "lABorATORY tEChNIcIAn         1\n",
       "rEsEarCH SCieNTist            1\n",
       "LAboraTORy TeCHNicIan         1\n",
       "LaboRAtory tECHnicIAn         1\n",
       "lAboRAtoRY TeCHNiCIAN         1\n",
       "lAbOratOry teChnIcIan         1\n",
       "labOrATORy tEChNiCiaN         1\n",
       "LaBOrAToRy teChNiciAn         1\n",
       "HeaLTHcare RePrESENtATIVe     1\n",
       "reseaRCh SCIentIst            1\n",
       "hUMaN rESouRces               1\n",
       "sAles ExecUtive               1\n",
       "HumAN REsourceS               1\n",
       "sALeS ExEcUTiVe               1\n",
       "LaBorATORy TeChNiCiAN         1\n",
       "REseARcH DiRectOr             1\n",
       "LABorATory TecHnIcIaN         1\n",
       "saLES exEcutivE               1\n",
       "lAbOrAtOrY tEChNiCiAN         1\n",
       "reSEaRCh SCIEnTiSt            1\n",
       "ReSEaRCH scientiSt            1\n",
       "LaborAtorY Technician         1\n",
       "LABoRatoRY TeChnICiAN         1\n",
       "rESEARCh ScIENtIst            1\n",
       "ManufAcTUriNG diRECTOR        1\n",
       "lAbORatory tECHnICiAn         1\n",
       "LAboraTOry TeCHniCIan         1\n",
       "sALEs RePREsentaTive          1\n",
       "LAbOrAtorY tEcHNIciaN         1\n",
       "reSeARCh scientIST            1\n",
       "laBorATOrY TeChNIcIAn         1\n",
       "HeALTHCARE REPreSEnTAtIVE     1\n",
       "LaBORatORy tEchNiCian         1\n",
       "salEs REPREsENtaTIve          1\n",
       "lAbORatOrY teCHNIciaN         1\n",
       "sALES ExecUtIve               1\n",
       "ReSeARCh DireCtOr             1\n",
       "LABOrATOrY TEchnIcIAn         1\n",
       "ReSEARch SciEntiST            1\n",
       "resEaRCH sCienTISt            1\n",
       "healThcaRE REPReSEntAtIVe     1\n",
       "laBORAToRy TechNicIaN         1\n",
       "LABORatoRy tECHNICIaN         1\n",
       "rEseaRCH sCIeNtiSt            1\n",
       "REseArcH DireCtOR             1\n",
       "ReseaRcH SCieNTIST            1\n",
       "SalEs eXecuTive               1\n",
       "reSeARCH SCIenTiST            1\n",
       "rEseARCH sCIeNTisT            1\n",
       "reSEArCH sCieNTiST            1\n",
       "rESeaRCH ScientIST            1\n",
       "REsEArCH dIrECTOr             1\n",
       "HEAlThcARe rEPREseNtATIVe     1\n",
       "labOrATORY tEcHNiCIaN         1\n",
       "ReSeARCH dIREctOR             1\n",
       "laboRATOry techNICiAn         1\n",
       "saLes eXEcutIvE               1\n",
       "rEsEarCh scIEntISt            1\n",
       "resEarch SCienTIst            1\n",
       "reseARcH ScIenTisT            1\n",
       "SAlES rePrESentaTIVe          1\n",
       "lAborAtORY TeCHNIciAN         1\n",
       "lABOraToRy TEChNIciaN         1\n",
       "laborATOry TechNiCiAN         1\n",
       "LAboRaTOrY tEcHNicIaN         1\n",
       "SAlEs eXEcUTIVe               1\n",
       "ResEaRCh sCiEnTIsT            1\n",
       "sales EXecUTIvE               1\n",
       "LabOraToRy technICiAN         1\n",
       "saLEs rEpRESEnTAtiVe          1\n",
       "REsearCH sCIeNTIst            1\n",
       "lABoraTORY tEcHnicIAN         1\n",
       "LABorAToRy TecHnicIan         1\n",
       "lABoRaTORY tEChniCiAN         1\n",
       "LABORAtoRY tEcHniCIAn         1\n",
       "ResEArch SCIENTiSt            1\n",
       "LAboRAtORy TEcHNIcian         1\n",
       "MAnuFActUring DIrEcToR        1\n",
       "HeALThCARE rEPRESEnTATIvE     1\n",
       "rESeARch SCIentisT            1\n",
       "LaBORAToRy teChnICiAn         1\n",
       "SaLes rEprESENtatIVe          1\n",
       "sALES rePReSEntATIvE          1\n",
       "manAGEr                       1\n",
       "rESeaRch SCIeNTIST            1\n",
       "sAlES ExecUTiVE               1\n",
       "laBORatory tecHnIcian         1\n",
       "laBOrAtOry TEChnICiAn         1\n",
       "RESEaRcH sCientiSt            1\n",
       "sALeS RePReSENtAtiVe          1\n",
       "SaLeS RepRESenTatIve          1\n",
       "LaBoRAtORy TEcHnICiAN         1\n",
       "salEs repResEntatiVe          1\n",
       "sALes exECutIVe               1\n",
       "resEaRcH scieNtIST            1\n",
       "laBOrATORY TechNiCiAn         1\n",
       "labORAToRy TeCHNicIAN         1\n",
       "saLEs EXEcUtIVE               1\n",
       "SALes eXECuTive               1\n",
       "lABoraToRy techNICIAn         1\n",
       "SAlEs eXEcUTiVE               1\n",
       "reSeARCH ScIENtISt            1\n",
       "rEseaRCH scIeNTIsT            1\n",
       "MaNufacTuRINg DirEcTor        1\n",
       "lABoratORy tEChnIciaN         1\n",
       "LabOrATORy TEchniciAn         1\n",
       "LaborAtorY TecHNICIAn         1\n",
       "lABorAToRy teCHNIcIaN         1\n",
       "manUfACtuRIng DiRECtOR        1\n",
       "ResEarCh ScIenTisT            1\n",
       "HEaLthcAre reprESentATiVE     1\n",
       "sAles RePreseNtativE          1\n",
       "mAnuFacTUrinG dIrECtOR        1\n",
       "rESeArCh sciENTiSt            1\n",
       "LAboRATOry TeCHnician         1\n",
       "rEseaRch sCIenTiST            1\n",
       "SaLeS EXEcUTiVe               1\n",
       "lAbORAtoRy TEChNiCIAN         1\n",
       "MAnUFacTurInG dirEcToR        1\n",
       "sALEs ExECutiVe               1\n",
       "SALES EXecutivE               1\n",
       "saLEs RePREsentAtiVE          1\n",
       "labORatorY TEchNiCian         1\n",
       "sAlEs EXecUTIVE               1\n",
       "HEaLtHcArE rEPrEseNtAtIVE     1\n",
       "LaBorAtOrY teCHNICIAn         1\n",
       "reseARCH sCiEnTIst            1\n",
       "reSEaRCH scIENTiST            1\n",
       "SAles execUTive               1\n",
       "rESEarCh scIenTisT            1\n",
       "reSearCH ScIeNtiSt            1\n",
       "resEaRcH scIENTiSt            1\n",
       "hEaLThcAre repREseNtATIvE     1\n",
       "LabORatORy tEChnIcIAn         1\n",
       "SAles rePREseNTatIVE          1\n",
       "SALes eXECuTIvE               1\n",
       "sAleS rEPrEsENTaTiVE          1\n",
       "LaBORatoRy teCHnIciAn         1\n",
       "rEsEARCh ScieNTist            1\n",
       "HeALThcAre RePresENTATive     1\n",
       "lAboRATORy TechNIcIAN         1\n",
       "LabOrAtory TechNIcIan         1\n",
       "ReSeARCh sCieNTiSt            1\n",
       "lABORAtORY tEcHNiCIAn         1\n",
       "ResEArCh ScIentiSt            1\n",
       "rEsEarCH SCIeNtIsT            1\n",
       "hEalthCARE RepresenTaTivE     1\n",
       "RESEarCh SCIEnTiST            1\n",
       "lABorATOrY TeChnICIan         1\n",
       "mANuFacTurinG DirECtoR        1\n",
       "sales rEprESEntAtIvE          1\n",
       "rESEARch SCIEnTISt            1\n",
       "SaLEs ExEcUtiVe               1\n",
       "HUmaN RESOURces               1\n",
       "SALEs ExecUTIvE               1\n",
       "SAles EXecUTivE               1\n",
       "salEs exeCutiVE               1\n",
       "ReseArcH SciEntIst            1\n",
       "sALES exeCUtIve               1\n",
       "labOrATory teCHnIcIAn         1\n",
       "sALEs eXEcuTIVe               1\n",
       "MaNUFAcTUriNg DiRECTor        1\n",
       "LABOraTory TecHnIciaN         1\n",
       "Sales ExECutiVe               1\n",
       "HeaLThCArE REpRESENTAtIVe     1\n",
       "MANUfACTuRinG diRecTOR        1\n",
       "rEsEARCH SciENtisT            1\n",
       "MAnuFaCtURING DirECTOr        1\n",
       "maNUfAcTURiNG dIRectoR        1\n",
       "saLeS EXEcUTIVe               1\n",
       "rESEArCh Scientist            1\n",
       "saleS executIVE               1\n",
       "sales ExecutIvE               1\n",
       "LaborAtORY TechNIciaN         1\n",
       "LaBorATORy tEChnICiaN         1\n",
       "saLes ExecUtivE               1\n",
       "RESEarCH ScIENTisT            1\n",
       "sAles ExECUTive               1\n",
       "LabORAtorY TeChniCIAn         1\n",
       "sAlES eXEcuTivE               1\n",
       "SALes exEcuTIVe               1\n",
       "lABoraToRY teCHnIcIaN         1\n",
       "SaLES EXEcUtIVE               1\n",
       "maNagER                       1\n",
       "HeAlThcare rePREsentatIVE     1\n",
       "sAlES EXEcUtIVe               1\n",
       "REseARCH DirectOr             1\n",
       "ManAGer                       1\n",
       "LabOraTOry TEChniCIaN         1\n",
       "salES ExEcuTiVE               1\n",
       "laBoratoRY tECHNICiAN         1\n",
       "rEsEARCH ScIentisT            1\n",
       "MaNuFaCTUrING dirECtoR        1\n",
       "SAlEs rEpreSeNTAtiVe          1\n",
       "RESEarCH ScIENTIsT            1\n",
       "HeALthCARE rePRESeNtATiVE     1\n",
       "ResEARcH DiReCToR             1\n",
       "resEArcH DIrEcTOR             1\n",
       "ResEARcH DIrEcToR             1\n",
       "MaNuFACTUriNG DIRector        1\n",
       "REsearCh dIRECTOr             1\n",
       "SALEs eXeCuTive               1\n",
       "RESearCh SCieNTIst            1\n",
       "manageR                       1\n",
       "saLEs eXEcUTIvE               1\n",
       "lAbORAtORy tECHNiCian         1\n",
       "laboRatoRy teCHNiCiaN         1\n",
       "salES eXECUtive               1\n",
       "ManUFACtURiNg DiRECTOr        1\n",
       "LABoRaTOrY teChNICiAn         1\n",
       "SALeS eXECUtivE               1\n",
       "sales ExecuTiVe               1\n",
       "mANUfaCTuRiNG DiRECtOr        1\n",
       "LaBoraTORy TeChNiCIAN         1\n",
       "laBORATORy tECHNICIan         1\n",
       "HeaLthcARE RePreSeNtatiVe     1\n",
       "HeAlTHCare RePrEsenTatIve     1\n",
       "SAleS eXecuTiVe               1\n",
       "SaLeS REPRESentATive          1\n",
       "rESEARCh dIrEcTOr             1\n",
       "LABOrAtORy TechnICiAN         1\n",
       "sAlES execUtIVE               1\n",
       "saLES ExECUTIve               1\n",
       "sAles EXeCutive               1\n",
       "ReSEaRcH sciENTIST            1\n",
       "SALES EXEcUTIvE               1\n",
       "MaNUfacTurINg DiReCTor        1\n",
       "LABORAtoRY TeChnICian         1\n",
       "maNuFACTUrInG dIREcTor        1\n",
       "saLes ExeCutivE               1\n",
       "labORATORY TechnIcIaN         1\n",
       "SAles EXecutiVE               1\n",
       "RESEARCH sCiEntIST            1\n",
       "heAltHCARE rePrESENTaTIve     1\n",
       "ReSeARcH sciEnTiST            1\n",
       "LabOraTory TechNiCIAN         1\n",
       "SALes EXecUtIve               1\n",
       "laboratORY TEcHnicIAN         1\n",
       "hEaLthCare repResEntaTIVe     1\n",
       "SalES EXecuTIvE               1\n",
       "labORatORY TECHNIciAn         1\n",
       "Sales eXEcuTive               1\n",
       "SAlES eXECutIVe               1\n",
       "heALtHCARE rePResENtAtivE     1\n",
       "maNufactUrinG dIREctOr        1\n",
       "manUFactURiNG dIReCtoR        1\n",
       "sALEs ExeCuTive               1\n",
       "LaBoraTORY teCHNiCIaN         1\n",
       "ReseaRch scIenTisT            1\n",
       "SAlEs EXECUTIVE               1\n",
       "ReSeArCH ScIEntIsT            1\n",
       "HeaLthcarE rEPrESeNtATIVE     1\n",
       "maNAGER                       1\n",
       "SAles ExECutiVE               1\n",
       "saLEs eXEcutivE               1\n",
       "laBoratORy TeCHNicIan         1\n",
       "salEs eXECuTivE               1\n",
       "HeAltHCarE rEpREsENtAtIVe     1\n",
       "MaNUFActURinG DIreCtoR        1\n",
       "REseARCH DIrECTOr             1\n",
       "MaNUfaCtUrInG diRectOr        1\n",
       "ManuFActurIng dIrEctOr        1\n",
       "SaLes EXeCuTiVE               1\n",
       "saLEs exEcUTIVe               1\n",
       "rEsearch diRecTOR             1\n",
       "maNUfaCTUrinG DIReCtOR        1\n",
       "ResEaRCH dIReCtor             1\n",
       "ReSeArCh dirECTOR             1\n",
       "HeAlthcarE rEPreSentATive     1\n",
       "mAnuFAcTuRiNG diRECtOR        1\n",
       "SaLeS eXECutiVE               1\n",
       "HEalthCare REPresenTaTIve     1\n",
       "SalEs eXecUTive               1\n",
       "LAborAtOry TEchniCIAn         1\n",
       "hEALtHcARE rePrESeNtATIve     1\n",
       "salES ExECUTIVE               1\n",
       "MANufactUring Director        1\n",
       "ReSeARCH diRECtoR             1\n",
       "lABORATorY TEchNIciAN         1\n",
       "rEseARcH sciENTIST            1\n",
       "mANUFaCTuRing DirECtOR        1\n",
       "resEArch scIENTisT            1\n",
       "SalEs ExeCutIVe               1\n",
       "lAbORATorY tECHnICIaN         1\n",
       "laboRAtORy TecHnICiAN         1\n",
       "sAles exeCutive               1\n",
       "SALes ExeCUTIvE               1\n",
       "mAnuFAcTuRinG direCToR        1\n",
       "lABORaTory tecHNiCiAN         1\n",
       "SALes EXECuTiVe               1\n",
       "ManUfActurINg DiRectoR        1\n",
       "sAlEs exECUTivE               1\n",
       "hEALthCAre ReprEsentaTIvE     1\n",
       "heALTHCARe rEpResentatIVE     1\n",
       "rEsEArCH sCIeNTIST            1\n",
       "SaleS executIVE               1\n",
       "HuMAN rEsoUrCes               1\n",
       "MaNUfaCtURinG DiRectoR        1\n",
       "SALEs eXecuTiVE               1\n",
       "labOraTORY tEChnIciAn         1\n",
       "SALes EXEcUTiVe               1\n",
       "HEAlTHcARE REPrEsEnTATIVE     1\n",
       "HealThcARE ReprESEnTaTIve     1\n",
       "HuMAN ReSOuRCeS               1\n",
       "SAles eXEcutiVE               1\n",
       "sAleS eXecUTIVE               1\n",
       "heaLThcARe REpreSENTAtIVe     1\n",
       "LABoRaTOrY tEcHnICian         1\n",
       "MANUfaCTUrinG DireCtOr        1\n",
       "sAles exECUtiVe               1\n",
       "salEs ExECutiVE               1\n",
       "lABOraToRY TEcHNICIaN         1\n",
       "salEs EXEcutIvE               1\n",
       "mAnUfACTuRING DIreCtOR        1\n",
       "HeAlThCArE REpreSENTaTive     1\n",
       "HeALTHCARe rEpRESEnTaTIve     1\n",
       "SAlEs exECUtIVe               1\n",
       "saleS rePResENTatIVe          1\n",
       "LaboRATory tEchNICIAn         1\n",
       "resEarch sCiEnTISt            1\n",
       "reSeArch sCIenTIst            1\n",
       "saLES ExECUtiVe               1\n",
       "SALes EXECutIVe               1\n",
       "RESEARCh SciENTist            1\n",
       "MANufacTuRInG DIReCtor        1\n",
       "mAnUfactUrING DiReCToR        1\n",
       "ReSEARch dIrEcToR             1\n",
       "HEalTHcArE repREsENtaTIVE     1\n",
       "SaLEs eXeCutiVE               1\n",
       "SalES rEpRESeNtAtive          1\n",
       "heALTHcaRE rEPresEnTAtIve     1\n",
       "SALEs eXecutIVE               1\n",
       "rESeArCh DIrEctor             1\n",
       "reSEArch SCIEntIsT            1\n",
       "MaNufACtURiNg DirEctOr        1\n",
       "SALES eXEcUTiVe               1\n",
       "Sales eXECuTIvE               1\n",
       "heAltHcArE rEprEseNtatIVE     1\n",
       "saleS exECUtIve               1\n",
       "huMan RESOURcEs               1\n",
       "maNufACTURING DIREctOr        1\n",
       "lAbOrAtory tecHnIciaN         1\n",
       "reSeARch sCientIst            1\n",
       "healthcArE repReSEnTaTive     1\n",
       "ReseArcH diReCtOr             1\n",
       "HEaLthcaRe rEprEsEnTAtiVe     1\n",
       "HeaLthCare repRESeNTaTIVE     1\n",
       "HEAlTHcaRe ReprESeNtatIVe     1\n",
       "reseaRCH ScIEntIst            1\n",
       "SaleS eXEcUtIVE               1\n",
       "HEaLthcAre REPrEsEntaTIvE     1\n",
       "ManufactUrINg DiReCTOr        1\n",
       "heaLthCaRE ReprEseNtaTiVe     1\n",
       "REsEarcH sCieNTISt            1\n",
       "RESEaRCh sCIENtIst            1\n",
       "lAboratORy TeChNiCiaN         1\n",
       "SALES eXECUtiVE               1\n",
       "sALEs eXeCuTIvE               1\n",
       "maNufActUrInG DIrECtOr        1\n",
       "rEseARch SCieNtIsT            1\n",
       "SAlES ExECuTIVe               1\n",
       "rESeArCH sCientIST            1\n",
       "ResEarCh dIReCtOr             1\n",
       "hEALtHcare REpREsenTAtiVe     1\n",
       "manufaCtURiNG DirecToR        1\n",
       "ReSearch DiRecTOR             1\n",
       "SaLes rEPREsENtAtivE          1\n",
       "ManAgeR                       1\n",
       "maNAger                       1\n",
       "ResEArCH sCIEntisT            1\n",
       "reSeARCH SCIEnTiST            1\n",
       "SaLeS eXECUTivE               1\n",
       "hEaLtHCaRe reprEsenTaTive     1\n",
       "HEAltHCaRe REPreseNTatIve     1\n",
       "MaNUFACTuRing dirECTOr        1\n",
       "saLes ExECutiVE               1\n",
       "mANaGer                       1\n",
       "MaNufactuRINg dIrecTor        1\n",
       "researCH DIrECtoR             1\n",
       "rESEaRCh DirEcToR             1\n",
       "healTHCAre rePREseNtATiVE     1\n",
       "SalEs eXecUTIVe               1\n",
       "Sales exECuTIVE               1\n",
       "hEaLtHCARE ReprESENTATivE     1\n",
       "mAnagER                       1\n",
       "hEALThcArE REPrESeNTATive     1\n",
       "MaNAGEr                       1\n",
       "sAles EXecuTive               1\n",
       "REseaRCh dirEcToR             1\n",
       "hEaltHCarE ReprESENTAtIvE     1\n",
       "RESEARCH dIrECtor             1\n",
       "heaLtHcArE repResENtATiVe     1\n",
       "MAnUFaCtUring dIRecTOr        1\n",
       "REseArcH sciENtiST            1\n",
       "MAnaGER                       1\n",
       "reSeARCh DIrEcToR             1\n",
       "RESeaRCH dirEctor             1\n",
       "reseARCh DIrEctoR             1\n",
       "MANUfACturing DIReCtOr        1\n",
       "SALEs exeCUtIVe               1\n",
       "RESeArcH DIrEctoR             1\n",
       "reSEaRCH DIrectoR             1\n",
       "mANAGEr                       1\n",
       "Sales eXEcUTiVe               1\n",
       "Sales ExeCutIVe               1\n",
       "MANAger                       1\n",
       "sAleS EXECUtIve               1\n",
       "ReseArCH DIrECtOr             1\n",
       "ManaGER                       1\n",
       "maNagEr                       1\n",
       "manUfACtURing dirEctOR        1\n",
       "mAnAgER                       1\n",
       "saLes eXEcUTIVE               1\n",
       "ReSeaRch directOR             1\n",
       "salES ExecuTIve               1\n",
       "ResEARCh SciENTist            1\n",
       "heAltHCare rEPrESEntaTIvE     1\n",
       "SalES exECUTIve               1\n",
       "RESEarch SCIenTisT            1\n",
       "LABorAToRY tECHnIciAN         1\n",
       "LaboRAtorY TecHNiCiAn         1\n",
       "maNufactUring DIrEcToR        1\n",
       "Sales exEcUtiVe               1\n",
       "MaNufActURing dIrecTOr        1\n",
       "lABORAtOry tECHnIcIan         1\n",
       "SALEs eXECuTive               1\n",
       "rEsEARcH SCIeNTist            1\n",
       "salEs EXeCUtIvE               1\n",
       "ManAgER                       1\n",
       "heALthCArE RePResEntaTIVe     1\n",
       "Sales ExECuTIVe               1\n",
       "saLEs exEcutIVe               1\n",
       "laBoratOry tecHNiCiaN         1\n",
       "LABoRATOry teChnicIan         1\n",
       "ResearcH DiReCtOR             1\n",
       "MANUFACturING DIRecToR        1\n",
       "resEaRCh SciEnTist            1\n",
       "sALeS execUTiVE               1\n",
       "saLES ExECuTIVe               1\n",
       "LaboraTOry TEcHniCiAN         1\n",
       "ManUfaCTUriNg dIReCtor        1\n",
       "sAlES eXeCuTIVe               1\n",
       "LABOrATorY TechNIcIaN         1\n",
       "sALes exECuTiVE               1\n",
       "sAleS execuTiVE               1\n",
       "LaBoRaTorY TeChNicIAn         1\n",
       "LABORaTorY TECHniciaN         1\n",
       "ReSeARch scIENTISt            1\n",
       "MAnAgEr                       1\n",
       "hEALThcarE RepReSeNTAtIve     1\n",
       "SaleS EXeCuTivE               1\n",
       "maNaGer                       1\n",
       "Sales eXEcUtIVE               1\n",
       "rEseaRcH SCienTist            1\n",
       "Sales ExecUtIVe               1\n",
       "LAboraTORy TEcHNiCIAN         1\n",
       "lAboratorY tecHNIciAN         1\n",
       "saLEs exEcUTiVE               1\n",
       "saLEs executive               1\n",
       "SAles ExeCUTiVE               1\n",
       "sAleS exeCUTiVe               1\n",
       "ManAger                       1\n",
       "sALES ExEcUTIvE               1\n",
       "REsEARCH dIReCTor             1\n",
       "SAlEs ExeCUtive               1\n",
       "manuFACtuRiNg DIrEcTor        1\n",
       "labOraTORy techNicIan         1\n",
       "LAboRaTorY teChniCiaN         1\n",
       "RESeArCh sCIentIst            1\n",
       "maNUFAcTURING direCTOr        1\n",
       "SaLes ExecUtiVE               1\n",
       "resEarcH sCiEnTISt            1\n",
       "RESEaRch SCIEntISt            1\n",
       "rEseaRch DIRECTOr             1\n",
       "SalEs eXEcuTIVE               1\n",
       "lAbORATorY teChnICiaN         1\n",
       "reSEARch scIeNTIST            1\n",
       "SAlEs repReSEnTaTiVE          1\n",
       "REsEARcH dIreCTor             1\n",
       "mAnUFaCtUrinG diReCtor        1\n",
       "SALeS eXecUTiVe               1\n",
       "manaGEr                       1\n",
       "manaGeR                       1\n",
       "sAles EXecutiVE               1\n",
       "REsearCh ScienTIst            1\n",
       "Sales ExEcUTIvE               1\n",
       "MANufactURINg DirEctOR        1\n",
       "SAles exEcutiVE               1\n",
       "saLes eXECUTIVE               1\n",
       "SAles exEcUtivE               1\n",
       "maNUfActuRinG diRectOR        1\n",
       "RESearCH scienTIST            1\n",
       "manAgER                       1\n",
       "MANufacTUrinG diREcTor        1\n",
       "LaboRaTOrY techNiciaN         1\n",
       "MAnufACturiNg dIReCtOR        1\n",
       "reseArcH DIRectOr             1\n",
       "RESEArCh dIRECTOR             1\n",
       "manUFACTuRiNg dIrECToR        1\n",
       "lABOrAtorY tEcHNICian         1\n",
       "SalES ExeCuTIVe               1\n",
       "LaboRaTORY TechnICiAn         1\n",
       "hUmaN REsoUrCes               1\n",
       "HEalThCare REPreseNTAtive     1\n",
       "maNufaCturing direcTOr        1\n",
       "SAleS eXEcUtIve               1\n",
       "RESEarCh sCiENTIst            1\n",
       "reSEarCH scIentISt            1\n",
       "lABoRAtoRY TECHNicIAN         1\n",
       "HeALThCARE rEPreSENTAtivE     1\n",
       "sAles ExecUTiVE               1\n",
       "HUmAN rESOuRceS               1\n",
       "maNUfaCTUriNG dIreCtor        1\n",
       "mAnUFACTURIng dIreCtOr        1\n",
       "manAGeR                       1\n",
       "mANaGeR                       1\n",
       "hUMAn reSoUrCES               1\n",
       "HeaLtHCARe rEPREsEnTATIVE     1\n",
       "MANAGEr                       1\n",
       "rESeArCH dIrECtor             1\n",
       "rESearCh SCiEnTIST            1\n",
       "RESEArCH sCIenTIst            1\n",
       "HEAlTHcaRe rEpreseNTatIvE     1\n",
       "salEs EXecuTIve               1\n",
       "MaNuFacTUriNG dIRectOr        1\n",
       "heAlThCARE rEpreSentaTIVE     1\n",
       "SaLeS exEcuTIVE               1\n",
       "LAboRatORY TeCHNicIAn         1\n",
       "RESEARcH DirecToR             1\n",
       "ReSeARCh DiRECtor             1\n",
       "SALEs eXEcUtive               1\n",
       "SalEs eXECuTive               1\n",
       "labORATORY TecHnICian         1\n",
       "sALEs ExeCuTiVE               1\n",
       "saleS eXeCUTiVe               1\n",
       "reseaRCh SCIENtIst            1\n",
       "rESeaRCH sCienTisT            1\n",
       "HEalTHCare REPrEsEntATiVE     1\n",
       "healTHCaRE ReprEsEntaTIVE     1\n",
       "rEseaRcH scieNtisT            1\n",
       "HEalThCaRe rEpReSENtatIVe     1\n",
       "ResEaRCH DIREcTOr             1\n",
       "HeaLTHCArE rEPrESEntATIve     1\n",
       "SALes rePresEntaTiVE          1\n",
       "ReseaRCh sCIENTIst            1\n",
       "SALES eXECUTIve               1\n",
       "reseARCh SciEnTiST            1\n",
       "mANUfacTURINg DiREcTor        1\n",
       "Sales RePreSENtATIve          1\n",
       "SALes eXEcUtIve               1\n",
       "HeALtHCarE represEntAtIVe     1\n",
       "SalEs RePResEnTatIVe          1\n",
       "LABOrATORy TEChNIciaN         1\n",
       "Sales exEcutiVE               1\n",
       "lABoRatORy TeCHNiCIAn         1\n",
       "SALeS ExEcuTiVe               1\n",
       "HeaLThCaRe rEPREsENTatiVE     1\n",
       "SaLes rEprESEntAtIvE          1\n",
       "LABOrATORy TEchNICian         1\n",
       "rESeaRcH ScieNtisT            1\n",
       "HEaltHcare rEPrEsEnTatIVe     1\n",
       "manUfAcTurInG dIrEctOr        1\n",
       "rESEARch DiRector             1\n",
       "RESEARCH scIEnTisT            1\n",
       "mAnUfaCTURINg DIRECTOr        1\n",
       "SalEs exeCuTiVE               1\n",
       "REseARcH ScIENTiSt            1\n",
       "huMaN RESOurcES               1\n",
       "SaLEs EXECutIVe               1\n",
       "LaBoRaToRY TEcHnIcian         1\n",
       "saLEs rEpRESeNTAtive          1\n",
       "ReSeArch scIenTIsT            1\n",
       "LaBOrAtory TECHNIciAN         1\n",
       "sAlES eXEcuTiVE               1\n",
       "lABOrAToRY TEcHniCIan         1\n",
       "SAlES ExecutIve               1\n",
       "SAlEs EXEcuTIvE               1\n",
       "lABorATORY TEcHNiCiaN         1\n",
       "reSearCH ScientIsT            1\n",
       "reseaRCH DIrectOr             1\n",
       "REsEarcH DIRECtor             1\n",
       "heaLThCaRE RepreSEntaTiVe     1\n",
       "sAles eXEcUtIve               1\n",
       "resEaRCH sCiENtiSt            1\n",
       "LaBoRatorY tEcHnicIan         1\n",
       "SAlES exEcUTIve               1\n",
       "HealTHCaRE rEprEsENtatiVE     1\n",
       "sAleS exEcuTive               1\n",
       "rEsEaRcH sCiENTIST            1\n",
       "lAbORatorY TeChnIciAn         1\n",
       "SALes exEcUTivE               1\n",
       "laBoraTorY tEChnICiaN         1\n",
       "lAborAtoRy technIcIAN         1\n",
       "REsearch scIENtist            1\n",
       "SALes exeCUtiVE               1\n",
       "LabORAtORY TechNiciAN         1\n",
       "SaLeS ExEcUtiVe               1\n",
       "lAboratorY TECHNIcian         1\n",
       "HEaLTHcaRE rePReseNtaTIvE     1\n",
       "SAlEs ExECUTIVe               1\n",
       "rESEaRCh sCIenTisT            1\n",
       "salES exEcUtiVE               1\n",
       "reSEaRCH sCIentisT            1\n",
       "MANufacTURIng diREcTOr        1\n",
       "maNufactURInG DireCTor        1\n",
       "SalEs EXecuTiVE               1\n",
       "lABOraTory techniCiaN         1\n",
       "REsEArCh dirEcTOr             1\n",
       "laboraTORY TeChnicIaN         1\n",
       "SAles ExECutIvE               1\n",
       "SaLEs execUtive               1\n",
       "reSEARCh ScIEnTIsT            1\n",
       "SALes RePREsEntAtivE          1\n",
       "mAnuFaCTUrING direCTor        1\n",
       "REseARch SciEntISt            1\n",
       "salES executiVE               1\n",
       "ReSeARCh DiRecTOR             1\n",
       "heaLtHcARe RePReSENtaTIve     1\n",
       "SaLeS ExecuTIVE               1\n",
       "SALes eXECUtiVE               1\n",
       "laboRaTOrY TEchniCIaN         1\n",
       "HeAltHCARE rEpReSeNtative     1\n",
       "lABoRAtory technICiaN         1\n",
       "lAbOrAtorY techNiCiaN         1\n",
       "MANufAcTUrinG dIrEcToR        1\n",
       "REseArCH sciENTIst            1\n",
       "lAbORaTORY techNiCIAn         1\n",
       "ReSeArch sCIEnTist            1\n",
       "labORatoRY TecHNiCIaN         1\n",
       "labORatoRY TeChNiCIAN         1\n",
       "HumAn rESOUrCEs               1\n",
       "SAlEs EXecutiVe               1\n",
       "reseaRch ScIeNTist            1\n",
       "saLES ExeCUTIVE               1\n",
       "rESEarcH sCIeNTiST            1\n",
       "rEsEArcH sCIeNTisT            1\n",
       "mANUfAcTURING direCTor        1\n",
       "HEAlthcaRE REPrESentATIve     1\n",
       "REseARCh SCIenTIst            1\n",
       "HeALthcarE RepReseNtatIVe     1\n",
       "reSeArch sCieNTiSt            1\n",
       "sAles eXEcuTIVE               1\n",
       "ReSEARCH sCieNtISt            1\n",
       "rEsEArch sCIenTIsT            1\n",
       "SaLEs eXeCUTiVe               1\n",
       "reseaRcH sCIEntISt            1\n",
       "saLes ExECutIVE               1\n",
       "healtHCaRe REPReSENtATIVE     1\n",
       "MAnuFactUrIng dIReCtoR        1\n",
       "LABorAtorY TecHnicIAN         1\n",
       "RESeArch dIREcToR             1\n",
       "ResEaRcH SCIentisT            1\n",
       "sALEs exECuTiVe               1\n",
       "sAlEs EXECUtiVe               1\n",
       "reSearcH sCiENTist            1\n",
       "REseARCH ScIeNTIST            1\n",
       "HUMan REsourcEs               1\n",
       "reSeaRcH DIRecToR             1\n",
       "reseArcH SCIEntiST            1\n",
       "LAbORaToRy technIcIaN         1\n",
       "sAles ExeCUtIVE               1\n",
       "lAbORatoRY tEChNIciAn         1\n",
       "salEs REPrESENTaTIvE          1\n",
       "sALES rEPReSENTAtiVE          1\n",
       "heAltHcAre REprESEnTATIVE     1\n",
       "ManAGeR                       1\n",
       "ReSearcH sCieNTist            1\n",
       "MANufAcTuRiNG dIrEcTOR        1\n",
       "researcH SciEntIST            1\n",
       "REseaRch sciEntiST            1\n",
       "lABoRAtoRY TecHnIcian         1\n",
       "lAbORAtORy TECHNicIaN         1\n",
       "rEseArCh SCieNtiST            1\n",
       "lAbOrAtorY tEChNicIan         1\n",
       "lABoRaToRy TEChnicIAN         1\n",
       "LabOratoRY tEcHNiciAN         1\n",
       "rEsEARcH ScIeNTisT            1\n",
       "laBOraTORY TeCHNICiAN         1\n",
       "LABoRaToRy TEChNician         1\n",
       "lABORaToRY teCHnicIAn         1\n",
       "ResEaRcH SciENTIst            1\n",
       "SALES exeCUTiVE               1\n",
       "hUMAn rEsOuRCES               1\n",
       "MaNUFacTuRinG DiReCtor        1\n",
       "saleS EXECUTiVE               1\n",
       "sALes EXECUtIVE               1\n",
       "SaLeS exECUtiVe               1\n",
       "LabORAtOry TecHniCiAN         1\n",
       "RESearcH SCieNtisT            1\n",
       "rEseArch sCIeNTiST            1\n",
       "sales ExeCUTiVE               1\n",
       "healTHCaRe RePRESEntativE     1\n",
       "HuMan resouRCeS               1\n",
       "maNAGer                       1\n",
       "MANUFActUrING directoR        1\n",
       "LaBOratory TeChnICiAn         1\n",
       "ManufActuRiNG DIrecTOr        1\n",
       "lABORatORY TeChNiCiAN         1\n",
       "SalEs exeCUTivE               1\n",
       "lABoRaTory teCHNiCIan         1\n",
       "maNaGEr                       1\n",
       "saLes ExECuTive               1\n",
       "saLes ExEcUtiVE               1\n",
       "huMAN reSourcEs               1\n",
       "LaBORATorY teCHniCian         1\n",
       "rEsEArcH scIenTIst            1\n",
       "SaLes EXECUTivE               1\n",
       "hEaLthcARE repreSenTATIvE     1\n",
       "lAbOrAtOrY TEcHnICiAn         1\n",
       "LaBORatORY tEChnician         1\n",
       "ReSeaRch SCIEnTiSt            1\n",
       "MaNufAcTurInG DIReCtor        1\n",
       "MAnUFAcTUrinG DiREcTor        1\n",
       "salEs rePrEsENtatIvE          1\n",
       "mANUfaCtURing DIReCTOr        1\n",
       "MANuFaCtURIng DIRectoR        1\n",
       "laBorAtORy TECHnicIaN         1\n",
       "HuMan ReSOurCES               1\n",
       "saLEs exeCUtiVe               1\n",
       "saLeS EXEcuTIVe               1\n",
       "SalEs EXeCutiVe               1\n",
       "ReseaRCH SciENtist            1\n",
       "laBoratOry TechNIcIaN         1\n",
       "rEsEarCh sCieNTisT            1\n",
       "saleS EXecuTiVE               1\n",
       "maNuFaCTuriNg dirECTor        1\n",
       "sAleS EXecUtiVE               1\n",
       "saLes eXeCUTivE               1\n",
       "HEALThCaRe rePResEnTaTivE     1\n",
       "SAlES EXEcUtIve               1\n",
       "HeAlthCArE RePReSeNtaTIVe     1\n",
       "reSeArch dIRectoR             1\n",
       "hEALthcarE REPrESEnTATIve     1\n",
       "SaLes exECutiVe               1\n",
       "saLes EXEcuTiVe               1\n",
       "maNUfaCtuRINg dIReCTor        1\n",
       "salEs ExECutIvE               1\n",
       "resEaRcH SCieNTiST            1\n",
       "hEalthcarE ReprESeNTatiVe     1\n",
       "REseaRCH SCIENTIsT            1\n",
       "resEarch diReCtor             1\n",
       "hEALTHcaRe rePrESentATIve     1\n",
       "saLes eXECUTIVe               1\n",
       "Sales eXeCUtIVE               1\n",
       "lAboRaTory tECHNIciAN         1\n",
       "SalES ExecutivE               1\n",
       "ResEaRCh ScIENTiST            1\n",
       "SaLeS ExECutiVe               1\n",
       "LaBorAtoRY tEchNIciaN         1\n",
       "labORAtOry tecHnICiAn         1\n",
       "mAnAgEr                       1\n",
       "manUfacTUriNg dirEctOr        1\n",
       "hUmAN ReSouRCes               1\n",
       "saleS ExeCUTIVe               1\n",
       "rESeaRch DiREctor             1\n",
       "labORaTORY teChNIcIaN         1\n",
       "saLES eXEcUTiVE               1\n",
       "ReseaRCh directoR             1\n",
       "resEaRCh dIrEcTOR             1\n",
       "mANUfacTURiNG dIRectOR        1\n",
       "rESEArCh sCIEnTiST            1\n",
       "huMAn ResOurces               1\n",
       "healThCaRE RepREsEntAtIve     1\n",
       "MaNager                       1\n",
       "HUMAN ResoURCeS               1\n",
       "reseaRcH SCIEnTisT            1\n",
       "MaNUFaCtURINg dIrEcToR        1\n",
       "MANuFaCTURiNG DIrEctOr        1\n",
       "HeAlThCarE rEpreSentatiVe     1\n",
       "MaNageR                       1\n",
       "sAlEs ExECUtiVE               1\n",
       "heAlthCARE REPresentAtivE     1\n",
       "ManuFACTurInG dIreCToR        1\n",
       "rESEARCh diReCtoR             1\n",
       "SaLeS exeCuTIVe               1\n",
       "saLES exeCuTIVe               1\n",
       "hEAltHcArE RepreSeNTATivE     1\n",
       "saLES ExeCutive               1\n",
       "laBORATOrY TEchNICian         1\n",
       "REsearcH DiREcToR             1\n",
       "maNUFaCTuRINg DiRECTOr        1\n",
       "saLeS exECUtive               1\n",
       "mANAGeR                       1\n",
       "HealtHcaRe REpReSENTatIve     1\n",
       "RESEarcH SCiENTiSt            1\n",
       "SAlES eXeCuTIve               1\n",
       "healtHCARe RePresenTATiVE     1\n",
       "maNuFAcTURInG DIReCtoR        1\n",
       "SaLeS EXecUtiVe               1\n",
       "Sales eXEcUTive               1\n",
       "lABORAtoRy TecHNiCIan         1\n",
       "reseaRCh dirEcTOr             1\n",
       "rESeaRCH DIReCToR             1\n",
       "heaLtHCaRe REpResENtaTive     1\n",
       "LaboratOry tEchNicIaN         1\n",
       "rEsEArCH SCiENtIsT            1\n",
       "lAborAtory TeChNiCIAN         1\n",
       "ManuFacTuRiNg DIrEcTOr        1\n",
       "LABORaTorY TEChNIcIAN         1\n",
       "SALEs eXecuTIVE               1\n",
       "sALeS eXeCuTivE               1\n",
       "sAlEs EXeCUTive               1\n",
       "heALThcare RePreSeNtatIve     1\n",
       "MANufaCturiNg dIrECtOr        1\n",
       "mANuFActuring DireCtOR        1\n",
       "SaLEs EXEcuTIVe               1\n",
       "SALeS ExECUtIVE               1\n",
       "HuMAN reSourcEs               1\n",
       "REsEarCH SciENtIST            1\n",
       "sALEs EXEcUtIvE               1\n",
       "REsEArCh scientiST            1\n",
       "mANufacTuRiNG diReCTOr        1\n",
       "MaNUFaCtuRiNG DirEctOr        1\n",
       "hEalTHcARe RePrEseNTATive     1\n",
       "SAles REpReSENtaTiVE          1\n",
       "hEALThCare RepreseNtATIVE     1\n",
       "lAboRAtORy TecHnIcIaN         1\n",
       "SaLeS rEPRESENTATive          1\n",
       "MANAgEr                       1\n",
       "MaNuFACtuRInG dirECTOR        1\n",
       "HUmAn resOuRceS               1\n",
       "ResEarCh SCiEnTist            1\n",
       "laborAtOry tEChniCIAn         1\n",
       "ManUFAcTURinG dIrEcTor        1\n",
       "SalES exECutIVe               1\n",
       "reSEaRch sCIeNtisT            1\n",
       "mAnuFActUriNG DIRECTOR        1\n",
       "SalEs EXECuTIVe               1\n",
       "SaLes exECutIVe               1\n",
       "saLes eXeCuTIvE               1\n",
       "REsearCH SCiEntist            1\n",
       "manaGER                       1\n",
       "sAles EXECUtIvE               1\n",
       "lAboRaTOrY tEcHNiciaN         1\n",
       "MAnUFacTuRING DIREctOR        1\n",
       "sales exEcutIVe               1\n",
       "saleS eXEcuTiVe               1\n",
       "SAlEs ExecuTIVE               1\n",
       "ResEARCh DIRECtoR             1\n",
       "sALes EXECUTiVE               1\n",
       "laboraTORy teChnICiaN         1\n",
       "LaBoRatorY teCHNiciaN         1\n",
       "maNuFAcTUring DIrecToR        1\n",
       "SalES EXEcUTIVE               1\n",
       "rEseARcH SCIENTIsT            1\n",
       "SalEs eXEcUTIVe               1\n",
       "maNUfaCTURING DIrECToR        1\n",
       "lABOrAToRy tEchNicIAN         1\n",
       "SAleS eXecuTIVe               1\n",
       "rEseArCh DiREctOR             1\n",
       "HUMaN ReSOUrCEs               1\n",
       "reSEARCH ScieNtisT            1\n",
       "RESEArCH scientiSt            1\n",
       "SAlES ExecuTIVe               1\n",
       "HUMaN RESoUrCES               1\n",
       "LaBOrATORy teCHnIciaN         1\n",
       "ManAGER                       1\n",
       "ReseARch ScIenTIST            1\n",
       "sALES ExeCutiVe               1\n",
       "SAles ExecutIve               1\n",
       "SaLEs REpResENTATive          1\n",
       "sALEs EXecutIVE               1\n",
       "HUmAN RESOURCeS               1\n",
       "saLEs REpReseNTative          1\n",
       "research sCiENtIst            1\n",
       "HuMan reSOurces               1\n",
       "SaLEs EXECuTIve               1\n",
       "ResEARcH ScIeNtISt            1\n",
       "sALeS eXECuTiVe               1\n",
       "rEsEaRch scIenTist            1\n",
       "ReSEArcH sCiEntIST            1\n",
       "mAnAGER                       1\n",
       "rEsEArch SCIeNtIsT            1\n",
       "mANUfacTurING dirECtOr        1\n",
       "RESeArcH SCIENtist            1\n",
       "MaNufaCtUrINg DirecTOr        1\n",
       "reSearCH SCieNtIst            1\n",
       "SALes ExeCUtive               1\n",
       "saleS eXEcuTIvE               1\n",
       "saLES ExecUTIvE               1\n",
       "RESEarCh SCIeNtIst            1\n",
       "manaGer                       1\n",
       "REseaRCH SCiEntIst            1\n",
       "sALES ExEcUTiVE               1\n",
       "ResEaRcH scIEnTIsT            1\n",
       "MAnUfaCTUrINg dIrEctor        1\n",
       "Sales exECutIVE               1\n",
       "HeALthcare RePREsENTativE     1\n",
       "saLes exEcutiVE               1\n",
       "manUFaCTUriNg DIrectOR        1\n",
       "reSearch sCienTiSt            1\n",
       "rESEArch SciEntIST            1\n",
       "ManUFaCtURInG dIReCToR        1\n",
       "manUFACtURinG DIREcTOR        1\n",
       "HEALThcaRe RePresENtaTiVE     1\n",
       "rEsEARch sCientIST            1\n",
       "labORatOry technICiAn         1\n",
       "SaLEs ExEcUTIVE               1\n",
       "reSeArcH scieNtist            1\n",
       "reseARcH scieNtISt            1\n",
       "sALES eXeCutiVE               1\n",
       "sales ExEcUtiVe               1\n",
       "mAnUfactURing dIReCtOr        1\n",
       "RESeaRCh sCientIsT            1\n",
       "reseARCH sCIEntiST            1\n",
       "REseaRCh SCiENTIst            1\n",
       "LabOrATory TEChNICiaN         1\n",
       "SalEs exECUTIvE               1\n",
       "sAlEs Executive               1\n",
       "saLes eXeCutIvE               1\n",
       "ReseARch SciENTISt            1\n",
       "ResEaRch ScieNTiSt            1\n",
       "labORaTORy TecHniciAN         1\n",
       "reSEarCh ScIeNTIST            1\n",
       "ResEArch ScieNTiST            1\n",
       "HealthcARE RePreSENtAtiVe     1\n",
       "ReSearcH scIEntist            1\n",
       "LAbOrATOry techNicIan         1\n",
       "mAnUfactURInG DiRECTOr        1\n",
       "Name: count, dtype: int64"
      ]
     },
     "metadata": {},
     "output_type": "display_data"
    },
    {
     "data": {
      "application/vnd.microsoft.datawrangler.viewer.v0+json": {
       "columns": [
        {
         "name": "JobSatisfaction",
         "rawType": "int64",
         "type": "integer"
        },
        {
         "name": "count",
         "rawType": "int64",
         "type": "integer"
        }
       ],
       "ref": "4e05d52d-4d0c-4423-b549-6ad8c57f2369",
       "rows": [
        [
         "4",
         "514"
        ],
        [
         "3",
         "481"
        ],
        [
         "1",
         "317"
        ],
        [
         "2",
         "302"
        ]
       ],
       "shape": {
        "columns": 1,
        "rows": 4
       }
      },
      "text/plain": [
       "JobSatisfaction\n",
       "4    514\n",
       "3    481\n",
       "1    317\n",
       "2    302\n",
       "Name: count, dtype: int64"
      ]
     },
     "metadata": {},
     "output_type": "display_data"
    },
    {
     "data": {
      "application/vnd.microsoft.datawrangler.viewer.v0+json": {
       "columns": [
        {
         "name": "MaritalStatus",
         "rawType": "object",
         "type": "string"
        },
        {
         "name": "count",
         "rawType": "int64",
         "type": "integer"
        }
       ],
       "ref": "de1dfe6e-5e9b-4899-8abe-1fe9e76fde4b",
       "rows": [
        [
         "Married",
         "404"
        ],
        [
         "Single",
         "325"
        ],
        [
         "Divorced",
         "188"
        ],
        [
         "Marreid",
         "35"
        ],
        [
         "divorced",
         "11"
        ]
       ],
       "shape": {
        "columns": 1,
        "rows": 5
       }
      },
      "text/plain": [
       "MaritalStatus\n",
       "Married     404\n",
       "Single      325\n",
       "Divorced    188\n",
       "Marreid      35\n",
       "divorced     11\n",
       "Name: count, dtype: int64"
      ]
     },
     "metadata": {},
     "output_type": "display_data"
    },
    {
     "data": {
      "application/vnd.microsoft.datawrangler.viewer.v0+json": {
       "columns": [
        {
         "name": "MonthlyIncome",
         "rawType": "object",
         "type": "string"
        },
        {
         "name": "count",
         "rawType": "int64",
         "type": "integer"
        }
       ],
       "ref": "cb232eaa-cd7b-45df-8fae-5718c91a937d",
       "rows": [
        [
         "6347,0",
         "4"
        ],
        [
         "5304,0",
         "4"
        ],
        [
         "2657,0",
         "3"
        ],
        [
         "2258,0",
         "3"
        ],
        [
         "5405,0",
         "2"
        ],
        [
         "8224,0",
         "2"
        ],
        [
         "2610,0",
         "2"
        ],
        [
         "5731,0",
         "2"
        ],
        [
         "2539,0",
         "2"
        ],
        [
         "2376,0",
         "2"
        ],
        [
         "11713,0",
         "2"
        ],
        [
         "2216,0",
         "2"
        ],
        [
         "19189,0",
         "2"
        ],
        [
         "3452,0",
         "2"
        ],
        [
         "2070,0",
         "2"
        ],
        [
         "8793,0",
         "2"
        ],
        [
         "2587,0",
         "2"
        ],
        [
         "4960,0",
         "2"
        ],
        [
         "11159,0",
         "2"
        ],
        [
         "5396,0",
         "2"
        ],
        [
         "2782,0",
         "2"
        ],
        [
         "4197,0",
         "2"
        ],
        [
         "9434,0",
         "2"
        ],
        [
         "5337,0",
         "2"
        ],
        [
         "2741,0",
         "2"
        ],
        [
         "2791,0",
         "2"
        ],
        [
         "5828,0",
         "2"
        ],
        [
         "2909,0",
         "2"
        ],
        [
         "2033,0",
         "2"
        ],
        [
         "2821,0",
         "2"
        ],
        [
         "7756,0",
         "2"
        ],
        [
         "2042,0",
         "2"
        ],
        [
         "6632,0",
         "2"
        ],
        [
         "7587,0",
         "2"
        ],
        [
         "4335,0",
         "2"
        ],
        [
         "5980,0",
         "2"
        ],
        [
         "4244,0",
         "2"
        ],
        [
         "5228,0",
         "2"
        ],
        [
         "2700,0",
         "2"
        ],
        [
         "2380,0",
         "2"
        ],
        [
         "2404,0",
         "2"
        ],
        [
         "2377,0",
         "2"
        ],
        [
         "2366,0",
         "2"
        ],
        [
         "2329,0",
         "2"
        ],
        [
         "4294,0",
         "2"
        ],
        [
         "6725,0",
         "2"
        ],
        [
         "10325,0",
         "2"
        ],
        [
         "4447,0",
         "2"
        ],
        [
         "10845,0",
         "2"
        ],
        [
         "3420,0",
         "2"
        ]
       ],
       "shape": {
        "columns": 1,
        "rows": 668
       }
      },
      "text/plain": [
       "MonthlyIncome\n",
       "6347,0     4\n",
       "5304,0     4\n",
       "2657,0     3\n",
       "2258,0     3\n",
       "5405,0     2\n",
       "8224,0     2\n",
       "2610,0     2\n",
       "5731,0     2\n",
       "2539,0     2\n",
       "2376,0     2\n",
       "11713,0    2\n",
       "2216,0     2\n",
       "19189,0    2\n",
       "3452,0     2\n",
       "2070,0     2\n",
       "8793,0     2\n",
       "2587,0     2\n",
       "4960,0     2\n",
       "11159,0    2\n",
       "5396,0     2\n",
       "2782,0     2\n",
       "4197,0     2\n",
       "9434,0     2\n",
       "5337,0     2\n",
       "2741,0     2\n",
       "2791,0     2\n",
       "5828,0     2\n",
       "2909,0     2\n",
       "2033,0     2\n",
       "2821,0     2\n",
       "7756,0     2\n",
       "2042,0     2\n",
       "6632,0     2\n",
       "7587,0     2\n",
       "4335,0     2\n",
       "5980,0     2\n",
       "4244,0     2\n",
       "5228,0     2\n",
       "2700,0     2\n",
       "2380,0     2\n",
       "2404,0     2\n",
       "2377,0     2\n",
       "2366,0     2\n",
       "2329,0     2\n",
       "4294,0     2\n",
       "6725,0     2\n",
       "10325,0    2\n",
       "4447,0     2\n",
       "10845,0    2\n",
       "3420,0     2\n",
       "4805,0     2\n",
       "17861,0    2\n",
       "5605,0     2\n",
       "6162,0     2\n",
       "6410,0     2\n",
       "13212,0    2\n",
       "3034,0     2\n",
       "5974,0     2\n",
       "2119,0     2\n",
       "2144,0     2\n",
       "5373,0     2\n",
       "5257,0     2\n",
       "4682,0     2\n",
       "5769,0     2\n",
       "3539,0     2\n",
       "5468,0     2\n",
       "5813,0     2\n",
       "9667,0     2\n",
       "5154,0     2\n",
       "5675,0     2\n",
       "7314,0     2\n",
       "5055,0     2\n",
       "2455,0     2\n",
       "4941,0     2\n",
       "3983,0     2\n",
       "2904,0     2\n",
       "2696,0     2\n",
       "2308,0     2\n",
       "4051,0     2\n",
       "8392,0     2\n",
       "2654,0     2\n",
       "17046,0    2\n",
       "4306,0     2\n",
       "11510,0    2\n",
       "9613,0     2\n",
       "16015,0    2\n",
       "19045,0    2\n",
       "2218,0     2\n",
       "6538,0     2\n",
       "3904,0     2\n",
       "19406,0    2\n",
       "2543,0     2\n",
       "10965,0    2\n",
       "6755,0     2\n",
       "2174,0     2\n",
       "3760,0     2\n",
       "11103,0    2\n",
       "19537,0    1\n",
       "3180,0     1\n",
       "3445,0     1\n",
       "4440,0     1\n",
       "10448,0    1\n",
       "5399,0     1\n",
       "3978,0     1\n",
       "8103,0     1\n",
       "5507,0     1\n",
       "2062,0     1\n",
       "2662,0     1\n",
       "3902,0     1\n",
       "2105,0     1\n",
       "3591,0     1\n",
       "13116,0    1\n",
       "6294,0     1\n",
       "2760,0     1\n",
       "3907,0     1\n",
       "11244,0    1\n",
       "3477,0     1\n",
       "3433,0     1\n",
       "2305,0     1\n",
       "15972,0    1\n",
       "5505,0     1\n",
       "4374,0     1\n",
       "2166,0     1\n",
       "4898,0     1\n",
       "15202,0    1\n",
       "3117,0     1\n",
       "3312,0     1\n",
       "4855,0     1\n",
       "6392,0     1\n",
       "4069,0     1\n",
       "2580,0     1\n",
       "2743,0     1\n",
       "6651,0     1\n",
       "4262,0     1\n",
       "2400,0     1\n",
       "3681,0     1\n",
       "3447,0     1\n",
       "19513,0    1\n",
       "2659,0     1\n",
       "8847,0     1\n",
       "2045,0     1\n",
       "4851,0     1\n",
       "8120,0     1\n",
       "4577,0     1\n",
       "3708,0     1\n",
       "13770,0    1\n",
       "2297,0     1\n",
       "2450,0     1\n",
       "4342,0     1\n",
       "2572,0     1\n",
       "6500,0     1\n",
       "10527,0    1\n",
       "3894,0     1\n",
       "3162,0     1\n",
       "2546,0     1\n",
       "10650,0    1\n",
       "4317,0     1\n",
       "2024,0     1\n",
       "3058,0     1\n",
       "3929,0     1\n",
       "4425,0     1\n",
       "2328,0     1\n",
       "5940,0     1\n",
       "2622,0     1\n",
       "3212,0     1\n",
       "2911,0     1\n",
       "6931,0     1\n",
       "2176,0     1\n",
       "3230,0     1\n",
       "18665,0    1\n",
       "2789,0     1\n",
       "11935,0    1\n",
       "3149,0     1\n",
       "5324,0     1\n",
       "4382,0     1\n",
       "2553,0     1\n",
       "3867,0     1\n",
       "2080,0     1\n",
       "2096,0     1\n",
       "4627,0     1\n",
       "2302,0     1\n",
       "5071,0     1\n",
       "10596,0    1\n",
       "5467,0     1\n",
       "2394,0     1\n",
       "3629,0     1\n",
       "9362,0     1\n",
       "3229,0     1\n",
       "16422,0    1\n",
       "5647,0     1\n",
       "4400,0     1\n",
       "2066,0     1\n",
       "5486,0     1\n",
       "4538,0     1\n",
       "3375,0     1\n",
       "19081,0    1\n",
       "5562,0     1\n",
       "5933,0     1\n",
       "4403,0     1\n",
       "10934,0    1\n",
       "2022,0     1\n",
       "4256,0     1\n",
       "3580,0     1\n",
       "2899,0     1\n",
       "2799,0     1\n",
       "2207,0     1\n",
       "2811,0     1\n",
       "4377,0     1\n",
       "4240,0     1\n",
       "4227,0     1\n",
       "3917,0     1\n",
       "4969,0     1\n",
       "9957,0     1\n",
       "2660,0     1\n",
       "4422,0     1\n",
       "2269,0     1\n",
       "4766,0     1\n",
       "18303,0    1\n",
       "4777,0     1\n",
       "1052,0     1\n",
       "2461,0     1\n",
       "2596,0     1\n",
       "4728,0     1\n",
       "7351,0     1\n",
       "2827,0     1\n",
       "4787,0     1\n",
       "2853,0     1\n",
       "2290,0     1\n",
       "2107,0     1\n",
       "2210,0     1\n",
       "13191,0    1\n",
       "18265,0    1\n",
       "1118,0     1\n",
       "2600,0     1\n",
       "4163,0     1\n",
       "13194,0    1\n",
       "2479,0     1\n",
       "16627,0    1\n",
       "2083,0     1\n",
       "1009,0     1\n",
       "7861,0     1\n",
       "2642,0     1\n",
       "5121,0     1\n",
       "2694,0     1\n",
       "5094,0     1\n",
       "2274,0     1\n",
       "2314,0     1\n",
       "2008,0     1\n",
       "10552,0    1\n",
       "2259,0     1\n",
       "2413,0     1\n",
       "2121,0     1\n",
       "2372,0     1\n",
       "2838,0     1\n",
       "18061,0    1\n",
       "2862,0     1\n",
       "9756,0     1\n",
       "5294,0     1\n",
       "2437,0     1\n",
       "4071,0     1\n",
       "2956,0     1\n",
       "4648,0     1\n",
       "2804,0     1\n",
       "2439,0     1\n",
       "2856,0     1\n",
       "2933,0     1\n",
       "1091,0     1\n",
       "5151,0     1\n",
       "2863,0     1\n",
       "2858,0     1\n",
       "1129,0     1\n",
       "6735,0     1\n",
       "10883,0    1\n",
       "1611,0     1\n",
       "1393,0     1\n",
       "4768,0     1\n",
       "1274,0     1\n",
       "2561,0     1\n",
       "1563,0     1\n",
       "6388,0     1\n",
       "8376,0     1\n",
       "4841,0     1\n",
       "2074,0     1\n",
       "2972,0     1\n",
       "6815,0     1\n",
       "2690,0     1\n",
       "17567,0    1\n",
       "1569,0     1\n",
       "4187,0     1\n",
       "3306,0     1\n",
       "9602,0     1\n",
       "2127,0     1\n",
       "2340,0     1\n",
       "3617,0     1\n",
       "19237,0    1\n",
       "18844,0    1\n",
       "2552,0     1\n",
       "2678,0     1\n",
       "5171,0     1\n",
       "11916,0    1\n",
       "9380,0     1\n",
       "5878,0     1\n",
       "2468,0     1\n",
       "4127,0     1\n",
       "2148,0     1\n",
       "3886,0     1\n",
       "6667,0     1\n",
       "2090,0     1\n",
       "2086,0     1\n",
       "2684,0     1\n",
       "2318,0     1\n",
       "3022,0     1\n",
       "17159,0    1\n",
       "2809,0     1\n",
       "10854,0    1\n",
       "2571,0     1\n",
       "6142,0     1\n",
       "2496,0     1\n",
       "3419,0     1\n",
       "2501,0     1\n",
       "2566,0     1\n",
       "3920,0     1\n",
       "13964,0    1\n",
       "6540,0     1\n",
       "2244,0     1\n",
       "16184,0    1\n",
       "4233,0     1\n",
       "14814,0    1\n",
       "1951,0     1\n",
       "9724,0     1\n",
       "1878,0     1\n",
       "5238,0     1\n",
       "15992,0    1\n",
       "2370,0     1\n",
       "6781,0     1\n",
       "6653,0     1\n",
       "2851,0     1\n",
       "5258,0     1\n",
       "2476,0     1\n",
       "2285,0     1\n",
       "3448,0     1\n",
       "4558,0     1\n",
       "1702,0     1\n",
       "2564,0     1\n",
       "5070,0     1\n",
       "3780,0     1\n",
       "9824,0     1\n",
       "9985,0     1\n",
       "1200,0     1\n",
       "3388,0     1\n",
       "1420,0     1\n",
       "3038,0     1\n",
       "2322,0     1\n",
       "2926,0     1\n",
       "4505,0     1\n",
       "2835,0     1\n",
       "6553,0     1\n",
       "6673,0     1\n",
       "13591,0    1\n",
       "2177,0     1\n",
       "19517,0    1\n",
       "19202,0    1\n",
       "10048,0    1\n",
       "2723,0     1\n",
       "6644,0     1\n",
       "3161,0     1\n",
       "4739,0     1\n",
       "2517,0     1\n",
       "5021,0     1\n",
       "9924,0     1\n",
       "3069,0     1\n",
       "9241,0     1\n",
       "6472,0     1\n",
       "3055,0     1\n",
       "8321,0     1\n",
       "3143,0     1\n",
       "8578,0     1\n",
       "9888,0     1\n",
       "13341,0    1\n",
       "5677,0     1\n",
       "9526,0     1\n",
       "6825,0     1\n",
       "4424,0     1\n",
       "5441,0     1\n",
       "6074,0     1\n",
       "11245,0    1\n",
       "9714,0     1\n",
       "6172,0     1\n",
       "10124,0    1\n",
       "5309,0     1\n",
       "7654,0     1\n",
       "12808,0    1\n",
       "6586,0     1\n",
       "2519,0     1\n",
       "17099,0    1\n",
       "13120,0    1\n",
       "3131,0     1\n",
       "4444,0     1\n",
       "6674,0     1\n",
       "9852,0     1\n",
       "7446,0     1\n",
       "13757,0    1\n",
       "16598,0    1\n",
       "4285,0     1\n",
       "6146,0     1\n",
       "4668,0     1\n",
       "13664,0    1\n",
       "8500,0     1\n",
       "5363,0     1\n",
       "4081,0     1\n",
       "3578,0     1\n",
       "17328,0    1\n",
       "10793,0    1\n",
       "10851,0    1\n",
       "10466,0    1\n",
       "2362,0     1\n",
       "6439,0     1\n",
       "4385,0     1\n",
       "4066,0     1\n",
       "5206,0     1\n",
       "2655,0     1\n",
       "2570,0     1\n",
       "4502,0     1\n",
       "4639,0     1\n",
       "4534,0     1\n",
       "4319,0     1\n",
       "7094,0     1\n",
       "3564,0     1\n",
       "6261,0     1\n",
       "6804,0     1\n",
       "19436,0    1\n",
       "5472,0     1\n",
       "6385,0     1\n",
       "7525,0     1\n",
       "3660,0     1\n",
       "8740,0     1\n",
       "13499,0    1\n",
       "3491,0     1\n",
       "5220,0     1\n",
       "10252,0    1\n",
       "19740,0    1\n",
       "6209,0     1\n",
       "3348,0     1\n",
       "8412,0     1\n",
       "19197,0    1\n",
       "3210,0     1\n",
       "10475,0    1\n",
       "4721,0     1\n",
       "4615,0     1\n",
       "16959,0    1\n",
       "10306,0    1\n",
       "5406,0     1\n",
       "5902,0     1\n",
       "10855,0    1\n",
       "5914,0     1\n",
       "6646,0     1\n",
       "13973,0    1\n",
       "13320,0    1\n",
       "6687,0     1\n",
       "4735,0     1\n",
       "13872,0    1\n",
       "10266,0    1\n",
       "16064,0    1\n",
       "5674,0     1\n",
       "10447,0    1\n",
       "19232,0    1\n",
       "17169,0    1\n",
       "17174,0    1\n",
       "16595,0    1\n",
       "19973,0    1\n",
       "13402,0    1\n",
       "13206,0    1\n",
       "19545,0    1\n",
       "18041,0    1\n",
       "19246,0    1\n",
       "10748,0    1\n",
       "16752,0    1\n",
       "6201,0     1\n",
       "19845,0    1\n",
       "4001,0     1\n",
       "5067,0     1\n",
       "3692,0     1\n",
       "19847,0    1\n",
       "5747,0     1\n",
       "19187,0    1\n",
       "10008,0    1\n",
       "7988,0     1\n",
       "7083,0     1\n",
       "4723,0     1\n",
       "3407,0     1\n",
       "2929,0     1\n",
       "12031,0    1\n",
       "15427,0    1\n",
       "5126,0     1\n",
       "9619,0     1\n",
       "5010,0     1\n",
       "19033,0    1\n",
       "10400,0    1\n",
       "2793,0     1\n",
       "17123,0    1\n",
       "19190,0    1\n",
       "13577,0    1\n",
       "8943,0     1\n",
       "10422,0    1\n",
       "2348,0     1\n",
       "3072,0     1\n",
       "12490,0    1\n",
       "8020,0     1\n",
       "17068,0    1\n",
       "19272,0    1\n",
       "18213,0    1\n",
       "5577,0     1\n",
       "2691,0     1\n",
       "7403,0     1\n",
       "8823,0     1\n",
       "3579,0     1\n",
       "17779,0    1\n",
       "4968,0     1\n",
       "5147,0     1\n",
       "2718,0     1\n",
       "2389,0     1\n",
       "17584,0    1\n",
       "5661,0     1\n",
       "4869,0     1\n",
       "4649,0     1\n",
       "10496,0    1\n",
       "2768,0     1\n",
       "3408,0     1\n",
       "3755,0     1\n",
       "2187,0     1\n",
       "4258,0     1\n",
       "5326,0     1\n",
       "5485,0     1\n",
       "17639,0    1\n",
       "6062,0     1\n",
       "6288,0     1\n",
       "4000,0     1\n",
       "3815,0     1\n",
       "4930,0     1\n",
       "5265,0     1\n",
       "2705,0     1\n",
       "4448,0     1\n",
       "2379,0     1\n",
       "5487,0     1\n",
       "2810,0     1\n",
       "8938,0     1\n",
       "9936,0     1\n",
       "5454,0     1\n",
       "18740,0    1\n",
       "5473,0     1\n",
       "13503,0    1\n",
       "13549,0    1\n",
       "18172,0    1\n",
       "2774,0     1\n",
       "9439,0     1\n",
       "3424,0     1\n",
       "4194,0     1\n",
       "2532,0     1\n",
       "5666,0     1\n",
       "2226,0     1\n",
       "5561,0     1\n",
       "2897,0     1\n",
       "5321,0     1\n",
       "5410,0     1\n",
       "4850,0     1\n",
       "2001,0     1\n",
       "4404,0     1\n",
       "3944,0     1\n",
       "2960,0     1\n",
       "18947,0    1\n",
       "6465,0     1\n",
       "2683,0     1\n",
       "2014,0     1\n",
       "3441,0     1\n",
       "4284,0     1\n",
       "6513,0     1\n",
       "4213,0     1\n",
       "9204,0     1\n",
       "13726,0    1\n",
       "4107,0     1\n",
       "3597,0     1\n",
       "4115,0     1\n",
       "6272,0     1\n",
       "19999,0    1\n",
       "4373,0     1\n",
       "3377,0     1\n",
       "2064,0     1\n",
       "2430,0     1\n",
       "4877,0     1\n",
       "2013,0     1\n",
       "2974,0     1\n",
       "2766,0     1\n",
       "3702,0     1\n",
       "3989,0     1\n",
       "5098,0     1\n",
       "14411,0    1\n",
       "8237,0     1\n",
       "3211,0     1\n",
       "16704,0    1\n",
       "4774,0     1\n",
       "4568,0     1\n",
       "5993,0     1\n",
       "6499,0     1\n",
       "6397,0     1\n",
       "2725,0     1\n",
       "3622,0     1\n",
       "6180,0     1\n",
       "6274,0     1\n",
       "4381,0     1\n",
       "2559,0     1\n",
       "5488,0     1\n",
       "19586,0    1\n",
       "6549,0     1\n",
       "6842,0     1\n",
       "4249,0     1\n",
       "13570,0    1\n",
       "6712,0     1\n",
       "9991,0     1\n",
       "10248,0    1\n",
       "10938,0    1\n",
       "2593,0     1\n",
       "11878,0    1\n",
       "8095,0     1\n",
       "16856,0    1\n",
       "4537,0     1\n",
       "17924,0    1\n",
       "4014,0     1\n",
       "12742,0    1\n",
       "3376,0     1\n",
       "10482,0    1\n",
       "2514,0     1\n",
       "3196,0     1\n",
       "4087,0     1\n",
       "5368,0     1\n",
       "17399,0    1\n",
       "16885,0    1\n",
       "4323,0     1\n",
       "5155,0     1\n",
       "2936,0     1\n",
       "18789,0    1\n",
       "4883,0     1\n",
       "2029,0     1\n",
       "2996,0     1\n",
       "9278,0     1\n",
       "4162,0     1\n",
       "8853,0     1\n",
       "4876,0     1\n",
       "2141,0     1\n",
       "3936,0     1\n",
       "5204,0     1\n",
       "2973,0     1\n",
       "10761,0    1\n",
       "6502,0     1\n",
       "12936,0    1\n",
       "4221,0     1\n",
       "4963,0     1\n",
       "4200,0     1\n",
       "5006,0     1\n",
       "7639,0     1\n",
       "13525,0    1\n",
       "6322,0     1\n",
       "6349,0     1\n",
       "6380,0     1\n",
       "3102,0     1\n",
       "4556,0     1\n",
       "4230,0     1\n",
       "4859,0     1\n",
       "19431,0    1\n",
       "Name: count, dtype: int64"
      ]
     },
     "metadata": {},
     "output_type": "display_data"
    },
    {
     "data": {
      "application/vnd.microsoft.datawrangler.viewer.v0+json": {
       "columns": [
        {
         "name": "MonthlyRate",
         "rawType": "int64",
         "type": "integer"
        },
        {
         "name": "count",
         "rawType": "int64",
         "type": "integer"
        }
       ],
       "ref": "f8eaa7fc-049b-4c5e-a103-179beefd3b64",
       "rows": [
        [
         "9150",
         "4"
        ],
        [
         "11737",
         "3"
        ],
        [
         "17001",
         "3"
        ],
        [
         "6069",
         "3"
        ],
        [
         "21981",
         "3"
        ],
        [
         "9558",
         "3"
        ],
        [
         "25326",
         "3"
        ],
        [
         "19373",
         "3"
        ],
        [
         "4223",
         "3"
        ],
        [
         "4156",
         "3"
        ],
        [
         "20898",
         "2"
        ],
        [
         "7508",
         "2"
        ],
        [
         "3698",
         "2"
        ],
        [
         "17725",
         "2"
        ],
        [
         "21519",
         "2"
        ],
        [
         "23779",
         "2"
        ],
        [
         "11148",
         "2"
        ],
        [
         "2125",
         "2"
        ],
        [
         "23361",
         "2"
        ],
        [
         "9396",
         "2"
        ],
        [
         "16225",
         "2"
        ],
        [
         "9931",
         "2"
        ],
        [
         "26085",
         "2"
        ],
        [
         "25549",
         "2"
        ],
        [
         "14229",
         "2"
        ],
        [
         "12388",
         "2"
        ],
        [
         "20420",
         "2"
        ],
        [
         "25275",
         "2"
        ],
        [
         "9655",
         "2"
        ],
        [
         "2227",
         "2"
        ],
        [
         "16193",
         "2"
        ],
        [
         "3872",
         "2"
        ],
        [
         "24737",
         "2"
        ],
        [
         "16375",
         "2"
        ],
        [
         "2755",
         "2"
        ],
        [
         "7621",
         "2"
        ],
        [
         "23177",
         "2"
        ],
        [
         "16092",
         "2"
        ],
        [
         "24017",
         "2"
        ],
        [
         "2967",
         "2"
        ],
        [
         "2851",
         "2"
        ],
        [
         "7551",
         "2"
        ],
        [
         "5355",
         "2"
        ],
        [
         "18168",
         "2"
        ],
        [
         "17881",
         "2"
        ],
        [
         "12066",
         "2"
        ],
        [
         "11868",
         "2"
        ],
        [
         "4652",
         "2"
        ],
        [
         "5915",
         "2"
        ],
        [
         "20490",
         "2"
        ]
       ],
       "shape": {
        "columns": 1,
        "rows": 1427
       }
      },
      "text/plain": [
       "MonthlyRate\n",
       "9150     4\n",
       "11737    3\n",
       "17001    3\n",
       "6069     3\n",
       "21981    3\n",
       "9558     3\n",
       "25326    3\n",
       "19373    3\n",
       "4223     3\n",
       "4156     3\n",
       "20898    2\n",
       "7508     2\n",
       "3698     2\n",
       "17725    2\n",
       "21519    2\n",
       "23779    2\n",
       "11148    2\n",
       "2125     2\n",
       "23361    2\n",
       "9396     2\n",
       "16225    2\n",
       "9931     2\n",
       "26085    2\n",
       "25549    2\n",
       "14229    2\n",
       "12388    2\n",
       "20420    2\n",
       "25275    2\n",
       "9655     2\n",
       "2227     2\n",
       "16193    2\n",
       "3872     2\n",
       "24737    2\n",
       "16375    2\n",
       "2755     2\n",
       "7621     2\n",
       "23177    2\n",
       "16092    2\n",
       "24017    2\n",
       "2967     2\n",
       "2851     2\n",
       "7551     2\n",
       "5355     2\n",
       "18168    2\n",
       "17881    2\n",
       "12066    2\n",
       "11868    2\n",
       "4652     2\n",
       "5915     2\n",
       "20490    2\n",
       "8509     2\n",
       "12740    2\n",
       "15238    2\n",
       "20335    2\n",
       "11825    2\n",
       "19562    2\n",
       "19566    2\n",
       "26914    2\n",
       "14862    2\n",
       "22495    2\n",
       "12858    2\n",
       "20156    2\n",
       "11866    2\n",
       "3415     2\n",
       "4759     2\n",
       "6227     2\n",
       "4317     2\n",
       "10557    2\n",
       "16154    2\n",
       "7143     2\n",
       "10675    2\n",
       "12241    2\n",
       "8450     2\n",
       "15972    2\n",
       "20260    2\n",
       "19100    2\n",
       "10268    2\n",
       "7501     2\n",
       "18256    2\n",
       "26314    2\n",
       "4809     2\n",
       "7181     2\n",
       "7747     2\n",
       "15891    2\n",
       "6670     2\n",
       "6009     2\n",
       "19383    2\n",
       "21703    2\n",
       "20978    2\n",
       "17654    2\n",
       "18959    2\n",
       "7791     2\n",
       "6729     2\n",
       "9606     2\n",
       "7507     2\n",
       "19627    2\n",
       "6219     2\n",
       "19921    2\n",
       "2112     2\n",
       "22808    2\n",
       "16177    2\n",
       "19658    2\n",
       "14295    2\n",
       "17747    2\n",
       "17822    2\n",
       "15318    2\n",
       "6233     2\n",
       "19255    2\n",
       "23016    2\n",
       "18575    2\n",
       "26537    2\n",
       "7744     2\n",
       "7950     2\n",
       "21534    2\n",
       "17171    2\n",
       "18385    2\n",
       "15346    2\n",
       "15834    2\n",
       "20364    2\n",
       "18500    2\n",
       "12355    2\n",
       "6319     2\n",
       "4658     2\n",
       "11591    2\n",
       "21445    2\n",
       "7102     2\n",
       "14842    2\n",
       "26997    2\n",
       "18991    2\n",
       "6225     2\n",
       "2122     2\n",
       "20284    2\n",
       "24444    2\n",
       "7324     2\n",
       "20100    2\n",
       "5033     2\n",
       "13402    2\n",
       "15986    2\n",
       "13492    2\n",
       "24442    2\n",
       "8952     2\n",
       "2739     2\n",
       "10842    2\n",
       "19665    2\n",
       "19246    2\n",
       "14011    2\n",
       "2997     2\n",
       "22102    2\n",
       "21437    2\n",
       "3339     2\n",
       "9647     2\n",
       "6599     2\n",
       "13008    2\n",
       "15896    2\n",
       "10942    2\n",
       "15682    2\n",
       "4345     2\n",
       "9314     2\n",
       "9129     2\n",
       "22074    2\n",
       "9096     2\n",
       "24208    2\n",
       "25952    2\n",
       "2560     2\n",
       "23163    2\n",
       "5518     2\n",
       "13554    2\n",
       "4944     2\n",
       "17369    2\n",
       "10077    2\n",
       "3465     2\n",
       "18938    2\n",
       "6881     2\n",
       "10494    2\n",
       "11652    2\n",
       "11162    2\n",
       "24609    1\n",
       "12477    1\n",
       "15395    1\n",
       "9075     1\n",
       "13953    1\n",
       "8532     1\n",
       "14669    1\n",
       "20497    1\n",
       "6762     1\n",
       "8319     1\n",
       "22422    1\n",
       "23631    1\n",
       "22154    1\n",
       "7100     1\n",
       "15748    1\n",
       "24439    1\n",
       "5561     1\n",
       "25681    1\n",
       "23288    1\n",
       "20392    1\n",
       "19106    1\n",
       "19944    1\n",
       "4910     1\n",
       "12761    1\n",
       "8847     1\n",
       "13494    1\n",
       "15182    1\n",
       "21057    1\n",
       "6462     1\n",
       "21081    1\n",
       "5220     1\n",
       "19948    1\n",
       "5602     1\n",
       "22098    1\n",
       "22490    1\n",
       "6297     1\n",
       "23413    1\n",
       "22792    1\n",
       "3498     1\n",
       "13251    1\n",
       "15411    1\n",
       "3921     1\n",
       "24941    1\n",
       "21086    1\n",
       "21082    1\n",
       "7419     1\n",
       "4167     1\n",
       "23737    1\n",
       "25103    1\n",
       "6217     1\n",
       "17360    1\n",
       "18103    1\n",
       "20794    1\n",
       "3622     1\n",
       "3140     1\n",
       "26009    1\n",
       "24795    1\n",
       "12421    1\n",
       "18830    1\n",
       "3072     1\n",
       "7973     1\n",
       "21158    1\n",
       "15747    1\n",
       "19719    1\n",
       "16143    1\n",
       "11827    1\n",
       "23070    1\n",
       "4668     1\n",
       "21072    1\n",
       "8841     1\n",
       "10589    1\n",
       "17799    1\n",
       "7653     1\n",
       "16530    1\n",
       "16379    1\n",
       "12826    1\n",
       "19711    1\n",
       "15332    1\n",
       "10293    1\n",
       "18783    1\n",
       "21602    1\n",
       "26076    1\n",
       "13119    1\n",
       "4732     1\n",
       "10732    1\n",
       "14776    1\n",
       "13523    1\n",
       "12069    1\n",
       "15417    1\n",
       "9571     1\n",
       "25657    1\n",
       "3300     1\n",
       "13248    1\n",
       "17011    1\n",
       "19757    1\n",
       "8556     1\n",
       "12368    1\n",
       "14242    1\n",
       "12392    1\n",
       "16523    1\n",
       "9679     1\n",
       "26250    1\n",
       "3425     1\n",
       "5711     1\n",
       "5118     1\n",
       "7505     1\n",
       "14222    1\n",
       "19737    1\n",
       "22645    1\n",
       "9260     1\n",
       "11533    1\n",
       "18398    1\n",
       "11563    1\n",
       "2288     1\n",
       "18300    1\n",
       "21526    1\n",
       "3032     1\n",
       "12253    1\n",
       "10310    1\n",
       "11411    1\n",
       "3909     1\n",
       "25594    1\n",
       "14180    1\n",
       "18899    1\n",
       "11677    1\n",
       "10531    1\n",
       "2613     1\n",
       "6984     1\n",
       "13939    1\n",
       "13364    1\n",
       "6672     1\n",
       "11179    1\n",
       "9687     1\n",
       "3810     1\n",
       "19121    1\n",
       "22822    1\n",
       "4681     1\n",
       "17102    1\n",
       "8232     1\n",
       "4306     1\n",
       "15053    1\n",
       "12947    1\n",
       "8758     1\n",
       "15170    1\n",
       "16632    1\n",
       "10228    1\n",
       "23679    1\n",
       "12549    1\n",
       "23333    1\n",
       "14369    1\n",
       "21436    1\n",
       "16002    1\n",
       "5868     1\n",
       "6645     1\n",
       "5970     1\n",
       "11992    1\n",
       "10415    1\n",
       "2302     1\n",
       "24835    1\n",
       "25150    1\n",
       "2819     1\n",
       "24788    1\n",
       "16090    1\n",
       "25258    1\n",
       "26897    1\n",
       "21922    1\n",
       "23648    1\n",
       "25043    1\n",
       "17519    1\n",
       "18725    1\n",
       "17736    1\n",
       "10425    1\n",
       "8984     1\n",
       "23914    1\n",
       "5530     1\n",
       "18154    1\n",
       "25725    1\n",
       "10074    1\n",
       "24117    1\n",
       "11539    1\n",
       "12086    1\n",
       "17241    1\n",
       "10322    1\n",
       "6179     1\n",
       "23293    1\n",
       "4303     1\n",
       "9834     1\n",
       "10022    1\n",
       "13137    1\n",
       "22052    1\n",
       "24252    1\n",
       "21782    1\n",
       "23522    1\n",
       "12102    1\n",
       "10778    1\n",
       "12862    1\n",
       "23371    1\n",
       "9541     1\n",
       "9490     1\n",
       "6020     1\n",
       "6842     1\n",
       "6039     1\n",
       "25308    1\n",
       "5598     1\n",
       "13755    1\n",
       "7331     1\n",
       "10849    1\n",
       "12828    1\n",
       "21813    1\n",
       "13401    1\n",
       "2993     1\n",
       "22266    1\n",
       "22482    1\n",
       "21214    1\n",
       "15813    1\n",
       "5869     1\n",
       "17205    1\n",
       "10554    1\n",
       "16612    1\n",
       "14004    1\n",
       "5044     1\n",
       "23683    1\n",
       "20366    1\n",
       "10225    1\n",
       "2104     1\n",
       "9983     1\n",
       "11924    1\n",
       "24785    1\n",
       "18597    1\n",
       "15678    1\n",
       "8544     1\n",
       "15174    1\n",
       "13934    1\n",
       "17759    1\n",
       "12145    1\n",
       "9358     1\n",
       "2912     1\n",
       "26894    1\n",
       "17997    1\n",
       "5718     1\n",
       "22929    1\n",
       "17967    1\n",
       "10919    1\n",
       "13301    1\n",
       "19146    1\n",
       "20715    1\n",
       "9250     1\n",
       "5197     1\n",
       "2243     1\n",
       "8306     1\n",
       "25527    1\n",
       "16374    1\n",
       "26507    1\n",
       "19630    1\n",
       "21821    1\n",
       "13305    1\n",
       "24375    1\n",
       "20317    1\n",
       "24008    1\n",
       "13551    1\n",
       "5288     1\n",
       "21199    1\n",
       "8658     1\n",
       "2725     1\n",
       "2097     1\n",
       "17071    1\n",
       "4981     1\n",
       "14382    1\n",
       "20165    1\n",
       "7770     1\n",
       "18275    1\n",
       "13493    1\n",
       "8571     1\n",
       "11479    1\n",
       "26227    1\n",
       "21123    1\n",
       "12291    1\n",
       "9947     1\n",
       "20652    1\n",
       "18798    1\n",
       "3974     1\n",
       "5543     1\n",
       "9255     1\n",
       "6896     1\n",
       "7858     1\n",
       "23384    1\n",
       "5268     1\n",
       "17258    1\n",
       "16620    1\n",
       "12124    1\n",
       "23281    1\n",
       "3372     1\n",
       "25440    1\n",
       "20293    1\n",
       "4279     1\n",
       "14947    1\n",
       "16340    1\n",
       "9051     1\n",
       "13556    1\n",
       "20619    1\n",
       "22478    1\n",
       "17251    1\n",
       "7160     1\n",
       "24223    1\n",
       "10332    1\n",
       "8870     1\n",
       "23814    1\n",
       "13384    1\n",
       "22653    1\n",
       "14561    1\n",
       "2671     1\n",
       "11757    1\n",
       "3010     1\n",
       "14470    1\n",
       "9100     1\n",
       "22174    1\n",
       "23213    1\n",
       "4267     1\n",
       "11373    1\n",
       "8059     1\n",
       "22908    1\n",
       "23428    1\n",
       "7389     1\n",
       "18437    1\n",
       "12106    1\n",
       "13535    1\n",
       "20431    1\n",
       "3487     1\n",
       "18016    1\n",
       "26999    1\n",
       "4814     1\n",
       "22789    1\n",
       "9148     1\n",
       "24558    1\n",
       "16571    1\n",
       "6153     1\n",
       "20234    1\n",
       "11983    1\n",
       "6689     1\n",
       "26551    1\n",
       "3445     1\n",
       "4187     1\n",
       "20471    1\n",
       "4761     1\n",
       "15397    1\n",
       "15232    1\n",
       "16900    1\n",
       "4204     1\n",
       "8733     1\n",
       "21643    1\n",
       "14753    1\n",
       "13624    1\n",
       "21143    1\n",
       "26075    1\n",
       "19573    1\n",
       "21495    1\n",
       "8018     1\n",
       "5696     1\n",
       "12832    1\n",
       "15999    1\n",
       "4567     1\n",
       "19805    1\n",
       "15587    1\n",
       "24539    1\n",
       "9128     1\n",
       "10007    1\n",
       "19002    1\n",
       "10092    1\n",
       "15434    1\n",
       "3692     1\n",
       "6595     1\n",
       "16019    1\n",
       "26956    1\n",
       "15302    1\n",
       "4060     1\n",
       "19655    1\n",
       "17536    1\n",
       "10138    1\n",
       "11473    1\n",
       "19555    1\n",
       "2900     1\n",
       "11761    1\n",
       "12315    1\n",
       "20328    1\n",
       "23352    1\n",
       "10642    1\n",
       "9364     1\n",
       "14908    1\n",
       "26092    1\n",
       "5586     1\n",
       "12147    1\n",
       "21221    1\n",
       "24052    1\n",
       "12530    1\n",
       "7103     1\n",
       "16998    1\n",
       "16192    1\n",
       "7152     1\n",
       "9282     1\n",
       "17181    1\n",
       "7679     1\n",
       "22262    1\n",
       "11882    1\n",
       "19305    1\n",
       "6527     1\n",
       "13035    1\n",
       "4257     1\n",
       "5628     1\n",
       "8040     1\n",
       "16901    1\n",
       "22049    1\n",
       "22376    1\n",
       "3536     1\n",
       "21731    1\n",
       "3811     1\n",
       "5041     1\n",
       "11585    1\n",
       "20467    1\n",
       "24852    1\n",
       "26176    1\n",
       "22589    1\n",
       "3356     1\n",
       "18420    1\n",
       "3156     1\n",
       "7713     1\n",
       "26362    1\n",
       "19519    1\n",
       "21447    1\n",
       "11133    1\n",
       "22061    1\n",
       "26619    1\n",
       "13436    1\n",
       "3427     1\n",
       "9732     1\n",
       "5174     1\n",
       "16321    1\n",
       "26062    1\n",
       "18697    1\n",
       "7703     1\n",
       "10515    1\n",
       "19299    1\n",
       "18775    1\n",
       "13072    1\n",
       "12290    1\n",
       "17434    1\n",
       "21378    1\n",
       "16586    1\n",
       "24594    1\n",
       "13422    1\n",
       "11288    1\n",
       "26124    1\n",
       "9192     1\n",
       "25479    1\n",
       "17810    1\n",
       "19394    1\n",
       "24440    1\n",
       "22578    1\n",
       "22955    1\n",
       "22088    1\n",
       "12853    1\n",
       "18410    1\n",
       "12278    1\n",
       "12127    1\n",
       "18203    1\n",
       "14922    1\n",
       "25063    1\n",
       "17808    1\n",
       "9068     1\n",
       "23965    1\n",
       "5200     1\n",
       "7360     1\n",
       "13514    1\n",
       "5630     1\n",
       "11512    1\n",
       "18024    1\n",
       "15919    1\n",
       "17624    1\n",
       "5141     1\n",
       "5411     1\n",
       "3157     1\n",
       "21624    1\n",
       "4244     1\n",
       "12719    1\n",
       "8277     1\n",
       "15530    1\n",
       "24978    1\n",
       "25166    1\n",
       "8800     1\n",
       "22984    1\n",
       "25353    1\n",
       "22308    1\n",
       "23060    1\n",
       "14630    1\n",
       "6152     1\n",
       "20943    1\n",
       "26186    1\n",
       "7975     1\n",
       "20232    1\n",
       "19384    1\n",
       "6393     1\n",
       "7298     1\n",
       "13672    1\n",
       "25198    1\n",
       "5224     1\n",
       "5843     1\n",
       "3995     1\n",
       "14293    1\n",
       "3987     1\n",
       "14511    1\n",
       "16031    1\n",
       "16495    1\n",
       "20115    1\n",
       "16822    1\n",
       "10261    1\n",
       "14460    1\n",
       "25388    1\n",
       "21203    1\n",
       "7172     1\n",
       "5050     1\n",
       "23231    1\n",
       "15970    1\n",
       "19877    1\n",
       "24118    1\n",
       "8456     1\n",
       "14674    1\n",
       "11354    1\n",
       "7259     1\n",
       "15497    1\n",
       "9241     1\n",
       "20989    1\n",
       "11873    1\n",
       "13983    1\n",
       "16102    1\n",
       "6961     1\n",
       "26820    1\n",
       "2561     1\n",
       "15000    1\n",
       "22573    1\n",
       "14935    1\n",
       "15850    1\n",
       "3687     1\n",
       "25422    1\n",
       "16044    1\n",
       "15276    1\n",
       "17078    1\n",
       "23978    1\n",
       "3956     1\n",
       "15901    1\n",
       "25751    1\n",
       "9262     1\n",
       "17778    1\n",
       "9724     1\n",
       "7122     1\n",
       "25233    1\n",
       "26285    1\n",
       "19920    1\n",
       "19191    1\n",
       "14408    1\n",
       "23785    1\n",
       "19783    1\n",
       "6148     1\n",
       "9964     1\n",
       "20439    1\n",
       "18779    1\n",
       "16542    1\n",
       "15696    1\n",
       "6889     1\n",
       "19188    1\n",
       "6208     1\n",
       "14218    1\n",
       "15963    1\n",
       "8191     1\n",
       "15624    1\n",
       "10036    1\n",
       "2939     1\n",
       "8045     1\n",
       "14720    1\n",
       "25927    1\n",
       "16490    1\n",
       "2396     1\n",
       "13335    1\n",
       "15178    1\n",
       "19281    1\n",
       "9518     1\n",
       "18092    1\n",
       "15067    1\n",
       "22002    1\n",
       "21777    1\n",
       "18787    1\n",
       "19730    1\n",
       "8302     1\n",
       "19294    1\n",
       "4892     1\n",
       "10227    1\n",
       "10558    1\n",
       "19715    1\n",
       "10910    1\n",
       "3020     1\n",
       "3335     1\n",
       "16117    1\n",
       "14255    1\n",
       "22650    1\n",
       "13684    1\n",
       "23553    1\n",
       "6194     1\n",
       "4349     1\n",
       "8989     1\n",
       "15869    1\n",
       "18685    1\n",
       "19332    1\n",
       "10302    1\n",
       "20689    1\n",
       "5323     1\n",
       "20933    1\n",
       "18611    1\n",
       "3031     1\n",
       "21195    1\n",
       "11929    1\n",
       "19764    1\n",
       "25178    1\n",
       "8931     1\n",
       "25949    1\n",
       "6076     1\n",
       "22128    1\n",
       "4258     1\n",
       "8787     1\n",
       "11864    1\n",
       "23159    1\n",
       "24907    1\n",
       "19788    1\n",
       "17231    1\n",
       "4077     1\n",
       "25098    1\n",
       "7003     1\n",
       "13586    1\n",
       "5771     1\n",
       "6770     1\n",
       "23888    1\n",
       "18624    1\n",
       "7018     1\n",
       "19989    1\n",
       "22456    1\n",
       "22455    1\n",
       "8386     1\n",
       "26582    1\n",
       "21146    1\n",
       "3297     1\n",
       "3164     1\n",
       "14394    1\n",
       "2890     1\n",
       "3854     1\n",
       "8213     1\n",
       "11934    1\n",
       "26707    1\n",
       "16985    1\n",
       "6927     1\n",
       "24447    1\n",
       "2539     1\n",
       "10056    1\n",
       "20925    1\n",
       "25812    1\n",
       "20462    1\n",
       "11806    1\n",
       "5860     1\n",
       "8842     1\n",
       "15669    1\n",
       "8935     1\n",
       "16392    1\n",
       "22534    1\n",
       "21708    1\n",
       "9961     1\n",
       "26342    1\n",
       "11879    1\n",
       "14039    1\n",
       "21816    1\n",
       "20489    1\n",
       "13829    1\n",
       "12287    1\n",
       "24406    1\n",
       "4821     1\n",
       "8891     1\n",
       "19028    1\n",
       "16577    1\n",
       "21173    1\n",
       "9528     1\n",
       "20682    1\n",
       "14377    1\n",
       "4235     1\n",
       "2338     1\n",
       "10893    1\n",
       "11309    1\n",
       "6865     1\n",
       "4905     1\n",
       "21026    1\n",
       "18640    1\n",
       "19588    1\n",
       "13421    1\n",
       "13782    1\n",
       "17689    1\n",
       "17544    1\n",
       "13547    1\n",
       "11535    1\n",
       "8039     1\n",
       "18625    1\n",
       "3423     1\n",
       "20002    1\n",
       "9277     1\n",
       "12414    1\n",
       "5652     1\n",
       "22930    1\n",
       "23577    1\n",
       "16616    1\n",
       "20003    1\n",
       "17491    1\n",
       "10846    1\n",
       "14075    1\n",
       "2261     1\n",
       "19461    1\n",
       "5494     1\n",
       "13352    1\n",
       "5747     1\n",
       "11693    1\n",
       "17285    1\n",
       "5569     1\n",
       "4605     1\n",
       "3129     1\n",
       "22812    1\n",
       "11781    1\n",
       "7192     1\n",
       "4673     1\n",
       "15062    1\n",
       "26283    1\n",
       "16047    1\n",
       "8504     1\n",
       "8916     1\n",
       "4185     1\n",
       "21196    1\n",
       "20739    1\n",
       "15480    1\n",
       "22310    1\n",
       "22952    1\n",
       "22887    1\n",
       "8423     1\n",
       "22977    1\n",
       "23793    1\n",
       "10333    1\n",
       "3334     1\n",
       "7909     1\n",
       "17323    1\n",
       "22217    1\n",
       "23537    1\n",
       "11135    1\n",
       "24920    1\n",
       "12992    1\n",
       "17802    1\n",
       "12916    1\n",
       "13943    1\n",
       "14977    1\n",
       "19682    1\n",
       "5949     1\n",
       "21030    1\n",
       "21509    1\n",
       "16840    1\n",
       "6499     1\n",
       "4609     1\n",
       "15589    1\n",
       "2493     1\n",
       "23866    1\n",
       "9945     1\n",
       "8552     1\n",
       "14590    1\n",
       "5549     1\n",
       "15717    1\n",
       "10436    1\n",
       "26236    1\n",
       "22539    1\n",
       "21530    1\n",
       "11380    1\n",
       "16292    1\n",
       "24624    1\n",
       "15881    1\n",
       "19494    1\n",
       "25796    1\n",
       "7636     1\n",
       "19368    1\n",
       "5335     1\n",
       "4161     1\n",
       "15830    1\n",
       "6311     1\n",
       "17970    1\n",
       "26542    1\n",
       "6975     1\n",
       "6759     1\n",
       "5615     1\n",
       "24409    1\n",
       "15471    1\n",
       "22245    1\n",
       "18115    1\n",
       "19271    1\n",
       "13637    1\n",
       "9867     1\n",
       "12250    1\n",
       "6163     1\n",
       "13888    1\n",
       "21029    1\n",
       "8269     1\n",
       "13938    1\n",
       "18235    1\n",
       "26312    1\n",
       "24097    1\n",
       "25761    1\n",
       "13022    1\n",
       "13339    1\n",
       "16280    1\n",
       "3376     1\n",
       "3735     1\n",
       "3395     1\n",
       "5626     1\n",
       "24532    1\n",
       "2354     1\n",
       "2437     1\n",
       "7739     1\n",
       "26703    1\n",
       "4933     1\n",
       "25800    1\n",
       "15146    1\n",
       "3119     1\n",
       "13084    1\n",
       "19124    1\n",
       "23772    1\n",
       "2845     1\n",
       "20251    1\n",
       "2137     1\n",
       "12482    1\n",
       "10735    1\n",
       "26458    1\n",
       "8202     1\n",
       "12313    1\n",
       "22949    1\n",
       "2323     1\n",
       "25846    1\n",
       "23457    1\n",
       "2823     1\n",
       "12982    1\n",
       "9256     1\n",
       "19196    1\n",
       "11439    1\n",
       "3525     1\n",
       "16213    1\n",
       "12288    1\n",
       "24456    1\n",
       "7815     1\n",
       "2721     1\n",
       "16458    1\n",
       "9769     1\n",
       "18706    1\n",
       "12023    1\n",
       "17588    1\n",
       "6992     1\n",
       "17334    1\n",
       "21833    1\n",
       "17477    1\n",
       "25592    1\n",
       "8751     1\n",
       "17198    1\n",
       "25348    1\n",
       "10414    1\n",
       "20338    1\n",
       "2975     1\n",
       "24301    1\n",
       "19760    1\n",
       "13596    1\n",
       "15998    1\n",
       "10877    1\n",
       "11031    1\n",
       "10781    1\n",
       "22021    1\n",
       "22577    1\n",
       "8828     1\n",
       "3666     1\n",
       "26849    1\n",
       "14811    1\n",
       "25811    1\n",
       "16873    1\n",
       "6060     1\n",
       "23474    1\n",
       "9369     1\n",
       "25755    1\n",
       "10901    1\n",
       "20308    1\n",
       "5100     1\n",
       "23687    1\n",
       "15736    1\n",
       "14074    1\n",
       "11012    1\n",
       "8053     1\n",
       "13982    1\n",
       "21141    1\n",
       "3142     1\n",
       "10195    1\n",
       "24032    1\n",
       "26496    1\n",
       "13583    1\n",
       "7129     1\n",
       "11912    1\n",
       "14034    1\n",
       "9278     1\n",
       "2447     1\n",
       "5207     1\n",
       "23238    1\n",
       "15596    1\n",
       "24608    1\n",
       "6812     1\n",
       "22477    1\n",
       "20206    1\n",
       "25995    1\n",
       "7660     1\n",
       "5431     1\n",
       "22087    1\n",
       "6950     1\n",
       "18659    1\n",
       "9873     1\n",
       "3809     1\n",
       "7246     1\n",
       "25713    1\n",
       "23099    1\n",
       "19863    1\n",
       "21412    1\n",
       "10410    1\n",
       "14506    1\n",
       "13257    1\n",
       "13871    1\n",
       "9755     1\n",
       "24001    1\n",
       "14115    1\n",
       "24668    1\n",
       "16701    1\n",
       "5456     1\n",
       "4009     1\n",
       "3193     1\n",
       "21923    1\n",
       "6986     1\n",
       "3787     1\n",
       "8489     1\n",
       "12227    1\n",
       "9238     1\n",
       "11314    1\n",
       "23402    1\n",
       "12930    1\n",
       "4488     1\n",
       "21972    1\n",
       "16928    1\n",
       "13273    1\n",
       "16885    1\n",
       "20938    1\n",
       "17056    1\n",
       "4824     1\n",
       "22722    1\n",
       "21728    1\n",
       "21016    1\n",
       "18384    1\n",
       "20990    1\n",
       "14961    1\n",
       "22967    1\n",
       "5972     1\n",
       "16439    1\n",
       "13738    1\n",
       "26841    1\n",
       "20948    1\n",
       "19826    1\n",
       "15211    1\n",
       "22604    1\n",
       "20763    1\n",
       "17363    1\n",
       "3449     1\n",
       "19293    1\n",
       "5182     1\n",
       "3567     1\n",
       "17235    1\n",
       "22845    1\n",
       "9946     1\n",
       "9659     1\n",
       "8429     1\n",
       "26933    1\n",
       "10826    1\n",
       "2253     1\n",
       "7108     1\n",
       "3708     1\n",
       "23490    1\n",
       "8192     1\n",
       "9953     1\n",
       "10748    1\n",
       "9696     1\n",
       "16376    1\n",
       "13970    1\n",
       "20586    1\n",
       "26308    1\n",
       "7693     1\n",
       "14199    1\n",
       "24200    1\n",
       "5348     1\n",
       "5855     1\n",
       "11262    1\n",
       "24483    1\n",
       "19345    1\n",
       "4585     1\n",
       "21831    1\n",
       "16734    1\n",
       "8416     1\n",
       "6705     1\n",
       "13430    1\n",
       "3458     1\n",
       "23826    1\n",
       "10950    1\n",
       "17218    1\n",
       "26493    1\n",
       "20460    1\n",
       "14814    1\n",
       "26204    1\n",
       "24152    1\n",
       "24812    1\n",
       "15428    1\n",
       "17485    1\n",
       "17456    1\n",
       "23343    1\n",
       "22710    1\n",
       "4050     1\n",
       "9731     1\n",
       "7677     1\n",
       "17616    1\n",
       "25412    1\n",
       "6161     1\n",
       "11189    1\n",
       "14284    1\n",
       "14120    1\n",
       "22474    1\n",
       "15975    1\n",
       "6073     1\n",
       "13588    1\n",
       "9125     1\n",
       "3840     1\n",
       "9060     1\n",
       "4992     1\n",
       "25605    1\n",
       "7914     1\n",
       "5531     1\n",
       "11092    1\n",
       "20520    1\n",
       "24232    1\n",
       "4297     1\n",
       "4022     1\n",
       "26589    1\n",
       "22162    1\n",
       "21632    1\n",
       "4284     1\n",
       "4051     1\n",
       "19905    1\n",
       "22670    1\n",
       "3064     1\n",
       "18767    1\n",
       "23726    1\n",
       "4344     1\n",
       "23452    1\n",
       "16346    1\n",
       "5013     1\n",
       "14168    1\n",
       "7428     1\n",
       "17872    1\n",
       "14363    1\n",
       "5678     1\n",
       "3208     1\n",
       "11141    1\n",
       "20623    1\n",
       "17433    1\n",
       "13192    1\n",
       "9489     1\n",
       "2706     1\n",
       "6409     1\n",
       "19911    1\n",
       "25265    1\n",
       "6054     1\n",
       "13848    1\n",
       "8318     1\n",
       "5404     1\n",
       "21829    1\n",
       "11275    1\n",
       "11005    1\n",
       "19899    1\n",
       "8770     1\n",
       "12154    1\n",
       "8392     1\n",
       "22673    1\n",
       "7060     1\n",
       "19170    1\n",
       "4544     1\n",
       "17783    1\n",
       "5594     1\n",
       "10084    1\n",
       "23398    1\n",
       "8861     1\n",
       "24619    1\n",
       "18264    1\n",
       "23364    1\n",
       "8007     1\n",
       "6420     1\n",
       "12888    1\n",
       "20445    1\n",
       "2094     1\n",
       "21293    1\n",
       "5083     1\n",
       "18863    1\n",
       "2326     1\n",
       "5596     1\n",
       "22656    1\n",
       "2689     1\n",
       "10034    1\n",
       "12682    1\n",
       "13243    1\n",
       "17312    1\n",
       "23844    1\n",
       "17119    1\n",
       "14399    1\n",
       "23037    1\n",
       "24450    1\n",
       "3173     1\n",
       "2690     1\n",
       "22957    1\n",
       "6004     1\n",
       "15322    1\n",
       "21457    1\n",
       "5982     1\n",
       "8978     1\n",
       "24162    1\n",
       "22384    1\n",
       "4973     1\n",
       "10503    1\n",
       "5388     1\n",
       "16290    1\n",
       "3835     1\n",
       "17000    1\n",
       "23447    1\n",
       "11925    1\n",
       "3549     1\n",
       "14618    1\n",
       "13693    1\n",
       "17381    1\n",
       "7288     1\n",
       "7568     1\n",
       "23757    1\n",
       "11740    1\n",
       "14810    1\n",
       "5640     1\n",
       "5099     1\n",
       "12695    1\n",
       "5340     1\n",
       "21653    1\n",
       "18698    1\n",
       "26862    1\n",
       "18079    1\n",
       "21075    1\n",
       "20006    1\n",
       "7439     1\n",
       "22914    1\n",
       "17674    1\n",
       "10697    1\n",
       "3088     1\n",
       "26427    1\n",
       "5151     1\n",
       "9697     1\n",
       "9752     1\n",
       "26767    1\n",
       "11038    1\n",
       "20750    1\n",
       "22553    1\n",
       "6582     1\n",
       "23258    1\n",
       "6110     1\n",
       "17663    1\n",
       "10110    1\n",
       "22107    1\n",
       "5242     1\n",
       "14864    1\n",
       "15815    1\n",
       "22825    1\n",
       "22149    1\n",
       "4381     1\n",
       "24525    1\n",
       "5228     1\n",
       "12430    1\n",
       "17053    1\n",
       "12090    1\n",
       "19558    1\n",
       "19609    1\n",
       "19239    1\n",
       "6615     1\n",
       "9977     1\n",
       "7824     1\n",
       "7790     1\n",
       "21222    1\n",
       "14871    1\n",
       "8635     1\n",
       "2373     1\n",
       "12932    1\n",
       "10339    1\n",
       "18089    1\n",
       "26376    1\n",
       "6698     1\n",
       "25291    1\n",
       "19225    1\n",
       "24793    1\n",
       "23910    1\n",
       "10224    1\n",
       "23300    1\n",
       "16673    1\n",
       "26968    1\n",
       "20161    1\n",
       "17852    1\n",
       "18869    1\n",
       "7530     1\n",
       "18686    1\n",
       "22807    1\n",
       "22794    1\n",
       "5829     1\n",
       "7999     1\n",
       "21630    1\n",
       "15701    1\n",
       "24666    1\n",
       "23848    1\n",
       "8346     1\n",
       "4386     1\n",
       "17940    1\n",
       "12449    1\n",
       "4510     1\n",
       "19479    1\n",
       "26959    1\n",
       "8863     1\n",
       "21698    1\n",
       "26278    1\n",
       "7346     1\n",
       "4956     1\n",
       "16479    1\n",
       "24164    1\n",
       "19982    1\n",
       "16130    1\n",
       "25518    1\n",
       "25174    1\n",
       "25470    1\n",
       "10205    1\n",
       "9973     1\n",
       "17089    1\n",
       "16642    1\n",
       "Name: count, dtype: int64"
      ]
     },
     "metadata": {},
     "output_type": "display_data"
    },
    {
     "data": {
      "application/vnd.microsoft.datawrangler.viewer.v0+json": {
       "columns": [
        {
         "name": "NUMCOMPANIESWORKED",
         "rawType": "int64",
         "type": "integer"
        },
        {
         "name": "count",
         "rawType": "int64",
         "type": "integer"
        }
       ],
       "ref": "77f868b2-7afa-4fae-8671-a2affbfd2e33",
       "rows": [
        [
         "1",
         "573"
        ],
        [
         "0",
         "226"
        ],
        [
         "3",
         "169"
        ],
        [
         "4",
         "157"
        ],
        [
         "2",
         "156"
        ],
        [
         "7",
         "84"
        ],
        [
         "6",
         "73"
        ],
        [
         "5",
         "66"
        ],
        [
         "9",
         "59"
        ],
        [
         "8",
         "51"
        ]
       ],
       "shape": {
        "columns": 1,
        "rows": 10
       }
      },
      "text/plain": [
       "NUMCOMPANIESWORKED\n",
       "1    573\n",
       "0    226\n",
       "3    169\n",
       "4    157\n",
       "2    156\n",
       "7     84\n",
       "6     73\n",
       "5     66\n",
       "9     59\n",
       "8     51\n",
       "Name: count, dtype: int64"
      ]
     },
     "metadata": {},
     "output_type": "display_data"
    },
    {
     "data": {
      "application/vnd.microsoft.datawrangler.viewer.v0+json": {
       "columns": [
        {
         "name": "Over18",
         "rawType": "object",
         "type": "string"
        },
        {
         "name": "count",
         "rawType": "int64",
         "type": "integer"
        }
       ],
       "ref": "bdbd3264-50c4-4352-9c54-43dd21dd96ca",
       "rows": [
        [
         "Y",
         "713"
        ]
       ],
       "shape": {
        "columns": 1,
        "rows": 1
       }
      },
      "text/plain": [
       "Over18\n",
       "Y    713\n",
       "Name: count, dtype: int64"
      ]
     },
     "metadata": {},
     "output_type": "display_data"
    },
    {
     "data": {
      "application/vnd.microsoft.datawrangler.viewer.v0+json": {
       "columns": [
        {
         "name": "OverTime",
         "rawType": "object",
         "type": "string"
        },
        {
         "name": "count",
         "rawType": "int64",
         "type": "integer"
        }
       ],
       "ref": "afecba93-b97e-48c5-b9b2-059f11bd1958",
       "rows": [
        [
         "No",
         "682"
        ],
        [
         "Yes",
         "256"
        ]
       ],
       "shape": {
        "columns": 1,
        "rows": 2
       }
      },
      "text/plain": [
       "OverTime\n",
       "No     682\n",
       "Yes    256\n",
       "Name: count, dtype: int64"
      ]
     },
     "metadata": {},
     "output_type": "display_data"
    },
    {
     "data": {
      "application/vnd.microsoft.datawrangler.viewer.v0+json": {
       "columns": [
        {
         "name": "PercentSalaryHike",
         "rawType": "int64",
         "type": "integer"
        },
        {
         "name": "count",
         "rawType": "int64",
         "type": "integer"
        }
       ],
       "ref": "859a6735-e93f-4265-8039-2bbdddde1cf6",
       "rows": [
        [
         "11",
         "232"
        ],
        [
         "13",
         "230"
        ],
        [
         "12",
         "225"
        ],
        [
         "14",
         "220"
        ],
        [
         "15",
         "110"
        ],
        [
         "18",
         "98"
        ],
        [
         "17",
         "88"
        ],
        [
         "16",
         "86"
        ],
        [
         "19",
         "82"
        ],
        [
         "20",
         "60"
        ],
        [
         "22",
         "59"
        ],
        [
         "21",
         "51"
        ],
        [
         "23",
         "29"
        ],
        [
         "24",
         "25"
        ],
        [
         "25",
         "19"
        ]
       ],
       "shape": {
        "columns": 1,
        "rows": 15
       }
      },
      "text/plain": [
       "PercentSalaryHike\n",
       "11    232\n",
       "13    230\n",
       "12    225\n",
       "14    220\n",
       "15    110\n",
       "18     98\n",
       "17     88\n",
       "16     86\n",
       "19     82\n",
       "20     60\n",
       "22     59\n",
       "21     51\n",
       "23     29\n",
       "24     25\n",
       "25     19\n",
       "Name: count, dtype: int64"
      ]
     },
     "metadata": {},
     "output_type": "display_data"
    },
    {
     "data": {
      "application/vnd.microsoft.datawrangler.viewer.v0+json": {
       "columns": [
        {
         "name": "PerformanceRating",
         "rawType": "object",
         "type": "string"
        },
        {
         "name": "count",
         "rawType": "int64",
         "type": "integer"
        }
       ],
       "ref": "2d4f1397-1c74-4fed-9033-776c26d2eadc",
       "rows": [
        [
         "3,0",
         "1205"
        ],
        [
         "4,0",
         "214"
        ]
       ],
       "shape": {
        "columns": 1,
        "rows": 2
       }
      },
      "text/plain": [
       "PerformanceRating\n",
       "3,0    1205\n",
       "4,0     214\n",
       "Name: count, dtype: int64"
      ]
     },
     "metadata": {},
     "output_type": "display_data"
    },
    {
     "data": {
      "application/vnd.microsoft.datawrangler.viewer.v0+json": {
       "columns": [
        {
         "name": "RelationshipSatisfaction",
         "rawType": "int64",
         "type": "integer"
        },
        {
         "name": "count",
         "rawType": "int64",
         "type": "integer"
        }
       ],
       "ref": "bbffeada-65e4-42d1-aa51-bc11783c1b9b",
       "rows": [
        [
         "3",
         "504"
        ],
        [
         "4",
         "468"
        ],
        [
         "2",
         "339"
        ],
        [
         "1",
         "303"
        ]
       ],
       "shape": {
        "columns": 1,
        "rows": 4
       }
      },
      "text/plain": [
       "RelationshipSatisfaction\n",
       "3    504\n",
       "4    468\n",
       "2    339\n",
       "1    303\n",
       "Name: count, dtype: int64"
      ]
     },
     "metadata": {},
     "output_type": "display_data"
    },
    {
     "data": {
      "application/vnd.microsoft.datawrangler.viewer.v0+json": {
       "columns": [
        {
         "name": "StandardHours",
         "rawType": "object",
         "type": "string"
        },
        {
         "name": "count",
         "rawType": "int64",
         "type": "integer"
        }
       ],
       "ref": "3861e5e7-047e-4d72-baf9-bfd4c09cdb65",
       "rows": [
        [
         "80,0",
         "419"
        ]
       ],
       "shape": {
        "columns": 1,
        "rows": 1
       }
      },
      "text/plain": [
       "StandardHours\n",
       "80,0    419\n",
       "Name: count, dtype: int64"
      ]
     },
     "metadata": {},
     "output_type": "display_data"
    },
    {
     "data": {
      "application/vnd.microsoft.datawrangler.viewer.v0+json": {
       "columns": [
        {
         "name": "StockOptionLevel",
         "rawType": "int64",
         "type": "integer"
        },
        {
         "name": "count",
         "rawType": "int64",
         "type": "integer"
        }
       ],
       "ref": "b46618a0-7c61-4692-bdc3-fc2d50079f0c",
       "rows": [
        [
         "0",
         "687"
        ],
        [
         "1",
         "666"
        ],
        [
         "2",
         "172"
        ],
        [
         "3",
         "89"
        ]
       ],
       "shape": {
        "columns": 1,
        "rows": 4
       }
      },
      "text/plain": [
       "StockOptionLevel\n",
       "0    687\n",
       "1    666\n",
       "2    172\n",
       "3     89\n",
       "Name: count, dtype: int64"
      ]
     },
     "metadata": {},
     "output_type": "display_data"
    },
    {
     "data": {
      "application/vnd.microsoft.datawrangler.viewer.v0+json": {
       "columns": [
        {
         "name": "TOTALWORKINGYEARS",
         "rawType": "object",
         "type": "string"
        },
        {
         "name": "count",
         "rawType": "int64",
         "type": "integer"
        }
       ],
       "ref": "6011f1e4-3aeb-40d0-b39e-8ab807c62c2b",
       "rows": [
        [
         "10,0",
         "144"
        ],
        [
         "8,0",
         "86"
        ],
        [
         "6,0",
         "84"
        ],
        [
         "9,0",
         "69"
        ],
        [
         "5,0",
         "66"
        ],
        [
         "7,0",
         "56"
        ],
        [
         "4,0",
         "54"
        ],
        [
         "1,0",
         "53"
        ],
        [
         "12,0",
         "34"
        ],
        [
         "3,0",
         "32"
        ],
        [
         "14,0",
         "30"
        ],
        [
         "13,0",
         "30"
        ],
        [
         "11,0",
         "29"
        ],
        [
         "15,0",
         "28"
        ],
        [
         "16,0",
         "28"
        ],
        [
         "20,0",
         "28"
        ],
        [
         "18,0",
         "27"
        ],
        [
         "21,0",
         "23"
        ],
        [
         "17,0",
         "22"
        ],
        [
         "2,0",
         "21"
        ],
        [
         "22,0",
         "18"
        ],
        [
         "19,0",
         "17"
        ],
        [
         "24,0",
         "14"
        ],
        [
         "23,0",
         "13"
        ],
        [
         "28,0",
         "13"
        ],
        [
         "26,0",
         "8"
        ],
        [
         "0,0",
         "8"
        ],
        [
         "29,0",
         "6"
        ],
        [
         "36,0",
         "6"
        ],
        [
         "25,0",
         "6"
        ],
        [
         "33,0",
         "6"
        ],
        [
         "37,0",
         "5"
        ],
        [
         "27,0",
         "5"
        ],
        [
         "31,0",
         "4"
        ],
        [
         "30,0",
         "3"
        ],
        [
         "32,0",
         "3"
        ],
        [
         "35,0",
         "3"
        ],
        [
         "40,0",
         "3"
        ],
        [
         "34,0",
         "2"
        ],
        [
         "38,0",
         "1"
        ]
       ],
       "shape": {
        "columns": 1,
        "rows": 40
       }
      },
      "text/plain": [
       "TOTALWORKINGYEARS\n",
       "10,0    144\n",
       "8,0      86\n",
       "6,0      84\n",
       "9,0      69\n",
       "5,0      66\n",
       "7,0      56\n",
       "4,0      54\n",
       "1,0      53\n",
       "12,0     34\n",
       "3,0      32\n",
       "14,0     30\n",
       "13,0     30\n",
       "11,0     29\n",
       "15,0     28\n",
       "16,0     28\n",
       "20,0     28\n",
       "18,0     27\n",
       "21,0     23\n",
       "17,0     22\n",
       "2,0      21\n",
       "22,0     18\n",
       "19,0     17\n",
       "24,0     14\n",
       "23,0     13\n",
       "28,0     13\n",
       "26,0      8\n",
       "0,0       8\n",
       "29,0      6\n",
       "36,0      6\n",
       "25,0      6\n",
       "33,0      6\n",
       "37,0      5\n",
       "27,0      5\n",
       "31,0      4\n",
       "30,0      3\n",
       "32,0      3\n",
       "35,0      3\n",
       "40,0      3\n",
       "34,0      2\n",
       "38,0      1\n",
       "Name: count, dtype: int64"
      ]
     },
     "metadata": {},
     "output_type": "display_data"
    },
    {
     "data": {
      "application/vnd.microsoft.datawrangler.viewer.v0+json": {
       "columns": [
        {
         "name": "TrainingTimesLastYear",
         "rawType": "int64",
         "type": "integer"
        },
        {
         "name": "count",
         "rawType": "int64",
         "type": "integer"
        }
       ],
       "ref": "ee78b82d-2305-4136-86d4-176a38aa95c9",
       "rows": [
        [
         "2",
         "598"
        ],
        [
         "3",
         "534"
        ],
        [
         "4",
         "137"
        ],
        [
         "5",
         "136"
        ],
        [
         "1",
         "77"
        ],
        [
         "6",
         "72"
        ],
        [
         "0",
         "60"
        ]
       ],
       "shape": {
        "columns": 1,
        "rows": 7
       }
      },
      "text/plain": [
       "TrainingTimesLastYear\n",
       "2    598\n",
       "3    534\n",
       "4    137\n",
       "5    136\n",
       "1     77\n",
       "6     72\n",
       "0     60\n",
       "Name: count, dtype: int64"
      ]
     },
     "metadata": {},
     "output_type": "display_data"
    },
    {
     "data": {
      "application/vnd.microsoft.datawrangler.viewer.v0+json": {
       "columns": [
        {
         "name": "WORKLIFEBALANCE",
         "rawType": "object",
         "type": "string"
        },
        {
         "name": "count",
         "rawType": "int64",
         "type": "integer"
        }
       ],
       "ref": "17c782fd-9df6-4b12-8486-7cf40f8ce009",
       "rows": [
        [
         "3,0",
         "913"
        ],
        [
         "2,0",
         "359"
        ],
        [
         "4,0",
         "155"
        ],
        [
         "1,0",
         "79"
        ]
       ],
       "shape": {
        "columns": 1,
        "rows": 4
       }
      },
      "text/plain": [
       "WORKLIFEBALANCE\n",
       "3,0    913\n",
       "2,0    359\n",
       "4,0    155\n",
       "1,0     79\n",
       "Name: count, dtype: int64"
      ]
     },
     "metadata": {},
     "output_type": "display_data"
    },
    {
     "data": {
      "application/vnd.microsoft.datawrangler.viewer.v0+json": {
       "columns": [
        {
         "name": "YearsAtCompany",
         "rawType": "int64",
         "type": "integer"
        },
        {
         "name": "count",
         "rawType": "int64",
         "type": "integer"
        }
       ],
       "ref": "f67b34a4-eac7-4450-913f-3686b6d536f9",
       "rows": [
        [
         "5",
         "208"
        ],
        [
         "1",
         "171"
        ],
        [
         "3",
         "141"
        ],
        [
         "2",
         "141"
        ],
        [
         "10",
         "133"
        ],
        [
         "7",
         "115"
        ],
        [
         "4",
         "114"
        ],
        [
         "8",
         "106"
        ],
        [
         "9",
         "94"
        ],
        [
         "6",
         "78"
        ],
        [
         "0",
         "44"
        ],
        [
         "11",
         "36"
        ],
        [
         "20",
         "29"
        ],
        [
         "13",
         "26"
        ],
        [
         "15",
         "21"
        ],
        [
         "14",
         "19"
        ],
        [
         "22",
         "17"
        ],
        [
         "12",
         "15"
        ],
        [
         "18",
         "15"
        ],
        [
         "16",
         "14"
        ],
        [
         "21",
         "14"
        ],
        [
         "19",
         "12"
        ],
        [
         "17",
         "9"
        ],
        [
         "24",
         "7"
        ],
        [
         "25",
         "5"
        ],
        [
         "33",
         "5"
        ],
        [
         "26",
         "4"
        ],
        [
         "32",
         "3"
        ],
        [
         "27",
         "3"
        ],
        [
         "31",
         "3"
        ],
        [
         "36",
         "3"
        ],
        [
         "29",
         "2"
        ],
        [
         "23",
         "2"
        ],
        [
         "40",
         "2"
        ],
        [
         "34",
         "1"
        ],
        [
         "37",
         "1"
        ],
        [
         "30",
         "1"
        ]
       ],
       "shape": {
        "columns": 1,
        "rows": 37
       }
      },
      "text/plain": [
       "YearsAtCompany\n",
       "5     208\n",
       "1     171\n",
       "3     141\n",
       "2     141\n",
       "10    133\n",
       "7     115\n",
       "4     114\n",
       "8     106\n",
       "9      94\n",
       "6      78\n",
       "0      44\n",
       "11     36\n",
       "20     29\n",
       "13     26\n",
       "15     21\n",
       "14     19\n",
       "22     17\n",
       "12     15\n",
       "18     15\n",
       "16     14\n",
       "21     14\n",
       "19     12\n",
       "17      9\n",
       "24      7\n",
       "25      5\n",
       "33      5\n",
       "26      4\n",
       "32      3\n",
       "27      3\n",
       "31      3\n",
       "36      3\n",
       "29      2\n",
       "23      2\n",
       "40      2\n",
       "34      1\n",
       "37      1\n",
       "30      1\n",
       "Name: count, dtype: int64"
      ]
     },
     "metadata": {},
     "output_type": "display_data"
    },
    {
     "data": {
      "application/vnd.microsoft.datawrangler.viewer.v0+json": {
       "columns": [
        {
         "name": "YearsInCurrentRole",
         "rawType": "object",
         "type": "string"
        },
        {
         "name": "count",
         "rawType": "int64",
         "type": "integer"
        }
       ],
       "ref": "49a573a4-6058-4f0a-9d3d-e8ef648017e0",
       "rows": [
        [
         "2,0",
         "11"
        ],
        [
         "7,0",
         "5"
        ],
        [
         "0,0",
         "4"
        ],
        [
         "4,0",
         "3"
        ],
        [
         "1,0",
         "3"
        ],
        [
         "11,0",
         "2"
        ],
        [
         "6,0",
         "2"
        ],
        [
         "3,0",
         "2"
        ],
        [
         "13,0",
         "1"
        ],
        [
         "12,0",
         "1"
        ]
       ],
       "shape": {
        "columns": 1,
        "rows": 10
       }
      },
      "text/plain": [
       "YearsInCurrentRole\n",
       "2,0     11\n",
       "7,0      5\n",
       "0,0      4\n",
       "4,0      3\n",
       "1,0      3\n",
       "11,0     2\n",
       "6,0      2\n",
       "3,0      2\n",
       "13,0     1\n",
       "12,0     1\n",
       "Name: count, dtype: int64"
      ]
     },
     "metadata": {},
     "output_type": "display_data"
    },
    {
     "data": {
      "application/vnd.microsoft.datawrangler.viewer.v0+json": {
       "columns": [
        {
         "name": "YearsSinceLastPromotion",
         "rawType": "int64",
         "type": "integer"
        },
        {
         "name": "count",
         "rawType": "int64",
         "type": "integer"
        }
       ],
       "ref": "c4ca9547-d6a8-4ccc-986e-709b75c3b830",
       "rows": [
        [
         "0",
         "625"
        ],
        [
         "1",
         "384"
        ],
        [
         "2",
         "177"
        ],
        [
         "7",
         "93"
        ],
        [
         "4",
         "67"
        ],
        [
         "3",
         "62"
        ],
        [
         "5",
         "53"
        ],
        [
         "6",
         "37"
        ],
        [
         "11",
         "26"
        ],
        [
         "8",
         "20"
        ],
        [
         "9",
         "18"
        ],
        [
         "15",
         "15"
        ],
        [
         "12",
         "11"
        ],
        [
         "13",
         "10"
        ],
        [
         "14",
         "10"
        ],
        [
         "10",
         "6"
        ]
       ],
       "shape": {
        "columns": 1,
        "rows": 16
       }
      },
      "text/plain": [
       "YearsSinceLastPromotion\n",
       "0     625\n",
       "1     384\n",
       "2     177\n",
       "7      93\n",
       "4      67\n",
       "3      62\n",
       "5      53\n",
       "6      37\n",
       "11     26\n",
       "8      20\n",
       "9      18\n",
       "15     15\n",
       "12     11\n",
       "13     10\n",
       "14     10\n",
       "10      6\n",
       "Name: count, dtype: int64"
      ]
     },
     "metadata": {},
     "output_type": "display_data"
    },
    {
     "data": {
      "application/vnd.microsoft.datawrangler.viewer.v0+json": {
       "columns": [
        {
         "name": "YEARSWITHCURRMANAGER",
         "rawType": "int64",
         "type": "integer"
        },
        {
         "name": "count",
         "rawType": "int64",
         "type": "integer"
        }
       ],
       "ref": "3cfa9dcf-9304-480a-a228-61faae902133",
       "rows": [
        [
         "2",
         "380"
        ],
        [
         "0",
         "270"
        ],
        [
         "7",
         "267"
        ],
        [
         "3",
         "148"
        ],
        [
         "8",
         "115"
        ],
        [
         "4",
         "104"
        ],
        [
         "1",
         "84"
        ],
        [
         "9",
         "70"
        ],
        [
         "5",
         "36"
        ],
        [
         "10",
         "31"
        ],
        [
         "6",
         "30"
        ],
        [
         "11",
         "22"
        ],
        [
         "12",
         "20"
        ],
        [
         "13",
         "16"
        ],
        [
         "17",
         "8"
        ],
        [
         "15",
         "5"
        ],
        [
         "14",
         "5"
        ],
        [
         "16",
         "3"
        ]
       ],
       "shape": {
        "columns": 1,
        "rows": 18
       }
      },
      "text/plain": [
       "YEARSWITHCURRMANAGER\n",
       "2     380\n",
       "0     270\n",
       "7     267\n",
       "3     148\n",
       "8     115\n",
       "4     104\n",
       "1      84\n",
       "9      70\n",
       "5      36\n",
       "10     31\n",
       "6      30\n",
       "11     22\n",
       "12     20\n",
       "13     16\n",
       "17      8\n",
       "15      5\n",
       "14      5\n",
       "16      3\n",
       "Name: count, dtype: int64"
      ]
     },
     "metadata": {},
     "output_type": "display_data"
    },
    {
     "data": {
      "application/vnd.microsoft.datawrangler.viewer.v0+json": {
       "columns": [
        {
         "name": "SameAsMonthlyIncome",
         "rawType": "object",
         "type": "string"
        },
        {
         "name": "count",
         "rawType": "int64",
         "type": "integer"
        }
       ],
       "ref": "7813cf7e-1135-4827-af6f-d3b46462ad32",
       "rows": [
        [
         "6347,0",
         "4"
        ],
        [
         "5304,0",
         "4"
        ],
        [
         "2657,0",
         "3"
        ],
        [
         "2258,0",
         "3"
        ],
        [
         "5405,0",
         "2"
        ],
        [
         "8224,0",
         "2"
        ],
        [
         "2610,0",
         "2"
        ],
        [
         "5731,0",
         "2"
        ],
        [
         "2539,0",
         "2"
        ],
        [
         "2376,0",
         "2"
        ],
        [
         "11713,0",
         "2"
        ],
        [
         "2216,0",
         "2"
        ],
        [
         "19189,0",
         "2"
        ],
        [
         "3452,0",
         "2"
        ],
        [
         "2070,0",
         "2"
        ],
        [
         "8793,0",
         "2"
        ],
        [
         "2587,0",
         "2"
        ],
        [
         "4960,0",
         "2"
        ],
        [
         "11159,0",
         "2"
        ],
        [
         "5396,0",
         "2"
        ],
        [
         "2782,0",
         "2"
        ],
        [
         "4197,0",
         "2"
        ],
        [
         "9434,0",
         "2"
        ],
        [
         "5337,0",
         "2"
        ],
        [
         "2741,0",
         "2"
        ],
        [
         "2791,0",
         "2"
        ],
        [
         "5828,0",
         "2"
        ],
        [
         "2909,0",
         "2"
        ],
        [
         "2033,0",
         "2"
        ],
        [
         "2821,0",
         "2"
        ],
        [
         "7756,0",
         "2"
        ],
        [
         "2042,0",
         "2"
        ],
        [
         "6632,0",
         "2"
        ],
        [
         "7587,0",
         "2"
        ],
        [
         "4335,0",
         "2"
        ],
        [
         "5980,0",
         "2"
        ],
        [
         "4244,0",
         "2"
        ],
        [
         "5228,0",
         "2"
        ],
        [
         "2700,0",
         "2"
        ],
        [
         "2380,0",
         "2"
        ],
        [
         "2404,0",
         "2"
        ],
        [
         "2377,0",
         "2"
        ],
        [
         "2366,0",
         "2"
        ],
        [
         "2329,0",
         "2"
        ],
        [
         "4294,0",
         "2"
        ],
        [
         "6725,0",
         "2"
        ],
        [
         "10325,0",
         "2"
        ],
        [
         "4447,0",
         "2"
        ],
        [
         "10845,0",
         "2"
        ],
        [
         "3420,0",
         "2"
        ]
       ],
       "shape": {
        "columns": 1,
        "rows": 668
       }
      },
      "text/plain": [
       "SameAsMonthlyIncome\n",
       "6347,0     4\n",
       "5304,0     4\n",
       "2657,0     3\n",
       "2258,0     3\n",
       "5405,0     2\n",
       "8224,0     2\n",
       "2610,0     2\n",
       "5731,0     2\n",
       "2539,0     2\n",
       "2376,0     2\n",
       "11713,0    2\n",
       "2216,0     2\n",
       "19189,0    2\n",
       "3452,0     2\n",
       "2070,0     2\n",
       "8793,0     2\n",
       "2587,0     2\n",
       "4960,0     2\n",
       "11159,0    2\n",
       "5396,0     2\n",
       "2782,0     2\n",
       "4197,0     2\n",
       "9434,0     2\n",
       "5337,0     2\n",
       "2741,0     2\n",
       "2791,0     2\n",
       "5828,0     2\n",
       "2909,0     2\n",
       "2033,0     2\n",
       "2821,0     2\n",
       "7756,0     2\n",
       "2042,0     2\n",
       "6632,0     2\n",
       "7587,0     2\n",
       "4335,0     2\n",
       "5980,0     2\n",
       "4244,0     2\n",
       "5228,0     2\n",
       "2700,0     2\n",
       "2380,0     2\n",
       "2404,0     2\n",
       "2377,0     2\n",
       "2366,0     2\n",
       "2329,0     2\n",
       "4294,0     2\n",
       "6725,0     2\n",
       "10325,0    2\n",
       "4447,0     2\n",
       "10845,0    2\n",
       "3420,0     2\n",
       "4805,0     2\n",
       "17861,0    2\n",
       "5605,0     2\n",
       "6162,0     2\n",
       "6410,0     2\n",
       "13212,0    2\n",
       "3034,0     2\n",
       "5974,0     2\n",
       "2119,0     2\n",
       "2144,0     2\n",
       "5373,0     2\n",
       "5257,0     2\n",
       "4682,0     2\n",
       "5769,0     2\n",
       "3539,0     2\n",
       "5468,0     2\n",
       "5813,0     2\n",
       "9667,0     2\n",
       "5154,0     2\n",
       "5675,0     2\n",
       "7314,0     2\n",
       "5055,0     2\n",
       "2455,0     2\n",
       "4941,0     2\n",
       "3983,0     2\n",
       "2904,0     2\n",
       "2696,0     2\n",
       "2308,0     2\n",
       "4051,0     2\n",
       "8392,0     2\n",
       "2654,0     2\n",
       "17046,0    2\n",
       "4306,0     2\n",
       "11510,0    2\n",
       "9613,0     2\n",
       "16015,0    2\n",
       "19045,0    2\n",
       "2218,0     2\n",
       "6538,0     2\n",
       "3904,0     2\n",
       "19406,0    2\n",
       "2543,0     2\n",
       "10965,0    2\n",
       "6755,0     2\n",
       "2174,0     2\n",
       "3760,0     2\n",
       "11103,0    2\n",
       "19537,0    1\n",
       "3180,0     1\n",
       "3445,0     1\n",
       "4440,0     1\n",
       "10448,0    1\n",
       "5399,0     1\n",
       "3978,0     1\n",
       "8103,0     1\n",
       "5507,0     1\n",
       "2062,0     1\n",
       "2662,0     1\n",
       "3902,0     1\n",
       "2105,0     1\n",
       "3591,0     1\n",
       "13116,0    1\n",
       "6294,0     1\n",
       "2760,0     1\n",
       "3907,0     1\n",
       "11244,0    1\n",
       "3477,0     1\n",
       "3433,0     1\n",
       "2305,0     1\n",
       "15972,0    1\n",
       "5505,0     1\n",
       "4374,0     1\n",
       "2166,0     1\n",
       "4898,0     1\n",
       "15202,0    1\n",
       "3117,0     1\n",
       "3312,0     1\n",
       "4855,0     1\n",
       "6392,0     1\n",
       "4069,0     1\n",
       "2580,0     1\n",
       "2743,0     1\n",
       "6651,0     1\n",
       "4262,0     1\n",
       "2400,0     1\n",
       "3681,0     1\n",
       "3447,0     1\n",
       "19513,0    1\n",
       "2659,0     1\n",
       "8847,0     1\n",
       "2045,0     1\n",
       "4851,0     1\n",
       "8120,0     1\n",
       "4577,0     1\n",
       "3708,0     1\n",
       "13770,0    1\n",
       "2297,0     1\n",
       "2450,0     1\n",
       "4342,0     1\n",
       "2572,0     1\n",
       "6500,0     1\n",
       "10527,0    1\n",
       "3894,0     1\n",
       "3162,0     1\n",
       "2546,0     1\n",
       "10650,0    1\n",
       "4317,0     1\n",
       "2024,0     1\n",
       "3058,0     1\n",
       "3929,0     1\n",
       "4425,0     1\n",
       "2328,0     1\n",
       "5940,0     1\n",
       "2622,0     1\n",
       "3212,0     1\n",
       "2911,0     1\n",
       "6931,0     1\n",
       "2176,0     1\n",
       "3230,0     1\n",
       "18665,0    1\n",
       "2789,0     1\n",
       "11935,0    1\n",
       "3149,0     1\n",
       "5324,0     1\n",
       "4382,0     1\n",
       "2553,0     1\n",
       "3867,0     1\n",
       "2080,0     1\n",
       "2096,0     1\n",
       "4627,0     1\n",
       "2302,0     1\n",
       "5071,0     1\n",
       "10596,0    1\n",
       "5467,0     1\n",
       "2394,0     1\n",
       "3629,0     1\n",
       "9362,0     1\n",
       "3229,0     1\n",
       "16422,0    1\n",
       "5647,0     1\n",
       "4400,0     1\n",
       "2066,0     1\n",
       "5486,0     1\n",
       "4538,0     1\n",
       "3375,0     1\n",
       "19081,0    1\n",
       "5562,0     1\n",
       "5933,0     1\n",
       "4403,0     1\n",
       "10934,0    1\n",
       "2022,0     1\n",
       "4256,0     1\n",
       "3580,0     1\n",
       "2899,0     1\n",
       "2799,0     1\n",
       "2207,0     1\n",
       "2811,0     1\n",
       "4377,0     1\n",
       "4240,0     1\n",
       "4227,0     1\n",
       "3917,0     1\n",
       "4969,0     1\n",
       "9957,0     1\n",
       "2660,0     1\n",
       "4422,0     1\n",
       "2269,0     1\n",
       "4766,0     1\n",
       "18303,0    1\n",
       "4777,0     1\n",
       "1052,0     1\n",
       "2461,0     1\n",
       "2596,0     1\n",
       "4728,0     1\n",
       "7351,0     1\n",
       "2827,0     1\n",
       "4787,0     1\n",
       "2853,0     1\n",
       "2290,0     1\n",
       "2107,0     1\n",
       "2210,0     1\n",
       "13191,0    1\n",
       "18265,0    1\n",
       "1118,0     1\n",
       "2600,0     1\n",
       "4163,0     1\n",
       "13194,0    1\n",
       "2479,0     1\n",
       "16627,0    1\n",
       "2083,0     1\n",
       "1009,0     1\n",
       "7861,0     1\n",
       "2642,0     1\n",
       "5121,0     1\n",
       "2694,0     1\n",
       "5094,0     1\n",
       "2274,0     1\n",
       "2314,0     1\n",
       "2008,0     1\n",
       "10552,0    1\n",
       "2259,0     1\n",
       "2413,0     1\n",
       "2121,0     1\n",
       "2372,0     1\n",
       "2838,0     1\n",
       "18061,0    1\n",
       "2862,0     1\n",
       "9756,0     1\n",
       "5294,0     1\n",
       "2437,0     1\n",
       "4071,0     1\n",
       "2956,0     1\n",
       "4648,0     1\n",
       "2804,0     1\n",
       "2439,0     1\n",
       "2856,0     1\n",
       "2933,0     1\n",
       "1091,0     1\n",
       "5151,0     1\n",
       "2863,0     1\n",
       "2858,0     1\n",
       "1129,0     1\n",
       "6735,0     1\n",
       "10883,0    1\n",
       "1611,0     1\n",
       "1393,0     1\n",
       "4768,0     1\n",
       "1274,0     1\n",
       "2561,0     1\n",
       "1563,0     1\n",
       "6388,0     1\n",
       "8376,0     1\n",
       "4841,0     1\n",
       "2074,0     1\n",
       "2972,0     1\n",
       "6815,0     1\n",
       "2690,0     1\n",
       "17567,0    1\n",
       "1569,0     1\n",
       "4187,0     1\n",
       "3306,0     1\n",
       "9602,0     1\n",
       "2127,0     1\n",
       "2340,0     1\n",
       "3617,0     1\n",
       "19237,0    1\n",
       "18844,0    1\n",
       "2552,0     1\n",
       "2678,0     1\n",
       "5171,0     1\n",
       "11916,0    1\n",
       "9380,0     1\n",
       "5878,0     1\n",
       "2468,0     1\n",
       "4127,0     1\n",
       "2148,0     1\n",
       "3886,0     1\n",
       "6667,0     1\n",
       "2090,0     1\n",
       "2086,0     1\n",
       "2684,0     1\n",
       "2318,0     1\n",
       "3022,0     1\n",
       "17159,0    1\n",
       "2809,0     1\n",
       "10854,0    1\n",
       "2571,0     1\n",
       "6142,0     1\n",
       "2496,0     1\n",
       "3419,0     1\n",
       "2501,0     1\n",
       "2566,0     1\n",
       "3920,0     1\n",
       "13964,0    1\n",
       "6540,0     1\n",
       "2244,0     1\n",
       "16184,0    1\n",
       "4233,0     1\n",
       "14814,0    1\n",
       "1951,0     1\n",
       "9724,0     1\n",
       "1878,0     1\n",
       "5238,0     1\n",
       "15992,0    1\n",
       "2370,0     1\n",
       "6781,0     1\n",
       "6653,0     1\n",
       "2851,0     1\n",
       "5258,0     1\n",
       "2476,0     1\n",
       "2285,0     1\n",
       "3448,0     1\n",
       "4558,0     1\n",
       "1702,0     1\n",
       "2564,0     1\n",
       "5070,0     1\n",
       "3780,0     1\n",
       "9824,0     1\n",
       "9985,0     1\n",
       "1200,0     1\n",
       "3388,0     1\n",
       "1420,0     1\n",
       "3038,0     1\n",
       "2322,0     1\n",
       "2926,0     1\n",
       "4505,0     1\n",
       "2835,0     1\n",
       "6553,0     1\n",
       "6673,0     1\n",
       "13591,0    1\n",
       "2177,0     1\n",
       "19517,0    1\n",
       "19202,0    1\n",
       "10048,0    1\n",
       "2723,0     1\n",
       "6644,0     1\n",
       "3161,0     1\n",
       "4739,0     1\n",
       "2517,0     1\n",
       "5021,0     1\n",
       "9924,0     1\n",
       "3069,0     1\n",
       "9241,0     1\n",
       "6472,0     1\n",
       "3055,0     1\n",
       "8321,0     1\n",
       "3143,0     1\n",
       "8578,0     1\n",
       "9888,0     1\n",
       "13341,0    1\n",
       "5677,0     1\n",
       "9526,0     1\n",
       "6825,0     1\n",
       "4424,0     1\n",
       "5441,0     1\n",
       "6074,0     1\n",
       "11245,0    1\n",
       "9714,0     1\n",
       "6172,0     1\n",
       "10124,0    1\n",
       "5309,0     1\n",
       "7654,0     1\n",
       "12808,0    1\n",
       "6586,0     1\n",
       "2519,0     1\n",
       "17099,0    1\n",
       "13120,0    1\n",
       "3131,0     1\n",
       "4444,0     1\n",
       "6674,0     1\n",
       "9852,0     1\n",
       "7446,0     1\n",
       "13757,0    1\n",
       "16598,0    1\n",
       "4285,0     1\n",
       "6146,0     1\n",
       "4668,0     1\n",
       "13664,0    1\n",
       "8500,0     1\n",
       "5363,0     1\n",
       "4081,0     1\n",
       "3578,0     1\n",
       "17328,0    1\n",
       "10793,0    1\n",
       "10851,0    1\n",
       "10466,0    1\n",
       "2362,0     1\n",
       "6439,0     1\n",
       "4385,0     1\n",
       "4066,0     1\n",
       "5206,0     1\n",
       "2655,0     1\n",
       "2570,0     1\n",
       "4502,0     1\n",
       "4639,0     1\n",
       "4534,0     1\n",
       "4319,0     1\n",
       "7094,0     1\n",
       "3564,0     1\n",
       "6261,0     1\n",
       "6804,0     1\n",
       "19436,0    1\n",
       "5472,0     1\n",
       "6385,0     1\n",
       "7525,0     1\n",
       "3660,0     1\n",
       "8740,0     1\n",
       "13499,0    1\n",
       "3491,0     1\n",
       "5220,0     1\n",
       "10252,0    1\n",
       "19740,0    1\n",
       "6209,0     1\n",
       "3348,0     1\n",
       "8412,0     1\n",
       "19197,0    1\n",
       "3210,0     1\n",
       "10475,0    1\n",
       "4721,0     1\n",
       "4615,0     1\n",
       "16959,0    1\n",
       "10306,0    1\n",
       "5406,0     1\n",
       "5902,0     1\n",
       "10855,0    1\n",
       "5914,0     1\n",
       "6646,0     1\n",
       "13973,0    1\n",
       "13320,0    1\n",
       "6687,0     1\n",
       "4735,0     1\n",
       "13872,0    1\n",
       "10266,0    1\n",
       "16064,0    1\n",
       "5674,0     1\n",
       "10447,0    1\n",
       "19232,0    1\n",
       "17169,0    1\n",
       "17174,0    1\n",
       "16595,0    1\n",
       "19973,0    1\n",
       "13402,0    1\n",
       "13206,0    1\n",
       "19545,0    1\n",
       "18041,0    1\n",
       "19246,0    1\n",
       "10748,0    1\n",
       "16752,0    1\n",
       "6201,0     1\n",
       "19845,0    1\n",
       "4001,0     1\n",
       "5067,0     1\n",
       "3692,0     1\n",
       "19847,0    1\n",
       "5747,0     1\n",
       "19187,0    1\n",
       "10008,0    1\n",
       "7988,0     1\n",
       "7083,0     1\n",
       "4723,0     1\n",
       "3407,0     1\n",
       "2929,0     1\n",
       "12031,0    1\n",
       "15427,0    1\n",
       "5126,0     1\n",
       "9619,0     1\n",
       "5010,0     1\n",
       "19033,0    1\n",
       "10400,0    1\n",
       "2793,0     1\n",
       "17123,0    1\n",
       "19190,0    1\n",
       "13577,0    1\n",
       "8943,0     1\n",
       "10422,0    1\n",
       "2348,0     1\n",
       "3072,0     1\n",
       "12490,0    1\n",
       "8020,0     1\n",
       "17068,0    1\n",
       "19272,0    1\n",
       "18213,0    1\n",
       "5577,0     1\n",
       "2691,0     1\n",
       "7403,0     1\n",
       "8823,0     1\n",
       "3579,0     1\n",
       "17779,0    1\n",
       "4968,0     1\n",
       "5147,0     1\n",
       "2718,0     1\n",
       "2389,0     1\n",
       "17584,0    1\n",
       "5661,0     1\n",
       "4869,0     1\n",
       "4649,0     1\n",
       "10496,0    1\n",
       "2768,0     1\n",
       "3408,0     1\n",
       "3755,0     1\n",
       "2187,0     1\n",
       "4258,0     1\n",
       "5326,0     1\n",
       "5485,0     1\n",
       "17639,0    1\n",
       "6062,0     1\n",
       "6288,0     1\n",
       "4000,0     1\n",
       "3815,0     1\n",
       "4930,0     1\n",
       "5265,0     1\n",
       "2705,0     1\n",
       "4448,0     1\n",
       "2379,0     1\n",
       "5487,0     1\n",
       "2810,0     1\n",
       "8938,0     1\n",
       "9936,0     1\n",
       "5454,0     1\n",
       "18740,0    1\n",
       "5473,0     1\n",
       "13503,0    1\n",
       "13549,0    1\n",
       "18172,0    1\n",
       "2774,0     1\n",
       "9439,0     1\n",
       "3424,0     1\n",
       "4194,0     1\n",
       "2532,0     1\n",
       "5666,0     1\n",
       "2226,0     1\n",
       "5561,0     1\n",
       "2897,0     1\n",
       "5321,0     1\n",
       "5410,0     1\n",
       "4850,0     1\n",
       "2001,0     1\n",
       "4404,0     1\n",
       "3944,0     1\n",
       "2960,0     1\n",
       "18947,0    1\n",
       "6465,0     1\n",
       "2683,0     1\n",
       "2014,0     1\n",
       "3441,0     1\n",
       "4284,0     1\n",
       "6513,0     1\n",
       "4213,0     1\n",
       "9204,0     1\n",
       "13726,0    1\n",
       "4107,0     1\n",
       "3597,0     1\n",
       "4115,0     1\n",
       "6272,0     1\n",
       "19999,0    1\n",
       "4373,0     1\n",
       "3377,0     1\n",
       "2064,0     1\n",
       "2430,0     1\n",
       "4877,0     1\n",
       "2013,0     1\n",
       "2974,0     1\n",
       "2766,0     1\n",
       "3702,0     1\n",
       "3989,0     1\n",
       "5098,0     1\n",
       "14411,0    1\n",
       "8237,0     1\n",
       "3211,0     1\n",
       "16704,0    1\n",
       "4774,0     1\n",
       "4568,0     1\n",
       "5993,0     1\n",
       "6499,0     1\n",
       "6397,0     1\n",
       "2725,0     1\n",
       "3622,0     1\n",
       "6180,0     1\n",
       "6274,0     1\n",
       "4381,0     1\n",
       "2559,0     1\n",
       "5488,0     1\n",
       "19586,0    1\n",
       "6549,0     1\n",
       "6842,0     1\n",
       "4249,0     1\n",
       "13570,0    1\n",
       "6712,0     1\n",
       "9991,0     1\n",
       "10248,0    1\n",
       "10938,0    1\n",
       "2593,0     1\n",
       "11878,0    1\n",
       "8095,0     1\n",
       "16856,0    1\n",
       "4537,0     1\n",
       "17924,0    1\n",
       "4014,0     1\n",
       "12742,0    1\n",
       "3376,0     1\n",
       "10482,0    1\n",
       "2514,0     1\n",
       "3196,0     1\n",
       "4087,0     1\n",
       "5368,0     1\n",
       "17399,0    1\n",
       "16885,0    1\n",
       "4323,0     1\n",
       "5155,0     1\n",
       "2936,0     1\n",
       "18789,0    1\n",
       "4883,0     1\n",
       "2029,0     1\n",
       "2996,0     1\n",
       "9278,0     1\n",
       "4162,0     1\n",
       "8853,0     1\n",
       "4876,0     1\n",
       "2141,0     1\n",
       "3936,0     1\n",
       "5204,0     1\n",
       "2973,0     1\n",
       "10761,0    1\n",
       "6502,0     1\n",
       "12936,0    1\n",
       "4221,0     1\n",
       "4963,0     1\n",
       "4200,0     1\n",
       "5006,0     1\n",
       "7639,0     1\n",
       "13525,0    1\n",
       "6322,0     1\n",
       "6349,0     1\n",
       "6380,0     1\n",
       "3102,0     1\n",
       "4556,0     1\n",
       "4230,0     1\n",
       "4859,0     1\n",
       "19431,0    1\n",
       "Name: count, dtype: int64"
      ]
     },
     "metadata": {},
     "output_type": "display_data"
    },
    {
     "data": {
      "application/vnd.microsoft.datawrangler.viewer.v0+json": {
       "columns": [
        {
         "name": "DateBirth",
         "rawType": "int64",
         "type": "integer"
        },
        {
         "name": "count",
         "rawType": "int64",
         "type": "integer"
        }
       ],
       "ref": "2b8c9ff1-534e-4a1a-a65d-a80d8653d57f",
       "rows": [
        [
         "1988",
         "84"
        ],
        [
         "1992",
         "83"
        ],
        [
         "1989",
         "83"
        ],
        [
         "1994",
         "78"
        ],
        [
         "1987",
         "75"
        ],
        [
         "1991",
         "65"
        ],
        [
         "1985",
         "64"
        ],
        [
         "1993",
         "64"
        ],
        [
         "1990",
         "61"
        ],
        [
         "1983",
         "60"
        ],
        [
         "1986",
         "55"
        ],
        [
         "1996",
         "54"
        ],
        [
         "1995",
         "53"
        ],
        [
         "1981",
         "50"
        ],
        [
         "1978",
         "48"
        ],
        [
         "1982",
         "46"
        ],
        [
         "1997",
         "46"
        ],
        [
         "1984",
         "45"
        ],
        [
         "1980",
         "40"
        ],
        [
         "1977",
         "38"
        ],
        [
         "1979",
         "34"
        ],
        [
         "1973",
         "31"
        ],
        [
         "1999",
         "27"
        ],
        [
         "1976",
         "27"
        ],
        [
         "1998",
         "27"
        ],
        [
         "1968",
         "25"
        ],
        [
         "1974",
         "25"
        ],
        [
         "1969",
         "20"
        ],
        [
         "1972",
         "20"
        ],
        [
         "1970",
         "20"
        ],
        [
         "1975",
         "20"
        ],
        [
         "1971",
         "19"
        ],
        [
         "1967",
         "17"
        ],
        [
         "2001",
         "16"
        ],
        [
         "2002",
         "16"
        ],
        [
         "1965",
         "15"
        ],
        [
         "2000",
         "15"
        ],
        [
         "2003",
         "11"
        ],
        [
         "1964",
         "10"
        ],
        [
         "2004",
         "9"
        ],
        [
         "2005",
         "8"
        ],
        [
         "1963",
         "5"
        ],
        [
         "1966",
         "5"
        ]
       ],
       "shape": {
        "columns": 1,
        "rows": 43
       }
      },
      "text/plain": [
       "DateBirth\n",
       "1988    84\n",
       "1992    83\n",
       "1989    83\n",
       "1994    78\n",
       "1987    75\n",
       "1991    65\n",
       "1985    64\n",
       "1993    64\n",
       "1990    61\n",
       "1983    60\n",
       "1986    55\n",
       "1996    54\n",
       "1995    53\n",
       "1981    50\n",
       "1978    48\n",
       "1982    46\n",
       "1997    46\n",
       "1984    45\n",
       "1980    40\n",
       "1977    38\n",
       "1979    34\n",
       "1973    31\n",
       "1999    27\n",
       "1976    27\n",
       "1998    27\n",
       "1968    25\n",
       "1974    25\n",
       "1969    20\n",
       "1972    20\n",
       "1970    20\n",
       "1975    20\n",
       "1971    19\n",
       "1967    17\n",
       "2001    16\n",
       "2002    16\n",
       "1965    15\n",
       "2000    15\n",
       "2003    11\n",
       "1964    10\n",
       "2004     9\n",
       "2005     8\n",
       "1963     5\n",
       "1966     5\n",
       "Name: count, dtype: int64"
      ]
     },
     "metadata": {},
     "output_type": "display_data"
    },
    {
     "data": {
      "application/vnd.microsoft.datawrangler.viewer.v0+json": {
       "columns": [
        {
         "name": "Salary",
         "rawType": "object",
         "type": "string"
        },
        {
         "name": "count",
         "rawType": "int64",
         "type": "integer"
        }
       ],
       "ref": "bf21a782-0c0e-456d-9e80-81eba00229be",
       "rows": [
        [
         "1000000000$",
         "1614"
        ]
       ],
       "shape": {
        "columns": 1,
        "rows": 1
       }
      },
      "text/plain": [
       "Salary\n",
       "1000000000$    1614\n",
       "Name: count, dtype: int64"
      ]
     },
     "metadata": {},
     "output_type": "display_data"
    },
    {
     "data": {
      "application/vnd.microsoft.datawrangler.viewer.v0+json": {
       "columns": [
        {
         "name": "RoleDepartament",
         "rawType": "object",
         "type": "string"
        },
        {
         "name": "count",
         "rawType": "int64",
         "type": "integer"
        }
       ],
       "ref": "9e6e7c85-33cf-4378-9c94-1b605a452304",
       "rows": [
        [
         " MaNAgeR  -  Sales ",
         "2"
        ],
        [
         " ManaGER  -  Research & Development ",
         "1"
        ],
        [
         " ReseaRch scIENTisT  -  Research & Development ",
         "1"
        ],
        [
         " ManufacTURInG DIRECtOR  -  Research & Development ",
         "1"
        ],
        [
         " hEalthCaRe reprEseNTaTiVe  -  Research & Development ",
         "1"
        ],
        [
         " SAlES exeCutive  -  Sales ",
         "1"
        ],
        [
         " labORAtoRy tEcHNICIAN  -  Research & Development ",
         "1"
        ],
        [
         " rEsEaRCh diReCtOR  -  Research & Development ",
         "1"
        ],
        [
         " lAboRaToRY teChNICIan  -  Research & Development ",
         "1"
        ],
        [
         " researCh SCientIsT  -  Research & Development ",
         "1"
        ],
        [
         " ResEArch sCIEnTiST  -  Research & Development ",
         "1"
        ],
        [
         " ReSEarch scIeNTIsT  -  Research & Development ",
         "1"
        ],
        [
         " laBoRatoRy TEChNICiAN  -  Research & Development ",
         "1"
        ],
        [
         " sALES ReprEsentatiVE  -  Sales ",
         "1"
        ],
        [
         " laBOraTOrY TecHNIcIan  -  Research & Development ",
         "1"
        ],
        [
         " mANufActuRIng DirECTOR  -  Research & Development ",
         "1"
        ],
        [
         " hEaLThcARE rEpresEntATiVE  -  Research & Development ",
         "1"
        ],
        [
         " LaBoRaTory techNICIAN  -  Research & Development ",
         "1"
        ],
        [
         " sAles exEcUtIve  -  Sales ",
         "1"
        ],
        [
         " reseARCh SCieNTisT  -  Research & Development ",
         "1"
        ],
        [
         " reSEarcH scIENtISt  -  Research & Development ",
         "1"
        ],
        [
         " reseArCH scIentISt  -  Research & Development ",
         "1"
        ],
        [
         " sALes ExEcUTIVe  -  Sales ",
         "1"
        ],
        [
         " labOrATOry TEchnIcIaN  -  Research & Development ",
         "1"
        ],
        [
         " RESEArch SCIEnTISt  -  Research & Development ",
         "1"
        ],
        [
         " SAles execUTIve  -  Sales ",
         "1"
        ],
        [
         " SAlES RepreSENtATiVe  -  Sales ",
         "1"
        ],
        [
         " rESeArcH sCientIST  -  Research & Development ",
         "1"
        ],
        [
         " Human REsouRCeS  -  Human Resources ",
         "1"
        ],
        [
         " sALeS eXECutivE  -  Sales ",
         "1"
        ],
        [
         " reseaRch DIrecTOr  -  Research & Development ",
         "1"
        ],
        [
         " sales rEpRESEnTatIve  -  Sales ",
         "1"
        ],
        [
         " reSEaRCH scIenTisT  -  Research & Development ",
         "1"
        ],
        [
         " Sales EXEcUTiVe  -  Sales ",
         "1"
        ],
        [
         " huMAn Resources  -  Human Resources ",
         "1"
        ],
        [
         " HuMan resoUrCes  -  Human Resources ",
         "1"
        ],
        [
         " MANuFaCturiNG dIRECTOR  -  Research & Development ",
         "1"
        ],
        [
         " ReSEArcH sCIeNtist  -  Research & Development ",
         "1"
        ],
        [
         " LABORAToRy tEchNICiAn  -  Research & Development ",
         "1"
        ],
        [
         " RESeARch ScIeNtisT  -  Research & Development ",
         "1"
        ],
        [
         " REseARCh scieNTIsT  -  Research & Development ",
         "1"
        ],
        [
         " rESeArCH sCIeNtISt  -  Research & Development ",
         "1"
        ],
        [
         " laBORATORY tECHNiciAN  -  Research & Development ",
         "1"
        ],
        [
         " ReSEarcH SCiEnTISt  -  Research & Development ",
         "1"
        ],
        [
         " ReseArch sCienTiST  -  Research & Development ",
         "1"
        ],
        [
         " ReseArCH scIenTIst  -  Research & Development ",
         "1"
        ],
        [
         " SaLes exEcUtIvE  -  Sales ",
         "1"
        ],
        [
         " mAnUfaCTuRing DiRecTor  -  Research & Development ",
         "1"
        ],
        [
         " sAles ExecUtive  -  Sales ",
         "1"
        ],
        [
         " REseARCH ScIeNTIST  -  Research & Development ",
         "1"
        ]
       ],
       "shape": {
        "columns": 1,
        "rows": 301
       }
      },
      "text/plain": [
       "RoleDepartament\n",
       "MaNAgeR  -  Sales                                        2\n",
       "ManaGER  -  Research & Development                       1\n",
       "ReseaRch scIENTisT  -  Research & Development            1\n",
       "ManufacTURInG DIRECtOR  -  Research & Development        1\n",
       "hEalthCaRe reprEseNTaTiVe  -  Research & Development     1\n",
       "SAlES exeCutive  -  Sales                                1\n",
       "labORAtoRy tEcHNICIAN  -  Research & Development         1\n",
       "rEsEaRCh diReCtOR  -  Research & Development             1\n",
       "lAboRaToRY teChNICIan  -  Research & Development         1\n",
       "researCh SCientIsT  -  Research & Development            1\n",
       "ResEArch sCIEnTiST  -  Research & Development            1\n",
       "ReSEarch scIeNTIsT  -  Research & Development            1\n",
       "laBoRatoRy TEChNICiAN  -  Research & Development         1\n",
       "sALES ReprEsentatiVE  -  Sales                           1\n",
       "laBOraTOrY TecHNIcIan  -  Research & Development         1\n",
       "mANufActuRIng DirECTOR  -  Research & Development        1\n",
       "hEaLThcARE rEpresEntATiVE  -  Research & Development     1\n",
       "LaBoRaTory techNICIAN  -  Research & Development         1\n",
       "sAles exEcUtIve  -  Sales                                1\n",
       "reseARCh SCieNTisT  -  Research & Development            1\n",
       "reSEarcH scIENtISt  -  Research & Development            1\n",
       "reseArCH scIentISt  -  Research & Development            1\n",
       "sALes ExEcUTIVe  -  Sales                                1\n",
       "labOrATOry TEchnIcIaN  -  Research & Development         1\n",
       "RESEArch SCIEnTISt  -  Research & Development            1\n",
       "SAles execUTIve  -  Sales                                1\n",
       "SAlES RepreSENtATiVe  -  Sales                           1\n",
       "rESeArcH sCientIST  -  Research & Development            1\n",
       "Human REsouRCeS  -  Human Resources                      1\n",
       "sALeS eXECutivE  -  Sales                                1\n",
       "reseaRch DIrecTOr  -  Research & Development             1\n",
       "sales rEpRESEnTatIve  -  Sales                           1\n",
       "reSEaRCH scIenTisT  -  Research & Development            1\n",
       "Sales EXEcUTiVe  -  Sales                                1\n",
       "huMAn Resources  -  Human Resources                      1\n",
       "HuMan resoUrCes  -  Human Resources                      1\n",
       "MANuFaCturiNG dIRECTOR  -  Research & Development        1\n",
       "ReSEArcH sCIeNtist  -  Research & Development            1\n",
       "LABORAToRy tEchNICiAn  -  Research & Development         1\n",
       "RESeARch ScIeNtisT  -  Research & Development            1\n",
       "REseARCh scieNTIsT  -  Research & Development            1\n",
       "rESeArCH sCIeNtISt  -  Research & Development            1\n",
       "laBORATORY tECHNiciAN  -  Research & Development         1\n",
       "ReSEarcH SCiEnTISt  -  Research & Development            1\n",
       "ReseArch sCienTiST  -  Research & Development            1\n",
       "ReseArCH scIenTIst  -  Research & Development            1\n",
       "SaLes exEcUtIvE  -  Sales                                1\n",
       "mAnUfaCTuRing DiRecTor  -  Research & Development        1\n",
       "sAles ExecUtive  -  Sales                                1\n",
       "REseARCH ScIeNTIST  -  Research & Development            1\n",
       "researcH SciEntIST  -  Research & Development            1\n",
       "lABoRAtoRY TecHnIcian  -  Research & Development         1\n",
       "rEseArCh SCieNtiST  -  Research & Development            1\n",
       "sALEs exECuTiVe  -  Sales                                1\n",
       "REseARCh SCIenTIst  -  Research & Development            1\n",
       "saLes ExECutIVE  -  Sales                                1\n",
       "humAN resoURCEs  -  Human Resources                      1\n",
       "SaLeS REPRESENtATIvE  -  Sales                           1\n",
       "sALeS RePresenTAtivE  -  Sales                           1\n",
       "ResEArch SciEntiST  -  Research & Development            1\n",
       "RESEarch ScieNtIst  -  Research & Development            1\n",
       "ReSeaRch SCIentiST  -  Research & Development            1\n",
       "laBORatoRy TEcHnician  -  Research & Development         1\n",
       "rESEaRch sCientISt  -  Research & Development            1\n",
       "SaLes rePrESENTaTivE  -  Sales                           1\n",
       "SALeS RepREsEnTatiVe  -  Sales                           1\n",
       "sALeS eXecuTIvE  -  Sales                                1\n",
       "HeAlthcaRE rEPrEseNTaTIVE  -  Research & Development     1\n",
       "lAboRatOrY TechNiCiAn  -  Research & Development         1\n",
       "humaN reSOUrcEs  -  Human Resources                      1\n",
       "sALes rEprESentAtIvE  -  Sales                           1\n",
       "ReseArCh SciENTIsT  -  Research & Development            1\n",
       "sALeS EXecuTIVe  -  Sales                                1\n",
       "hUmAn REsOurCES  -  Human Resources                      1\n",
       "ReSEaRCh SCIEnTist  -  Research & Development            1\n",
       "REsEARch sCIenTIsT  -  Research & Development            1\n",
       "rEseARCH ScIeNtIST  -  Research & Development            1\n",
       "rEsEArcH scIenTIst  -  Research & Development            1\n",
       "mAnAger  -  Research & Development                       1\n",
       "resEaRcH sCIeNTisT  -  Research & Development            1\n",
       "laboRAToRY tEChniCIAN  -  Research & Development         1\n",
       "sales repResENTaTiVE  -  Sales                           1\n",
       "mANagER  -  Research & Development                       1\n",
       "hEalthCarE REPResEnTaTive  -  Research & Development     1\n",
       "LABOrATORy tEChNiCIaN  -  Research & Development         1\n",
       "sAles execUtIve  -  Sales                                1\n",
       "sales REPReSeNtAtIVe  -  Sales                           1\n",
       "ReSeArch sCIEnTiSt  -  Research & Development            1\n",
       "SaLes REPREseNtATive  -  Sales                           1\n",
       "SalES eXecUTiVE  -  Sales                                1\n",
       "SALEs REpRESentatIve  -  Sales                           1\n",
       "rESeaRch SCIeNTIST  -  Research & Development            1\n",
       "REsEArCH dIrECTOr  -  Research & Development             1\n",
       "HEAlThcARe rEPREseNtATIVe  -  Research & Development     1\n",
       "maNuFAcTurING diREctOr  -  Research & Development        1\n",
       "SALes eXEcUtiVe  -  Sales                                1\n",
       "ManAGEr  -  Research & Development                       1\n",
       "reSearCh SCiEnTist  -  Research & Development            1\n",
       "LAbORAToRy tEcHNICian  -  Research & Development         1\n",
       "SaLEs ExECUtiVE  -  Sales                                1\n",
       "ReseaRCh dIRecTor  -  Research & Development             1\n",
       "reSEArCh sCieNtiST  -  Research & Development            1\n",
       "ReSEArch scieNTiST  -  Research & Development            1\n",
       "SaLeS exEcUTiVE  -  Sales                                1\n",
       "SAleS ExEcuTiVE  -  Sales                                1\n",
       "salEs eXEcuTIvE  -  Sales                                1\n",
       "sALeS exEcUtiVe  -  Sales                                1\n",
       "lABOraTOrY tecHniciaN  -  Research & Development         1\n",
       "LAbORaTory tEcHnIciAN  -  Research & Development         1\n",
       "ReseaRcH sCientiSt  -  Research & Development            1\n",
       "SALES exeCUtIve  -  Sales                                1\n",
       "hUman ResourCeS  -  Human Resources                      1\n",
       "rESEARch SciENtiSt  -  Research & Development            1\n",
       "mANager  -  Research & Development                       1\n",
       "SAlES rePrESentaTIVe  -  Sales                           1\n",
       "lAborAtORY TeCHNIciAN  -  Research & Development         1\n",
       "LabOraToRy technICiAN  -  Research & Development         1\n",
       "rESEArcH SCiEntIst  -  Research & Development            1\n",
       "mAnageR  -  Sales                                        1\n",
       "sALEs RePREsentaTive  -  Sales                           1\n",
       "laBorATOrY TeChNIcIAn  -  Research & Development         1\n",
       "LaBORatORy tEchNiCian  -  Research & Development         1\n",
       "ReSeARCh DireCtOr  -  Research & Development             1\n",
       "LABOrATOrY TEchnIcIAn  -  Research & Development         1\n",
       "rEseaRCH sCIeNtiSt  -  Research & Development            1\n",
       "LaborAtorY Technician  -  Research & Development         1\n",
       "LaBOrAToRy teChNiciAn  -  Research & Development         1\n",
       "reseaRCh SCIentIst  -  Research & Development            1\n",
       "HumAN REsourceS  -  Human Resources                      1\n",
       "LABorATory TecHnIcIaN  -  Research & Development         1\n",
       "saLES exEcutivE  -  Sales                                1\n",
       "LaBoratory TECHnICIAn  -  Research & Development         1\n",
       "heAlThcaRe REprESeNTATive  -  Research & Development     1\n",
       "LABoratOry TeCHnIcIan  -  Research & Development         1\n",
       "hEAlthCarE rEpresenTATiVe  -  Research & Development     1\n",
       "resEaRcH scIENTiSt  -  Research & Development            1\n",
       "sALes exECutIVe  -  Sales                                1\n",
       "laBOrATORY TechNiCiAn  -  Research & Development         1\n",
       "saLEs RePREsentAtiVE  -  Sales                           1\n",
       "LaBorAtOrY teCHNICIAn  -  Research & Development         1\n",
       "LabORatORy tEChnIcIAn  -  Research & Development         1\n",
       "SALes eXECuTIvE  -  Sales                                1\n",
       "MaNufacTuRINg DirEcTor  -  Research & Development        1\n",
       "HealTHcaRE rEPreSEntATive  -  Research & Development     1\n",
       "SaLeS EXEcUTiVe  -  Sales                                1\n",
       "SalEs eXecuTive  -  Sales                                1\n",
       "rEsEARcH ScieNTisT  -  Research & Development            1\n",
       "LABorAtORy TEchnIciAn  -  Research & Development         1\n",
       "saLes REPrEsentAtiVE  -  Sales                           1\n",
       "MaNUfActuRInG diREctOr  -  Research & Development        1\n",
       "RESeArch dIREcToR  -  Research & Development             1\n",
       "ReSeaRch SCIEnTiSt  -  Research & Development            1\n",
       "MANAger  -  Research & Development                       1\n",
       "sAlES EXEcUtIVe  -  Sales                                1\n",
       "SALes exEcuTIVe  -  Sales                                1\n",
       "RESEarCh SCIEnTiST  -  Research & Development            1\n",
       "lABorATOrY TeChnICIan  -  Research & Development         1\n",
       "mANuFacTurinG DirECtoR  -  Research & Development        1\n",
       "sales rEprESEntAtIvE  -  Sales                           1\n",
       "LABOraTory TecHnIciaN  -  Research & Development         1\n",
       "HeaLThCArE REpRESENTAtIVe  -  Research & Development     1\n",
       "MANUfACTuRinG diRecTOR  -  Research & Development        1\n",
       "rESEARCh dIrEcTOr  -  Research & Development             1\n",
       "ReSEaRcH sciENTIST  -  Research & Development            1\n",
       "MaNUfacTurINg DiReCTor  -  Research & Development        1\n",
       "labORATORY TechnIcIaN  -  Research & Development         1\n",
       "MANAgER  -  Research & Development                       1\n",
       "ResEARcH DiReCToR  -  Research & Development             1\n",
       "ManUFACtURiNg DiRECTOr  -  Research & Development        1\n",
       "REseARCH DirectOr  -  Research & Development             1\n",
       "lABoraToRY teCHnIcIaN  -  Research & Development         1\n",
       "laboRAtORy TecHnICiAN  -  Research & Development         1\n",
       "LaBorATORy tEChnICiaN  -  Research & Development         1\n",
       "heALtHCARE rePResENtAtivE  -  Research & Development     1\n",
       "sALEs ExeCuTive  -  Sales                                1\n",
       "LaBoraTORY teCHNiCIaN  -  Research & Development         1\n",
       "ReseaRch scIenTisT  -  Research & Development            1\n",
       "salEs eXECuTivE  -  Sales                                1\n",
       "SAlEs exECUtIVe  -  Sales                                1\n",
       "LaboRATory tEchNICIAn  -  Research & Development         1\n",
       "saLES ExECUtiVe  -  Sales                                1\n",
       "rESeArCh DIrEctor  -  Research & Development             1\n",
       "reSEArch SCIEntIsT  -  Research & Development            1\n",
       "rEsEArCH sCIeNTIST  -  Research & Development            1\n",
       "SaleS executIVE  -  Sales                                1\n",
       "SALEs eXecuTiVE  -  Sales                                1\n",
       "sAles exECUtiVe  -  Sales                                1\n",
       "sales ExecutIvE  -  Sales                                1\n",
       "mANUfaCTuRiNG DiRECtOr  -  Research & Development        1\n",
       "Sales eXECuTIvE  -  Sales                                1\n",
       "MANUFACturING DIRecToR  -  Research & Development        1\n",
       "SAlEs ExeCUtive  -  Sales                                1\n",
       "ReSearch DiRecTOR  -  Research & Development             1\n",
       "reSeARCH SCIEnTiST  -  Research & Development            1\n",
       "SaLeS eXECUTivE  -  Sales                                1\n",
       "HEAltHCaRe REPreseNTatIve  -  Research & Development     1\n",
       "mANaGer  -  Research & Development                       1\n",
       "healTHCAre rePREseNtATiVE  -  Research & Development     1\n",
       "rESeArCH sCientIST  -  Research & Development            1\n",
       "HEaLthcaRe rEprEsEnTAtiVe  -  Research & Development     1\n",
       "SaleS eXEcUtIVE  -  Sales                                1\n",
       "ManufactUrINg DiReCTOr  -  Research & Development        1\n",
       "lABORAtOry tECHnIcIan  -  Research & Development         1\n",
       "heALthCArE RePResEntaTIVe  -  Research & Development     1\n",
       "Sales ExECuTIVe  -  Sales                                1\n",
       "saLEs exEcutIVe  -  Sales                                1\n",
       "heaLtHcArE repResENtATiVe  -  Research & Development     1\n",
       "resEaRCh SciEnTist  -  Research & Development            1\n",
       "hUmaN REsoUrCes  -  Human Resources                      1\n",
       "manAgER  -  Research & Development                       1\n",
       "LaBoRaTorY TeChNicIAn  -  Research & Development         1\n",
       "labOraTORy techNicIan  -  Research & Development         1\n",
       "maNUFAcTURING direCTOr  -  Research & Development        1\n",
       "mAnUFaCtUrinG diReCtor  -  Research & Development        1\n",
       "RESEaRch SCIEntISt  -  Research & Development            1\n",
       "saLES ExECuTIVe  -  Sales                                1\n",
       "ManUfaCTUriNg dIReCtor  -  Research & Development        1\n",
       "ReSeARch scIENTISt  -  Research & Development            1\n",
       "SaLES eXeCUtIVE  -  Sales                                1\n",
       "SaleS EXeCuTivE  -  Sales                                1\n",
       "HUmAN rESOuRceS  -  Human Resources                      1\n",
       "hUMAn reSoUrCES  -  Human Resources                      1\n",
       "RESEArCH sCIenTIst  -  Research & Development            1\n",
       "ReSeARCh DiRECtor  -  Research & Development             1\n",
       "reSEarCH scIentISt  -  Research & Development            1\n",
       "ManAgEr  -  Research & Development                       1\n",
       "ReSeARCH diRECtoR  -  Research & Development             1\n",
       "laBorAtORy TECHnicIaN  -  Research & Development         1\n",
       "laboRaTOrY TEchniCIaN  -  Research & Development         1\n",
       "heaLtHcARe RePReSENtaTIve  -  Research & Development     1\n",
       "REsearch scIENtist  -  Research & Development            1\n",
       "MANufacTURIng diREcTOr  -  Research & Development        1\n",
       "laBoraTorY tEChnICiaN  -  Research & Development         1\n",
       "sAles eXEcUtIve  -  Sales                                1\n",
       "HEaLTHcaRE rePReseNtaTIvE  -  Research & Development     1\n",
       "SAlEs ExECUTIVe  -  Sales                                1\n",
       "salES exEcUtiVE  -  Sales                                1\n",
       "SAlES ExecuTIVe  -  Sales                                1\n",
       "LaBOrATORy teCHnIciaN  -  Research & Development         1\n",
       "manAGER  -  Sales                                        1\n",
       "SAleS eXecuTIVe  -  Sales                                1\n",
       "SaLes exECutIVe  -  Sales                                1\n",
       "ResEARCh DIRECtoR  -  Research & Development             1\n",
       "maNuFAcTUring DIrecToR  -  Research & Development        1\n",
       "lAbOrAtorY techNiCiaN  -  Research & Development         1\n",
       "SAles ExECutIvE  -  Sales                                1\n",
       "LAborAtOry TEchniCIAn  -  Research & Development         1\n",
       "HeALtHCarE represEntAtIVe  -  Research & Development     1\n",
       "saLEs exeCUtiVe  -  Sales                                1\n",
       "sales ExeCUTiVE  -  Sales                                1\n",
       "hUMAn rEsOuRCES  -  Human Resources                      1\n",
       "maNAGer  -  Sales                                        1\n",
       "LaBOratory TeChnICiAn  -  Research & Development         1\n",
       "lABORatORY TeChNiCiAN  -  Research & Development         1\n",
       "HEaltHcare rEPrEsEnTatIVe  -  Research & Development     1\n",
       "rESEARch DiRector  -  Research & Development             1\n",
       "SaLEs EXECutIVe  -  Sales                                1\n",
       "ReSeArch scIenTIsT  -  Research & Development            1\n",
       "LaBOrAtory TECHNIciAN  -  Research & Development         1\n",
       "SAlES ExecutIve  -  Sales                                1\n",
       "LaBoRaToRY TEcHnIcian  -  Research & Development         1\n",
       "HEalTHCare REPrEsEntATiVE  -  Research & Development     1\n",
       "HEalThCaRe rEpReSENtatIVe  -  Research & Development     1\n",
       "reSeArcH scieNtist  -  Research & Development            1\n",
       "LabOrATory TEChNICiaN  -  Research & Development         1\n",
       "SalEs exECUTIvE  -  Sales                                1\n",
       "labORaTORy TecHniciAN  -  Research & Development         1\n",
       "mAnaGeR  -  Research & Development                       1\n",
       "saLes EXEcuTiVe  -  Sales                                1\n",
       "saLes eXECUTIVe  -  Sales                                1\n",
       "lAboRaTory tECHNIciAN  -  Research & Development         1\n",
       "SaLeS exeCuTIVe  -  Sales                                1\n",
       "MaNagEr  -  Research & Development                       1\n",
       "mANuFActuring DireCtOR  -  Research & Development        1\n",
       "hEalTHcARe RePrEseNTATive  -  Research & Development     1\n",
       "LABORaTorY TEChNIcIAN  -  Research & Development         1\n",
       "maNuFAcTURInG DIReCtoR  -  Research & Development        1\n",
       "saLeS exECUtive  -  Sales                                1\n",
       "mANAGeR  -  Human Resources                              1\n",
       "rESeaRCH DIReCToR  -  Research & Development             1\n",
       "SalEs eXECuTive  -  Sales                                1\n",
       "SaLeS eXECutiVE  -  Sales                                1\n",
       "HEALThCaRe rePResEnTaTivE  -  Research & Development     1\n",
       "mAnAgEr  -  Research & Development                       1\n",
       "MaNageR  -  Research & Development                       1\n",
       "saleS eXEcuTIvE  -  Sales                                1\n",
       "ResEArch ScieNTiST  -  Research & Development            1\n",
       "HealthcARE RePreSENtAtiVe  -  Research & Development     1\n",
       "rEsEARch sCientIST  -  Research & Development            1\n",
       "HEALThcaRe RePresENtaTiVE  -  Research & Development     1\n",
       "reSearCH SCieNtIst  -  Research & Development            1\n",
       "SALes ExeCUtive  -  Sales                                1\n",
       "Sales exECutIVE  -  Sales                                1\n",
       "HeAlThCarE rEpreSentatiVe  -  Research & Development     1\n",
       "saLes eXeCUTivE  -  Sales                                1\n",
       "labORaTORY teChNIcIaN  -  Research & Development         1\n",
       "saLES eXEcUTiVE  -  Sales                                1\n",
       "mANUfacTURiNG dIRectOR  -  Research & Development        1\n",
       "huMAn ResOurces  -  Human Resources                      1\n",
       "HUMAN ResoURCeS  -  Human Resources                      1\n",
       "sAleS EXECUtIvE  -  Sales                                1\n",
       "Name: count, dtype: int64"
      ]
     },
     "metadata": {},
     "output_type": "display_data"
    },
    {
     "data": {
      "application/vnd.microsoft.datawrangler.viewer.v0+json": {
       "columns": [
        {
         "name": "NUMBERCHILDREN",
         "rawType": "float64",
         "type": "float"
        },
        {
         "name": "count",
         "rawType": "int64",
         "type": "integer"
        }
       ],
       "ref": "5254e643-1eaa-4003-88b8-f728628b6c7f",
       "rows": [],
       "shape": {
        "columns": 1,
        "rows": 0
       }
      },
      "text/plain": [
       "Series([], Name: count, dtype: int64)"
      ]
     },
     "metadata": {},
     "output_type": "display_data"
    },
    {
     "data": {
      "application/vnd.microsoft.datawrangler.viewer.v0+json": {
       "columns": [
        {
         "name": "RemoteWork",
         "rawType": "object",
         "type": "string"
        },
        {
         "name": "count",
         "rawType": "int64",
         "type": "integer"
        }
       ],
       "ref": "6cda9294-6586-40f2-995d-96b44e748406",
       "rows": [
        [
         "1",
         "360"
        ],
        [
         "True",
         "345"
        ],
        [
         "0",
         "309"
        ],
        [
         "False",
         "305"
        ],
        [
         "Yes",
         "295"
        ]
       ],
       "shape": {
        "columns": 1,
        "rows": 5
       }
      },
      "text/plain": [
       "RemoteWork\n",
       "1        360\n",
       "True     345\n",
       "0        309\n",
       "False    305\n",
       "Yes      295\n",
       "Name: count, dtype: int64"
      ]
     },
     "metadata": {},
     "output_type": "display_data"
    },
    {
     "name": "stdout",
     "output_type": "stream",
     "text": [
      "🌑Nombre de las columnas:\n"
     ]
    },
    {
     "data": {
      "text/plain": [
       "Index(['Age', 'Attrition', 'BusinessTravel', 'DailyRate', 'Department',\n",
       "       'DistanceFromHome', 'Education', 'EducationField', 'employeecount',\n",
       "       'employeenumber', 'EnvironmentSatisfaction', 'Gender', 'HourlyRate',\n",
       "       'JobInvolvement', 'JobLevel', 'JobRole', 'JobSatisfaction',\n",
       "       'MaritalStatus', 'MonthlyIncome', 'MonthlyRate', 'NUMCOMPANIESWORKED',\n",
       "       'Over18', 'OverTime', 'PercentSalaryHike', 'PerformanceRating',\n",
       "       'RelationshipSatisfaction', 'StandardHours', 'StockOptionLevel',\n",
       "       'TOTALWORKINGYEARS', 'TrainingTimesLastYear', 'WORKLIFEBALANCE',\n",
       "       'YearsAtCompany', 'YearsInCurrentRole', 'YearsSinceLastPromotion',\n",
       "       'YEARSWITHCURRMANAGER', 'SameAsMonthlyIncome', 'DateBirth', 'Salary',\n",
       "       'RoleDepartament', 'NUMBERCHILDREN', 'RemoteWork'],\n",
       "      dtype='object')"
      ]
     },
     "metadata": {},
     "output_type": "display_data"
    },
    {
     "name": "stdout",
     "output_type": "stream",
     "text": [
      "📊 Tipos de datos por columna:\n",
      "Age                          object\n",
      "Attrition                    object\n",
      "BusinessTravel               object\n",
      "DailyRate                    object\n",
      "Department                   object\n",
      "DistanceFromHome              int64\n",
      "Education                     int64\n",
      "EducationField               object\n",
      "employeecount                 int64\n",
      "employeenumber               object\n",
      "EnvironmentSatisfaction       int64\n",
      "Gender                        int64\n",
      "HourlyRate                   object\n",
      "JobInvolvement                int64\n",
      "JobLevel                      int64\n",
      "JobRole                      object\n",
      "JobSatisfaction               int64\n",
      "MaritalStatus                object\n",
      "MonthlyIncome                object\n",
      "MonthlyRate                   int64\n",
      "NUMCOMPANIESWORKED            int64\n",
      "Over18                       object\n",
      "OverTime                     object\n",
      "PercentSalaryHike             int64\n",
      "PerformanceRating            object\n",
      "RelationshipSatisfaction      int64\n",
      "StandardHours                object\n",
      "StockOptionLevel              int64\n",
      "TOTALWORKINGYEARS            object\n",
      "TrainingTimesLastYear         int64\n",
      "WORKLIFEBALANCE              object\n",
      "YearsAtCompany                int64\n",
      "YearsInCurrentRole           object\n",
      "YearsSinceLastPromotion       int64\n",
      "YEARSWITHCURRMANAGER          int64\n",
      "SameAsMonthlyIncome          object\n",
      "DateBirth                     int64\n",
      "Salary                       object\n",
      "RoleDepartament              object\n",
      "NUMBERCHILDREN              float64\n",
      "RemoteWork                   object\n",
      "dtype: object \n",
      "\n",
      "📉 Descripción de columnas numéricas:\n"
     ]
    },
    {
     "data": {
      "application/vnd.microsoft.datawrangler.viewer.v0+json": {
       "columns": [
        {
         "name": "index",
         "rawType": "object",
         "type": "string"
        },
        {
         "name": "DistanceFromHome",
         "rawType": "float64",
         "type": "float"
        },
        {
         "name": "Education",
         "rawType": "float64",
         "type": "float"
        },
        {
         "name": "employeecount",
         "rawType": "float64",
         "type": "float"
        },
        {
         "name": "EnvironmentSatisfaction",
         "rawType": "float64",
         "type": "float"
        },
        {
         "name": "Gender",
         "rawType": "float64",
         "type": "float"
        },
        {
         "name": "JobInvolvement",
         "rawType": "float64",
         "type": "float"
        },
        {
         "name": "JobLevel",
         "rawType": "float64",
         "type": "float"
        },
        {
         "name": "JobSatisfaction",
         "rawType": "float64",
         "type": "float"
        },
        {
         "name": "MonthlyRate",
         "rawType": "float64",
         "type": "float"
        },
        {
         "name": "NUMCOMPANIESWORKED",
         "rawType": "float64",
         "type": "float"
        },
        {
         "name": "PercentSalaryHike",
         "rawType": "float64",
         "type": "float"
        },
        {
         "name": "RelationshipSatisfaction",
         "rawType": "float64",
         "type": "float"
        },
        {
         "name": "StockOptionLevel",
         "rawType": "float64",
         "type": "float"
        },
        {
         "name": "TrainingTimesLastYear",
         "rawType": "float64",
         "type": "float"
        },
        {
         "name": "YearsAtCompany",
         "rawType": "float64",
         "type": "float"
        },
        {
         "name": "YearsSinceLastPromotion",
         "rawType": "float64",
         "type": "float"
        },
        {
         "name": "YEARSWITHCURRMANAGER",
         "rawType": "float64",
         "type": "float"
        },
        {
         "name": "DateBirth",
         "rawType": "float64",
         "type": "float"
        },
        {
         "name": "NUMBERCHILDREN",
         "rawType": "float64",
         "type": "float"
        }
       ],
       "ref": "97efcbb1-e2dc-42fa-8b09-c0d3bc8e1384",
       "rows": [
        [
         "count",
         "1614.0",
         "1614.0",
         "1614.0",
         "1614.0",
         "1614.0",
         "1614.0",
         "1614.0",
         "1614.0",
         "1614.0",
         "1614.0",
         "1614.0",
         "1614.0",
         "1614.0",
         "1614.0",
         "1614.0",
         "1614.0",
         "1614.0",
         "1614.0",
         "0.0"
        ],
        [
         "mean",
         "4.5272614622057",
         "2.9250309789343247",
         "1.0",
         "4.294919454770756",
         "0.39838909541511774",
         "2.7397769516728623",
         "2.06815365551425",
         "2.738537794299876",
         "14284.495662949195",
         "2.6734820322180917",
         "15.16542750929368",
         "2.704460966542751",
         "0.7912019826517968",
         "2.8097893432465924",
         "7.132589838909541",
         "2.245972738537794",
         "4.2205700123915735",
         "1986.0762081784387",
         null
        ],
        [
         "std",
         "14.591913201203564",
         "1.022356645820324",
         "0.0",
         "6.99355909236357",
         "0.4897180962482257",
         "0.7115669599997494",
         "1.1013442437064709",
         "1.1061634656070916",
         "7110.414585005352",
         "2.506151765437722",
         "3.648610199614136",
         "1.0790307816738507",
         "0.8423960852149069",
         "1.2977650989059908",
         "6.124236899689451",
         "3.2356650164148095",
         "3.5626947973706384",
         "9.101331677837825",
         null
        ],
        [
         "min",
         "-49.0",
         "1.0",
         "1.0",
         "1.0",
         "0.0",
         "1.0",
         "1.0",
         "1.0",
         "2094.0",
         "0.0",
         "11.0",
         "1.0",
         "0.0",
         "0.0",
         "0.0",
         "0.0",
         "0.0",
         "1963.0",
         null
        ],
        [
         "25%",
         "2.0",
         "2.0",
         "1.0",
         "2.0",
         "0.0",
         "2.0",
         "1.0",
         "2.0",
         "8001.0",
         "1.0",
         "12.0",
         "2.0",
         "0.0",
         "2.0",
         "3.0",
         "0.0",
         "2.0",
         "1980.0",
         null
        ],
        [
         "50%",
         "5.0",
         "3.0",
         "1.0",
         "3.0",
         "0.0",
         "3.0",
         "2.0",
         "3.0",
         "14248.5",
         "2.0",
         "14.0",
         "3.0",
         "1.0",
         "3.0",
         "5.0",
         "1.0",
         "3.0",
         "1987.0",
         null
        ],
        [
         "75%",
         "11.0",
         "4.0",
         "1.0",
         "4.0",
         "1.0",
         "3.0",
         "3.0",
         "4.0",
         "20364.0",
         "4.0",
         "18.0",
         "4.0",
         "1.0",
         "3.0",
         "9.0",
         "3.0",
         "7.0",
         "1993.0",
         null
        ],
        [
         "max",
         "29.0",
         "5.0",
         "1.0",
         "49.0",
         "1.0",
         "4.0",
         "5.0",
         "4.0",
         "26999.0",
         "9.0",
         "25.0",
         "4.0",
         "3.0",
         "6.0",
         "40.0",
         "15.0",
         "17.0",
         "2005.0",
         null
        ]
       ],
       "shape": {
        "columns": 19,
        "rows": 8
       }
      },
      "text/html": [
       "<div>\n",
       "<style scoped>\n",
       "    .dataframe tbody tr th:only-of-type {\n",
       "        vertical-align: middle;\n",
       "    }\n",
       "\n",
       "    .dataframe tbody tr th {\n",
       "        vertical-align: top;\n",
       "    }\n",
       "\n",
       "    .dataframe thead th {\n",
       "        text-align: right;\n",
       "    }\n",
       "</style>\n",
       "<table border=\"1\" class=\"dataframe\">\n",
       "  <thead>\n",
       "    <tr style=\"text-align: right;\">\n",
       "      <th></th>\n",
       "      <th>DistanceFromHome</th>\n",
       "      <th>Education</th>\n",
       "      <th>employeecount</th>\n",
       "      <th>EnvironmentSatisfaction</th>\n",
       "      <th>Gender</th>\n",
       "      <th>JobInvolvement</th>\n",
       "      <th>JobLevel</th>\n",
       "      <th>JobSatisfaction</th>\n",
       "      <th>MonthlyRate</th>\n",
       "      <th>NUMCOMPANIESWORKED</th>\n",
       "      <th>PercentSalaryHike</th>\n",
       "      <th>RelationshipSatisfaction</th>\n",
       "      <th>StockOptionLevel</th>\n",
       "      <th>TrainingTimesLastYear</th>\n",
       "      <th>YearsAtCompany</th>\n",
       "      <th>YearsSinceLastPromotion</th>\n",
       "      <th>YEARSWITHCURRMANAGER</th>\n",
       "      <th>DateBirth</th>\n",
       "      <th>NUMBERCHILDREN</th>\n",
       "    </tr>\n",
       "  </thead>\n",
       "  <tbody>\n",
       "    <tr>\n",
       "      <th>count</th>\n",
       "      <td>1614.000000</td>\n",
       "      <td>1614.000000</td>\n",
       "      <td>1614.0</td>\n",
       "      <td>1614.000000</td>\n",
       "      <td>1614.000000</td>\n",
       "      <td>1614.000000</td>\n",
       "      <td>1614.000000</td>\n",
       "      <td>1614.000000</td>\n",
       "      <td>1614.000000</td>\n",
       "      <td>1614.000000</td>\n",
       "      <td>1614.000000</td>\n",
       "      <td>1614.000000</td>\n",
       "      <td>1614.000000</td>\n",
       "      <td>1614.000000</td>\n",
       "      <td>1614.000000</td>\n",
       "      <td>1614.000000</td>\n",
       "      <td>1614.000000</td>\n",
       "      <td>1614.000000</td>\n",
       "      <td>0.0</td>\n",
       "    </tr>\n",
       "    <tr>\n",
       "      <th>mean</th>\n",
       "      <td>4.527261</td>\n",
       "      <td>2.925031</td>\n",
       "      <td>1.0</td>\n",
       "      <td>4.294919</td>\n",
       "      <td>0.398389</td>\n",
       "      <td>2.739777</td>\n",
       "      <td>2.068154</td>\n",
       "      <td>2.738538</td>\n",
       "      <td>14284.495663</td>\n",
       "      <td>2.673482</td>\n",
       "      <td>15.165428</td>\n",
       "      <td>2.704461</td>\n",
       "      <td>0.791202</td>\n",
       "      <td>2.809789</td>\n",
       "      <td>7.132590</td>\n",
       "      <td>2.245973</td>\n",
       "      <td>4.220570</td>\n",
       "      <td>1986.076208</td>\n",
       "      <td>NaN</td>\n",
       "    </tr>\n",
       "    <tr>\n",
       "      <th>std</th>\n",
       "      <td>14.591913</td>\n",
       "      <td>1.022357</td>\n",
       "      <td>0.0</td>\n",
       "      <td>6.993559</td>\n",
       "      <td>0.489718</td>\n",
       "      <td>0.711567</td>\n",
       "      <td>1.101344</td>\n",
       "      <td>1.106163</td>\n",
       "      <td>7110.414585</td>\n",
       "      <td>2.506152</td>\n",
       "      <td>3.648610</td>\n",
       "      <td>1.079031</td>\n",
       "      <td>0.842396</td>\n",
       "      <td>1.297765</td>\n",
       "      <td>6.124237</td>\n",
       "      <td>3.235665</td>\n",
       "      <td>3.562695</td>\n",
       "      <td>9.101332</td>\n",
       "      <td>NaN</td>\n",
       "    </tr>\n",
       "    <tr>\n",
       "      <th>min</th>\n",
       "      <td>-49.000000</td>\n",
       "      <td>1.000000</td>\n",
       "      <td>1.0</td>\n",
       "      <td>1.000000</td>\n",
       "      <td>0.000000</td>\n",
       "      <td>1.000000</td>\n",
       "      <td>1.000000</td>\n",
       "      <td>1.000000</td>\n",
       "      <td>2094.000000</td>\n",
       "      <td>0.000000</td>\n",
       "      <td>11.000000</td>\n",
       "      <td>1.000000</td>\n",
       "      <td>0.000000</td>\n",
       "      <td>0.000000</td>\n",
       "      <td>0.000000</td>\n",
       "      <td>0.000000</td>\n",
       "      <td>0.000000</td>\n",
       "      <td>1963.000000</td>\n",
       "      <td>NaN</td>\n",
       "    </tr>\n",
       "    <tr>\n",
       "      <th>25%</th>\n",
       "      <td>2.000000</td>\n",
       "      <td>2.000000</td>\n",
       "      <td>1.0</td>\n",
       "      <td>2.000000</td>\n",
       "      <td>0.000000</td>\n",
       "      <td>2.000000</td>\n",
       "      <td>1.000000</td>\n",
       "      <td>2.000000</td>\n",
       "      <td>8001.000000</td>\n",
       "      <td>1.000000</td>\n",
       "      <td>12.000000</td>\n",
       "      <td>2.000000</td>\n",
       "      <td>0.000000</td>\n",
       "      <td>2.000000</td>\n",
       "      <td>3.000000</td>\n",
       "      <td>0.000000</td>\n",
       "      <td>2.000000</td>\n",
       "      <td>1980.000000</td>\n",
       "      <td>NaN</td>\n",
       "    </tr>\n",
       "    <tr>\n",
       "      <th>50%</th>\n",
       "      <td>5.000000</td>\n",
       "      <td>3.000000</td>\n",
       "      <td>1.0</td>\n",
       "      <td>3.000000</td>\n",
       "      <td>0.000000</td>\n",
       "      <td>3.000000</td>\n",
       "      <td>2.000000</td>\n",
       "      <td>3.000000</td>\n",
       "      <td>14248.500000</td>\n",
       "      <td>2.000000</td>\n",
       "      <td>14.000000</td>\n",
       "      <td>3.000000</td>\n",
       "      <td>1.000000</td>\n",
       "      <td>3.000000</td>\n",
       "      <td>5.000000</td>\n",
       "      <td>1.000000</td>\n",
       "      <td>3.000000</td>\n",
       "      <td>1987.000000</td>\n",
       "      <td>NaN</td>\n",
       "    </tr>\n",
       "    <tr>\n",
       "      <th>75%</th>\n",
       "      <td>11.000000</td>\n",
       "      <td>4.000000</td>\n",
       "      <td>1.0</td>\n",
       "      <td>4.000000</td>\n",
       "      <td>1.000000</td>\n",
       "      <td>3.000000</td>\n",
       "      <td>3.000000</td>\n",
       "      <td>4.000000</td>\n",
       "      <td>20364.000000</td>\n",
       "      <td>4.000000</td>\n",
       "      <td>18.000000</td>\n",
       "      <td>4.000000</td>\n",
       "      <td>1.000000</td>\n",
       "      <td>3.000000</td>\n",
       "      <td>9.000000</td>\n",
       "      <td>3.000000</td>\n",
       "      <td>7.000000</td>\n",
       "      <td>1993.000000</td>\n",
       "      <td>NaN</td>\n",
       "    </tr>\n",
       "    <tr>\n",
       "      <th>max</th>\n",
       "      <td>29.000000</td>\n",
       "      <td>5.000000</td>\n",
       "      <td>1.0</td>\n",
       "      <td>49.000000</td>\n",
       "      <td>1.000000</td>\n",
       "      <td>4.000000</td>\n",
       "      <td>5.000000</td>\n",
       "      <td>4.000000</td>\n",
       "      <td>26999.000000</td>\n",
       "      <td>9.000000</td>\n",
       "      <td>25.000000</td>\n",
       "      <td>4.000000</td>\n",
       "      <td>3.000000</td>\n",
       "      <td>6.000000</td>\n",
       "      <td>40.000000</td>\n",
       "      <td>15.000000</td>\n",
       "      <td>17.000000</td>\n",
       "      <td>2005.000000</td>\n",
       "      <td>NaN</td>\n",
       "    </tr>\n",
       "  </tbody>\n",
       "</table>\n",
       "</div>"
      ],
      "text/plain": [
       "       DistanceFromHome    Education  employeecount  EnvironmentSatisfaction  \\\n",
       "count       1614.000000  1614.000000         1614.0              1614.000000   \n",
       "mean           4.527261     2.925031            1.0                 4.294919   \n",
       "std           14.591913     1.022357            0.0                 6.993559   \n",
       "min          -49.000000     1.000000            1.0                 1.000000   \n",
       "25%            2.000000     2.000000            1.0                 2.000000   \n",
       "50%            5.000000     3.000000            1.0                 3.000000   \n",
       "75%           11.000000     4.000000            1.0                 4.000000   \n",
       "max           29.000000     5.000000            1.0                49.000000   \n",
       "\n",
       "            Gender  JobInvolvement     JobLevel  JobSatisfaction  \\\n",
       "count  1614.000000     1614.000000  1614.000000      1614.000000   \n",
       "mean      0.398389        2.739777     2.068154         2.738538   \n",
       "std       0.489718        0.711567     1.101344         1.106163   \n",
       "min       0.000000        1.000000     1.000000         1.000000   \n",
       "25%       0.000000        2.000000     1.000000         2.000000   \n",
       "50%       0.000000        3.000000     2.000000         3.000000   \n",
       "75%       1.000000        3.000000     3.000000         4.000000   \n",
       "max       1.000000        4.000000     5.000000         4.000000   \n",
       "\n",
       "        MonthlyRate  NUMCOMPANIESWORKED  PercentSalaryHike  \\\n",
       "count   1614.000000         1614.000000        1614.000000   \n",
       "mean   14284.495663            2.673482          15.165428   \n",
       "std     7110.414585            2.506152           3.648610   \n",
       "min     2094.000000            0.000000          11.000000   \n",
       "25%     8001.000000            1.000000          12.000000   \n",
       "50%    14248.500000            2.000000          14.000000   \n",
       "75%    20364.000000            4.000000          18.000000   \n",
       "max    26999.000000            9.000000          25.000000   \n",
       "\n",
       "       RelationshipSatisfaction  StockOptionLevel  TrainingTimesLastYear  \\\n",
       "count               1614.000000       1614.000000            1614.000000   \n",
       "mean                   2.704461          0.791202               2.809789   \n",
       "std                    1.079031          0.842396               1.297765   \n",
       "min                    1.000000          0.000000               0.000000   \n",
       "25%                    2.000000          0.000000               2.000000   \n",
       "50%                    3.000000          1.000000               3.000000   \n",
       "75%                    4.000000          1.000000               3.000000   \n",
       "max                    4.000000          3.000000               6.000000   \n",
       "\n",
       "       YearsAtCompany  YearsSinceLastPromotion  YEARSWITHCURRMANAGER  \\\n",
       "count     1614.000000              1614.000000           1614.000000   \n",
       "mean         7.132590                 2.245973              4.220570   \n",
       "std          6.124237                 3.235665              3.562695   \n",
       "min          0.000000                 0.000000              0.000000   \n",
       "25%          3.000000                 0.000000              2.000000   \n",
       "50%          5.000000                 1.000000              3.000000   \n",
       "75%          9.000000                 3.000000              7.000000   \n",
       "max         40.000000                15.000000             17.000000   \n",
       "\n",
       "         DateBirth  NUMBERCHILDREN  \n",
       "count  1614.000000             0.0  \n",
       "mean   1986.076208             NaN  \n",
       "std       9.101332             NaN  \n",
       "min    1963.000000             NaN  \n",
       "25%    1980.000000             NaN  \n",
       "50%    1987.000000             NaN  \n",
       "75%    1993.000000             NaN  \n",
       "max    2005.000000             NaN  "
      ]
     },
     "metadata": {},
     "output_type": "display_data"
    },
    {
     "name": "stdout",
     "output_type": "stream",
     "text": [
      "🔤 Descripción de columnas categóricas:\n"
     ]
    },
    {
     "data": {
      "application/vnd.microsoft.datawrangler.viewer.v0+json": {
       "columns": [
        {
         "name": "index",
         "rawType": "object",
         "type": "string"
        },
        {
         "name": "Age",
         "rawType": "object",
         "type": "unknown"
        },
        {
         "name": "Attrition",
         "rawType": "object",
         "type": "unknown"
        },
        {
         "name": "BusinessTravel",
         "rawType": "object",
         "type": "unknown"
        },
        {
         "name": "DailyRate",
         "rawType": "object",
         "type": "unknown"
        },
        {
         "name": "Department",
         "rawType": "object",
         "type": "unknown"
        },
        {
         "name": "EducationField",
         "rawType": "object",
         "type": "unknown"
        },
        {
         "name": "employeenumber",
         "rawType": "object",
         "type": "unknown"
        },
        {
         "name": "HourlyRate",
         "rawType": "object",
         "type": "unknown"
        },
        {
         "name": "JobRole",
         "rawType": "object",
         "type": "unknown"
        },
        {
         "name": "MaritalStatus",
         "rawType": "object",
         "type": "unknown"
        },
        {
         "name": "MonthlyIncome",
         "rawType": "object",
         "type": "unknown"
        },
        {
         "name": "Over18",
         "rawType": "object",
         "type": "unknown"
        },
        {
         "name": "OverTime",
         "rawType": "object",
         "type": "unknown"
        },
        {
         "name": "PerformanceRating",
         "rawType": "object",
         "type": "unknown"
        },
        {
         "name": "StandardHours",
         "rawType": "object",
         "type": "unknown"
        },
        {
         "name": "TOTALWORKINGYEARS",
         "rawType": "object",
         "type": "unknown"
        },
        {
         "name": "WORKLIFEBALANCE",
         "rawType": "object",
         "type": "unknown"
        },
        {
         "name": "YearsInCurrentRole",
         "rawType": "object",
         "type": "unknown"
        },
        {
         "name": "SameAsMonthlyIncome",
         "rawType": "object",
         "type": "unknown"
        },
        {
         "name": "Salary",
         "rawType": "object",
         "type": "unknown"
        },
        {
         "name": "RoleDepartament",
         "rawType": "object",
         "type": "unknown"
        },
        {
         "name": "RemoteWork",
         "rawType": "object",
         "type": "unknown"
        }
       ],
       "ref": "2ec12b5b-f840-4b40-9c82-fc5ea9e55177",
       "rows": [
        [
         "count",
         "1614",
         "1614",
         "842",
         "1614",
         "302",
         "869",
         "1183",
         "1614",
         "1614",
         "963",
         "771",
         "713",
         "938",
         "1419",
         "419",
         "1088",
         "1506",
         "34",
         "771",
         "1614",
         "302",
         "1614"
        ],
        [
         "unique",
         "54",
         "2",
         "3",
         "849",
         "3",
         "6",
         "1079",
         "72",
         "1579",
         "5",
         "668",
         "1",
         "2",
         "2",
         "1",
         "40",
         "4",
         "10",
         "668",
         "1",
         "301",
         "5"
        ],
        [
         "top",
         "35",
         "No",
         "travel_rarely",
         "nan$",
         " Research & Development ",
         "Life Sciences",
         "482,0",
         "Not Available",
         " mANager ",
         "Married",
         "6347,0",
         "Y",
         "No",
         "3,0",
         "80,0",
         "10,0",
         "3,0",
         "2,0",
         "6347,0",
         "1000000000$",
         " MaNAgeR  -  Sales ",
         "1"
        ],
        [
         "freq",
         "84",
         "1355",
         "586",
         "124",
         "196",
         "349",
         "2",
         "84",
         "4",
         "404",
         "4",
         "713",
         "682",
         "1205",
         "419",
         "144",
         "913",
         "11",
         "4",
         "1614",
         "2",
         "360"
        ]
       ],
       "shape": {
        "columns": 22,
        "rows": 4
       }
      },
      "text/html": [
       "<div>\n",
       "<style scoped>\n",
       "    .dataframe tbody tr th:only-of-type {\n",
       "        vertical-align: middle;\n",
       "    }\n",
       "\n",
       "    .dataframe tbody tr th {\n",
       "        vertical-align: top;\n",
       "    }\n",
       "\n",
       "    .dataframe thead th {\n",
       "        text-align: right;\n",
       "    }\n",
       "</style>\n",
       "<table border=\"1\" class=\"dataframe\">\n",
       "  <thead>\n",
       "    <tr style=\"text-align: right;\">\n",
       "      <th></th>\n",
       "      <th>Age</th>\n",
       "      <th>Attrition</th>\n",
       "      <th>BusinessTravel</th>\n",
       "      <th>DailyRate</th>\n",
       "      <th>Department</th>\n",
       "      <th>EducationField</th>\n",
       "      <th>employeenumber</th>\n",
       "      <th>HourlyRate</th>\n",
       "      <th>JobRole</th>\n",
       "      <th>MaritalStatus</th>\n",
       "      <th>MonthlyIncome</th>\n",
       "      <th>Over18</th>\n",
       "      <th>OverTime</th>\n",
       "      <th>PerformanceRating</th>\n",
       "      <th>StandardHours</th>\n",
       "      <th>TOTALWORKINGYEARS</th>\n",
       "      <th>WORKLIFEBALANCE</th>\n",
       "      <th>YearsInCurrentRole</th>\n",
       "      <th>SameAsMonthlyIncome</th>\n",
       "      <th>Salary</th>\n",
       "      <th>RoleDepartament</th>\n",
       "      <th>RemoteWork</th>\n",
       "    </tr>\n",
       "  </thead>\n",
       "  <tbody>\n",
       "    <tr>\n",
       "      <th>count</th>\n",
       "      <td>1614</td>\n",
       "      <td>1614</td>\n",
       "      <td>842</td>\n",
       "      <td>1614</td>\n",
       "      <td>302</td>\n",
       "      <td>869</td>\n",
       "      <td>1183</td>\n",
       "      <td>1614</td>\n",
       "      <td>1614</td>\n",
       "      <td>963</td>\n",
       "      <td>771</td>\n",
       "      <td>713</td>\n",
       "      <td>938</td>\n",
       "      <td>1419</td>\n",
       "      <td>419</td>\n",
       "      <td>1088</td>\n",
       "      <td>1506</td>\n",
       "      <td>34</td>\n",
       "      <td>771</td>\n",
       "      <td>1614</td>\n",
       "      <td>302</td>\n",
       "      <td>1614</td>\n",
       "    </tr>\n",
       "    <tr>\n",
       "      <th>unique</th>\n",
       "      <td>54</td>\n",
       "      <td>2</td>\n",
       "      <td>3</td>\n",
       "      <td>849</td>\n",
       "      <td>3</td>\n",
       "      <td>6</td>\n",
       "      <td>1079</td>\n",
       "      <td>72</td>\n",
       "      <td>1579</td>\n",
       "      <td>5</td>\n",
       "      <td>668</td>\n",
       "      <td>1</td>\n",
       "      <td>2</td>\n",
       "      <td>2</td>\n",
       "      <td>1</td>\n",
       "      <td>40</td>\n",
       "      <td>4</td>\n",
       "      <td>10</td>\n",
       "      <td>668</td>\n",
       "      <td>1</td>\n",
       "      <td>301</td>\n",
       "      <td>5</td>\n",
       "    </tr>\n",
       "    <tr>\n",
       "      <th>top</th>\n",
       "      <td>35</td>\n",
       "      <td>No</td>\n",
       "      <td>travel_rarely</td>\n",
       "      <td>nan$</td>\n",
       "      <td>Research &amp; Development</td>\n",
       "      <td>Life Sciences</td>\n",
       "      <td>482,0</td>\n",
       "      <td>Not Available</td>\n",
       "      <td>mANager</td>\n",
       "      <td>Married</td>\n",
       "      <td>6347,0</td>\n",
       "      <td>Y</td>\n",
       "      <td>No</td>\n",
       "      <td>3,0</td>\n",
       "      <td>80,0</td>\n",
       "      <td>10,0</td>\n",
       "      <td>3,0</td>\n",
       "      <td>2,0</td>\n",
       "      <td>6347,0</td>\n",
       "      <td>1000000000$</td>\n",
       "      <td>MaNAgeR  -  Sales</td>\n",
       "      <td>1</td>\n",
       "    </tr>\n",
       "    <tr>\n",
       "      <th>freq</th>\n",
       "      <td>84</td>\n",
       "      <td>1355</td>\n",
       "      <td>586</td>\n",
       "      <td>124</td>\n",
       "      <td>196</td>\n",
       "      <td>349</td>\n",
       "      <td>2</td>\n",
       "      <td>84</td>\n",
       "      <td>4</td>\n",
       "      <td>404</td>\n",
       "      <td>4</td>\n",
       "      <td>713</td>\n",
       "      <td>682</td>\n",
       "      <td>1205</td>\n",
       "      <td>419</td>\n",
       "      <td>144</td>\n",
       "      <td>913</td>\n",
       "      <td>11</td>\n",
       "      <td>4</td>\n",
       "      <td>1614</td>\n",
       "      <td>2</td>\n",
       "      <td>360</td>\n",
       "    </tr>\n",
       "  </tbody>\n",
       "</table>\n",
       "</div>"
      ],
      "text/plain": [
       "         Age Attrition BusinessTravel DailyRate                Department  \\\n",
       "count   1614      1614            842      1614                       302   \n",
       "unique    54         2              3       849                         3   \n",
       "top       35        No  travel_rarely      nan$   Research & Development    \n",
       "freq      84      1355            586       124                       196   \n",
       "\n",
       "       EducationField employeenumber     HourlyRate    JobRole MaritalStatus  \\\n",
       "count             869           1183           1614       1614           963   \n",
       "unique              6           1079             72       1579             5   \n",
       "top     Life Sciences          482,0  Not Available   mANager        Married   \n",
       "freq              349              2             84          4           404   \n",
       "\n",
       "       MonthlyIncome Over18 OverTime PerformanceRating StandardHours  \\\n",
       "count            771    713      938              1419           419   \n",
       "unique           668      1        2                 2             1   \n",
       "top           6347,0      Y       No               3,0          80,0   \n",
       "freq               4    713      682              1205           419   \n",
       "\n",
       "       TOTALWORKINGYEARS WORKLIFEBALANCE YearsInCurrentRole  \\\n",
       "count               1088            1506                 34   \n",
       "unique                40               4                 10   \n",
       "top                 10,0             3,0                2,0   \n",
       "freq                 144             913                 11   \n",
       "\n",
       "       SameAsMonthlyIncome       Salary      RoleDepartament RemoteWork  \n",
       "count                  771         1614                  302       1614  \n",
       "unique                 668            1                  301          5  \n",
       "top                 6347,0  1000000000$   MaNAgeR  -  Sales           1  \n",
       "freq                     4         1614                    2        360  "
      ]
     },
     "metadata": {},
     "output_type": "display_data"
    },
    {
     "name": "stdout",
     "output_type": "stream",
     "text": [
      "🚫 Valores nulos por columna:\n"
     ]
    },
    {
     "data": {
      "application/vnd.microsoft.datawrangler.viewer.v0+json": {
       "columns": [
        {
         "name": "index",
         "rawType": "object",
         "type": "string"
        },
        {
         "name": "0",
         "rawType": "int64",
         "type": "integer"
        }
       ],
       "ref": "c2de654e-dadf-4643-9de7-3573250cd759",
       "rows": [
        [
         "Age",
         "0"
        ],
        [
         "Attrition",
         "0"
        ],
        [
         "BusinessTravel",
         "772"
        ],
        [
         "DailyRate",
         "0"
        ],
        [
         "Department",
         "1312"
        ],
        [
         "DistanceFromHome",
         "0"
        ],
        [
         "Education",
         "0"
        ],
        [
         "EducationField",
         "745"
        ],
        [
         "employeecount",
         "0"
        ],
        [
         "employeenumber",
         "431"
        ],
        [
         "EnvironmentSatisfaction",
         "0"
        ],
        [
         "Gender",
         "0"
        ],
        [
         "HourlyRate",
         "0"
        ],
        [
         "JobInvolvement",
         "0"
        ],
        [
         "JobLevel",
         "0"
        ],
        [
         "JobRole",
         "0"
        ],
        [
         "JobSatisfaction",
         "0"
        ],
        [
         "MaritalStatus",
         "651"
        ],
        [
         "MonthlyIncome",
         "843"
        ],
        [
         "MonthlyRate",
         "0"
        ],
        [
         "NUMCOMPANIESWORKED",
         "0"
        ],
        [
         "Over18",
         "901"
        ],
        [
         "OverTime",
         "676"
        ],
        [
         "PercentSalaryHike",
         "0"
        ],
        [
         "PerformanceRating",
         "195"
        ],
        [
         "RelationshipSatisfaction",
         "0"
        ],
        [
         "StandardHours",
         "1195"
        ],
        [
         "StockOptionLevel",
         "0"
        ],
        [
         "TOTALWORKINGYEARS",
         "526"
        ],
        [
         "TrainingTimesLastYear",
         "0"
        ],
        [
         "WORKLIFEBALANCE",
         "108"
        ],
        [
         "YearsAtCompany",
         "0"
        ],
        [
         "YearsInCurrentRole",
         "1580"
        ],
        [
         "YearsSinceLastPromotion",
         "0"
        ],
        [
         "YEARSWITHCURRMANAGER",
         "0"
        ],
        [
         "SameAsMonthlyIncome",
         "843"
        ],
        [
         "DateBirth",
         "0"
        ],
        [
         "Salary",
         "0"
        ],
        [
         "RoleDepartament",
         "1312"
        ],
        [
         "NUMBERCHILDREN",
         "1614"
        ],
        [
         "RemoteWork",
         "0"
        ]
       ],
       "shape": {
        "columns": 1,
        "rows": 41
       }
      },
      "text/plain": [
       "Age                            0\n",
       "Attrition                      0\n",
       "BusinessTravel               772\n",
       "DailyRate                      0\n",
       "Department                  1312\n",
       "DistanceFromHome               0\n",
       "Education                      0\n",
       "EducationField               745\n",
       "employeecount                  0\n",
       "employeenumber               431\n",
       "EnvironmentSatisfaction        0\n",
       "Gender                         0\n",
       "HourlyRate                     0\n",
       "JobInvolvement                 0\n",
       "JobLevel                       0\n",
       "JobRole                        0\n",
       "JobSatisfaction                0\n",
       "MaritalStatus                651\n",
       "MonthlyIncome                843\n",
       "MonthlyRate                    0\n",
       "NUMCOMPANIESWORKED             0\n",
       "Over18                       901\n",
       "OverTime                     676\n",
       "PercentSalaryHike              0\n",
       "PerformanceRating            195\n",
       "RelationshipSatisfaction       0\n",
       "StandardHours               1195\n",
       "StockOptionLevel               0\n",
       "TOTALWORKINGYEARS            526\n",
       "TrainingTimesLastYear          0\n",
       "WORKLIFEBALANCE              108\n",
       "YearsAtCompany                 0\n",
       "YearsInCurrentRole          1580\n",
       "YearsSinceLastPromotion        0\n",
       "YEARSWITHCURRMANAGER           0\n",
       "SameAsMonthlyIncome          843\n",
       "DateBirth                      0\n",
       "Salary                         0\n",
       "RoleDepartament             1312\n",
       "NUMBERCHILDREN              1614\n",
       "RemoteWork                     0\n",
       "dtype: int64"
      ]
     },
     "metadata": {},
     "output_type": "display_data"
    },
    {
     "name": "stdout",
     "output_type": "stream",
     "text": [
      "📎 Filas duplicadas:\n",
      "Duplicadas: 0\n",
      "No hay filas duplicadas.\n",
      "\n"
     ]
    }
   ],
   "source": [
    "eda_basico(df)"
   ]
  },
  {
   "cell_type": "markdown",
   "id": "930f0c49",
   "metadata": {},
   "source": [
    "**Acciones pendientes:** \n",
    "\n",
    "1. Corregir los encabezados de las columnas (ponerlos en castellano, en minúsculas y sin espacios)\n",
    "2. Eliminar las columnas innecesarias\n",
    "3. Corregir el contenido de las filas (minúsculas, sin espacios, símbolos, etc.)(CREAR UNA FUNCIÓN)\n",
    "    - La edad está en letra y debería estar en número\n",
    "    - La columna de teletrabajo tiene datos en distintos formatos. \n",
    "    - Cuando aparecen cifras de 2 dígitos, la correcta es la primera. \n",
    "4. Poner bien los dtypes de las columnas (int,float, object...)\n",
    "\n",
    "IMPORTANTE! Al finalizar guardar el csv modificado. "
   ]
  },
  {
   "attachments": {
    "image.png": {
     "image/png": "[encoded data removed]"
    }
   },
   "cell_type": "markdown",
   "id": "1a50519e",
   "metadata": {},
   "source": [
    "<u>Tabla resumen: </u>\n",
    "\n",
    "![image.png](attachment:image.png)"
   ]
  }
 ],
 "metadata": {
  "kernelspec": {
   "display_name": "base",
   "language": "python",
   "name": "python3"
  },
  "language_info": {
   "codemirror_mode": {
    "name": "ipython",
    "version": 3
   },
   "file_extension": ".py",
   "mimetype": "text/x-python",
   "name": "python",
   "nbconvert_exporter": "python",
   "pygments_lexer": "ipython3",
   "version": "3.12.4"
  }
 },
 "nbformat": 4,
 "nbformat_minor": 5
}
